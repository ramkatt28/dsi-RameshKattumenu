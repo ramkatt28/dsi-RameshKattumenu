{
 "cells": [
  {
   "cell_type": "markdown",
   "metadata": {},
   "source": [
    "Load packages"
   ]
  },
  {
   "cell_type": "code",
   "execution_count": 23,
   "metadata": {
    "collapsed": true
   },
   "outputs": [],
   "source": [
    "# import all needed packages in first cell\n",
    "import pandas as pd\n",
    "% matplotlib inline"
   ]
  },
  {
   "cell_type": "markdown",
   "metadata": {},
   "source": [
    "Load the csv downloaded from import.io"
   ]
  },
  {
   "cell_type": "code",
   "execution_count": 15,
   "metadata": {
    "collapsed": false
   },
   "outputs": [
    {
     "data": {
      "text/html": [
       "<div>\n",
       "<table border=\"1\" class=\"dataframe\">\n",
       "  <thead>\n",
       "    <tr style=\"text-align: right;\">\n",
       "      <th></th>\n",
       "      <th>﻿rank_number</th>\n",
       "      <th>score_number</th>\n",
       "      <th>scoreunvoted_number</th>\n",
       "      <th>scorelikes_number</th>\n",
       "      <th>thumbnailmay_link</th>\n",
       "      <th>thumbnailmay_link/_text</th>\n",
       "      <th>thumbnailmay_link/_title</th>\n",
       "      <th>thumbnailmay_image</th>\n",
       "      <th>thumbnailmay_image/_alt</th>\n",
       "      <th>titlemay_link</th>\n",
       "      <th>...</th>\n",
       "      <th>to_label</th>\n",
       "      <th>to_link</th>\n",
       "      <th>to_link/_text</th>\n",
       "      <th>to_link/_title</th>\n",
       "      <th>bylinkmay_link</th>\n",
       "      <th>bylinkmay_link/_text</th>\n",
       "      <th>bylinkmay_link/_title</th>\n",
       "      <th>bylinkmay_link_numbers</th>\n",
       "      <th>share_label</th>\n",
       "      <th>loading_label</th>\n",
       "    </tr>\n",
       "  </thead>\n",
       "  <tbody>\n",
       "    <tr>\n",
       "      <th>0</th>\n",
       "      <td>1</td>\n",
       "      <td>5964</td>\n",
       "      <td>5965</td>\n",
       "      <td>5966</td>\n",
       "      <td>http://www.lisamcpherson.org/</td>\n",
       "      <td>NaN</td>\n",
       "      <td>NaN</td>\n",
       "      <td>https://b.thumbs.redditmedia.com/5S0UAjChKDfGR...</td>\n",
       "      <td>NaN</td>\n",
       "      <td>http://www.lisamcpherson.org/</td>\n",
       "      <td>...</td>\n",
       "      <td>to</td>\n",
       "      <td>https://www.reddit.com/r/todayilearned/</td>\n",
       "      <td>/r/todayilearned</td>\n",
       "      <td>NaN</td>\n",
       "      <td>https://www.reddit.com/r/todayilearned/comment...</td>\n",
       "      <td>711 comments</td>\n",
       "      <td>NaN</td>\n",
       "      <td>711</td>\n",
       "      <td>share</td>\n",
       "      <td>loading...</td>\n",
       "    </tr>\n",
       "    <tr>\n",
       "      <th>1</th>\n",
       "      <td>2</td>\n",
       "      <td>6586</td>\n",
       "      <td>6587</td>\n",
       "      <td>6588</td>\n",
       "      <td>http://i.imgur.com/kEMUs.png</td>\n",
       "      <td>NaN</td>\n",
       "      <td>NaN</td>\n",
       "      <td>https://b.thumbs.redditmedia.com/D--exp35ZVhQ8...</td>\n",
       "      <td>NaN</td>\n",
       "      <td>http://i.imgur.com/kEMUs.png</td>\n",
       "      <td>...</td>\n",
       "      <td>to</td>\n",
       "      <td>https://www.reddit.com/r/gaming/</td>\n",
       "      <td>/r/gaming</td>\n",
       "      <td>NaN</td>\n",
       "      <td>https://www.reddit.com/r/gaming/comments/4cggb...</td>\n",
       "      <td>1189 comments</td>\n",
       "      <td>NaN</td>\n",
       "      <td>1189</td>\n",
       "      <td>share</td>\n",
       "      <td>loading...</td>\n",
       "    </tr>\n",
       "    <tr>\n",
       "      <th>2</th>\n",
       "      <td>3</td>\n",
       "      <td>6263</td>\n",
       "      <td>6264</td>\n",
       "      <td>6265</td>\n",
       "      <td>NaN</td>\n",
       "      <td>NaN</td>\n",
       "      <td>NaN</td>\n",
       "      <td>NaN</td>\n",
       "      <td>NaN</td>\n",
       "      <td>http://www.bbc.com/news/world-africa-35898715</td>\n",
       "      <td>...</td>\n",
       "      <td>to</td>\n",
       "      <td>https://www.reddit.com/r/news/</td>\n",
       "      <td>/r/news</td>\n",
       "      <td>NaN</td>\n",
       "      <td>https://www.reddit.com/r/news/comments/4cfzck/...</td>\n",
       "      <td>1936 comments</td>\n",
       "      <td>NaN</td>\n",
       "      <td>1936</td>\n",
       "      <td>share</td>\n",
       "      <td>loading...</td>\n",
       "    </tr>\n",
       "    <tr>\n",
       "      <th>3</th>\n",
       "      <td>4</td>\n",
       "      <td>6149</td>\n",
       "      <td>6150</td>\n",
       "      <td>6151</td>\n",
       "      <td>http://imgur.com/gallery/Z63E8/new</td>\n",
       "      <td>NaN</td>\n",
       "      <td>NaN</td>\n",
       "      <td>https://b.thumbs.redditmedia.com/_wChsbR9FJ5k4...</td>\n",
       "      <td>NaN</td>\n",
       "      <td>http://imgur.com/gallery/Z63E8/new</td>\n",
       "      <td>...</td>\n",
       "      <td>to</td>\n",
       "      <td>https://www.reddit.com/r/pics/</td>\n",
       "      <td>/r/pics</td>\n",
       "      <td>NaN</td>\n",
       "      <td>https://www.reddit.com/r/pics/comments/4cfyke/...</td>\n",
       "      <td>1615 comments</td>\n",
       "      <td>NaN</td>\n",
       "      <td>1615</td>\n",
       "      <td>share</td>\n",
       "      <td>loading...</td>\n",
       "    </tr>\n",
       "    <tr>\n",
       "      <th>4</th>\n",
       "      <td>5</td>\n",
       "      <td>5517</td>\n",
       "      <td>5518</td>\n",
       "      <td>5519</td>\n",
       "      <td>http://imgur.com/pka4iQT</td>\n",
       "      <td>NaN</td>\n",
       "      <td>NaN</td>\n",
       "      <td>https://b.thumbs.redditmedia.com/K2Jb7mTOKFHEA...</td>\n",
       "      <td>NaN</td>\n",
       "      <td>http://imgur.com/pka4iQT</td>\n",
       "      <td>...</td>\n",
       "      <td>to</td>\n",
       "      <td>https://www.reddit.com/r/funny/</td>\n",
       "      <td>/r/funny</td>\n",
       "      <td>NaN</td>\n",
       "      <td>https://www.reddit.com/r/funny/comments/4cg13d...</td>\n",
       "      <td>555 comments</td>\n",
       "      <td>NaN</td>\n",
       "      <td>555</td>\n",
       "      <td>share</td>\n",
       "      <td>loading...</td>\n",
       "    </tr>\n",
       "  </tbody>\n",
       "</table>\n",
       "<p>5 rows × 41 columns</p>\n",
       "</div>"
      ],
      "text/plain": [
       "   ﻿rank_number  score_number  scoreunvoted_number  scorelikes_number  \\\n",
       "0             1          5964                 5965               5966   \n",
       "1             2          6586                 6587               6588   \n",
       "2             3          6263                 6264               6265   \n",
       "3             4          6149                 6150               6151   \n",
       "4             5          5517                 5518               5519   \n",
       "\n",
       "                    thumbnailmay_link  thumbnailmay_link/_text  \\\n",
       "0       http://www.lisamcpherson.org/                      NaN   \n",
       "1        http://i.imgur.com/kEMUs.png                      NaN   \n",
       "2                                 NaN                      NaN   \n",
       "3  http://imgur.com/gallery/Z63E8/new                      NaN   \n",
       "4            http://imgur.com/pka4iQT                      NaN   \n",
       "\n",
       "   thumbnailmay_link/_title  \\\n",
       "0                       NaN   \n",
       "1                       NaN   \n",
       "2                       NaN   \n",
       "3                       NaN   \n",
       "4                       NaN   \n",
       "\n",
       "                                  thumbnailmay_image  thumbnailmay_image/_alt  \\\n",
       "0  https://b.thumbs.redditmedia.com/5S0UAjChKDfGR...                      NaN   \n",
       "1  https://b.thumbs.redditmedia.com/D--exp35ZVhQ8...                      NaN   \n",
       "2                                                NaN                      NaN   \n",
       "3  https://b.thumbs.redditmedia.com/_wChsbR9FJ5k4...                      NaN   \n",
       "4  https://b.thumbs.redditmedia.com/K2Jb7mTOKFHEA...                      NaN   \n",
       "\n",
       "                                   titlemay_link      ...      to_label  \\\n",
       "0                  http://www.lisamcpherson.org/      ...            to   \n",
       "1                   http://i.imgur.com/kEMUs.png      ...            to   \n",
       "2  http://www.bbc.com/news/world-africa-35898715      ...            to   \n",
       "3             http://imgur.com/gallery/Z63E8/new      ...            to   \n",
       "4                       http://imgur.com/pka4iQT      ...            to   \n",
       "\n",
       "                                   to_link     to_link/_text to_link/_title  \\\n",
       "0  https://www.reddit.com/r/todayilearned/  /r/todayilearned            NaN   \n",
       "1         https://www.reddit.com/r/gaming/         /r/gaming            NaN   \n",
       "2           https://www.reddit.com/r/news/           /r/news            NaN   \n",
       "3           https://www.reddit.com/r/pics/           /r/pics            NaN   \n",
       "4          https://www.reddit.com/r/funny/          /r/funny            NaN   \n",
       "\n",
       "                                      bylinkmay_link bylinkmay_link/_text  \\\n",
       "0  https://www.reddit.com/r/todayilearned/comment...         711 comments   \n",
       "1  https://www.reddit.com/r/gaming/comments/4cggb...        1189 comments   \n",
       "2  https://www.reddit.com/r/news/comments/4cfzck/...        1936 comments   \n",
       "3  https://www.reddit.com/r/pics/comments/4cfyke/...        1615 comments   \n",
       "4  https://www.reddit.com/r/funny/comments/4cg13d...         555 comments   \n",
       "\n",
       "  bylinkmay_link/_title  bylinkmay_link_numbers share_label loading_label  \n",
       "0                   NaN                     711       share    loading...  \n",
       "1                   NaN                    1189       share    loading...  \n",
       "2                   NaN                    1936       share    loading...  \n",
       "3                   NaN                    1615       share    loading...  \n",
       "4                   NaN                     555       share    loading...  \n",
       "\n",
       "[5 rows x 41 columns]"
      ]
     },
     "execution_count": 15,
     "metadata": {},
     "output_type": "execute_result"
    }
   ],
   "source": [
    "df = pd.read_csv(\"yahoo_site.csv\")\n",
    "df2=pd.read_csv('../../assets/datasets/importio_reddit.csv')\n",
    "df2.head()"
   ]
  },
  {
   "cell_type": "code",
   "execution_count": null,
   "metadata": {
    "collapsed": false
   },
   "outputs": [],
   "source": [
    "# keep all functions in one cell, call them when you need them. \n",
    "def read_file(path): # path = dynamic input parameter\n",
    "    return pd.read_csv(path)"
   ]
  },
  {
   "cell_type": "code",
   "execution_count": null,
   "metadata": {
    "collapsed": true
   },
   "outputs": [],
   "source": [
    "# csv_file stored in the github assets folder,\n",
    "# use the path below to read in dataset as dataFrame by using read_file(path) function\n",
    "# call the dataframe reddit\n",
    "path = '../../assets/data/importio_reddit.csv'"
   ]
  },
  {
   "cell_type": "code",
   "execution_count": null,
   "metadata": {
    "collapsed": false
   },
   "outputs": [],
   "source": [
    "# get the data dictionary"
   ]
  },
  {
   "cell_type": "markdown",
   "metadata": {},
   "source": [
    "Examine the loaded data with the head() function"
   ]
  },
  {
   "cell_type": "code",
   "execution_count": null,
   "metadata": {
    "collapsed": false
   },
   "outputs": [],
   "source": [
    "# get first couple rows of the dataFrame"
   ]
  },
  {
   "cell_type": "markdown",
   "metadata": {},
   "source": [
    "What are the names of the columns?"
   ]
  },
  {
   "cell_type": "code",
   "execution_count": 16,
   "metadata": {
    "collapsed": false
   },
   "outputs": [
    {
     "data": {
      "text/plain": [
       "Index([u'﻿rank_number', u'score_number', u'scoreunvoted_number',\n",
       "       u'scorelikes_number', u'thumbnailmay_link', u'thumbnailmay_link/_text',\n",
       "       u'thumbnailmay_link/_title', u'thumbnailmay_image',\n",
       "       u'thumbnailmay_image/_alt', u'titlemay_link', u'titlemay_link/_text',\n",
       "       u'titlemay_link/_title', u'titlemay_link_prices',\n",
       "       u'linkflairlabel_value', u'label_1', u'domain_link',\n",
       "       u'domain_link/_text', u'domain_link/_title', u'label_2',\n",
       "       u'submitted_label', u'submitted_value', u'submitted_value_numbers',\n",
       "       u'edited_value', u'by_label', u'by_link', u'by_link/_text',\n",
       "       u'by_link/_title', u'userattrs_content', u'userattrs_link',\n",
       "       u'userattrs_link/_text', u'userattrs_link/_title', u'to_label',\n",
       "       u'to_link', u'to_link/_text', u'to_link/_title', u'bylinkmay_link',\n",
       "       u'bylinkmay_link/_text', u'bylinkmay_link/_title',\n",
       "       u'bylinkmay_link_numbers', u'share_label', u'loading_label'],\n",
       "      dtype='object')"
      ]
     },
     "execution_count": 16,
     "metadata": {},
     "output_type": "execute_result"
    }
   ],
   "source": [
    "df.columns\n",
    "df2.columns"
   ]
  },
  {
   "cell_type": "markdown",
   "metadata": {},
   "source": [
    "Print one of the columns. You will see it is a strange text format."
   ]
  },
  {
   "cell_type": "code",
   "execution_count": 17,
   "metadata": {
    "collapsed": false
   },
   "outputs": [
    {
     "ename": "KeyError",
     "evalue": "'rank_number'",
     "output_type": "error",
     "traceback": [
      "\u001b[0;31m---------------------------------------------------------------------------\u001b[0m",
      "\u001b[0;31mKeyError\u001b[0m                                  Traceback (most recent call last)",
      "\u001b[0;32m<ipython-input-17-1c2dbd6047af>\u001b[0m in \u001b[0;36m<module>\u001b[0;34m()\u001b[0m\n\u001b[0;32m----> 1\u001b[0;31m \u001b[0mdf\u001b[0m\u001b[0;34m[\u001b[0m\u001b[0;34m'rank_number'\u001b[0m\u001b[0;34m]\u001b[0m\u001b[0;34m\u001b[0m\u001b[0m\n\u001b[0m",
      "\u001b[0;32m//anaconda/lib/python2.7/site-packages/pandas/core/frame.pyc\u001b[0m in \u001b[0;36m__getitem__\u001b[0;34m(self, key)\u001b[0m\n\u001b[1;32m   1995\u001b[0m             \u001b[0;32mreturn\u001b[0m \u001b[0mself\u001b[0m\u001b[0;34m.\u001b[0m\u001b[0m_getitem_multilevel\u001b[0m\u001b[0;34m(\u001b[0m\u001b[0mkey\u001b[0m\u001b[0;34m)\u001b[0m\u001b[0;34m\u001b[0m\u001b[0m\n\u001b[1;32m   1996\u001b[0m         \u001b[0;32melse\u001b[0m\u001b[0;34m:\u001b[0m\u001b[0;34m\u001b[0m\u001b[0m\n\u001b[0;32m-> 1997\u001b[0;31m             \u001b[0;32mreturn\u001b[0m \u001b[0mself\u001b[0m\u001b[0;34m.\u001b[0m\u001b[0m_getitem_column\u001b[0m\u001b[0;34m(\u001b[0m\u001b[0mkey\u001b[0m\u001b[0;34m)\u001b[0m\u001b[0;34m\u001b[0m\u001b[0m\n\u001b[0m\u001b[1;32m   1998\u001b[0m \u001b[0;34m\u001b[0m\u001b[0m\n\u001b[1;32m   1999\u001b[0m     \u001b[0;32mdef\u001b[0m \u001b[0m_getitem_column\u001b[0m\u001b[0;34m(\u001b[0m\u001b[0mself\u001b[0m\u001b[0;34m,\u001b[0m \u001b[0mkey\u001b[0m\u001b[0;34m)\u001b[0m\u001b[0;34m:\u001b[0m\u001b[0;34m\u001b[0m\u001b[0m\n",
      "\u001b[0;32m//anaconda/lib/python2.7/site-packages/pandas/core/frame.pyc\u001b[0m in \u001b[0;36m_getitem_column\u001b[0;34m(self, key)\u001b[0m\n\u001b[1;32m   2002\u001b[0m         \u001b[0;31m# get column\u001b[0m\u001b[0;34m\u001b[0m\u001b[0;34m\u001b[0m\u001b[0m\n\u001b[1;32m   2003\u001b[0m         \u001b[0;32mif\u001b[0m \u001b[0mself\u001b[0m\u001b[0;34m.\u001b[0m\u001b[0mcolumns\u001b[0m\u001b[0;34m.\u001b[0m\u001b[0mis_unique\u001b[0m\u001b[0;34m:\u001b[0m\u001b[0;34m\u001b[0m\u001b[0m\n\u001b[0;32m-> 2004\u001b[0;31m             \u001b[0;32mreturn\u001b[0m \u001b[0mself\u001b[0m\u001b[0;34m.\u001b[0m\u001b[0m_get_item_cache\u001b[0m\u001b[0;34m(\u001b[0m\u001b[0mkey\u001b[0m\u001b[0;34m)\u001b[0m\u001b[0;34m\u001b[0m\u001b[0m\n\u001b[0m\u001b[1;32m   2005\u001b[0m \u001b[0;34m\u001b[0m\u001b[0m\n\u001b[1;32m   2006\u001b[0m         \u001b[0;31m# duplicate columns & possible reduce dimensionality\u001b[0m\u001b[0;34m\u001b[0m\u001b[0;34m\u001b[0m\u001b[0m\n",
      "\u001b[0;32m//anaconda/lib/python2.7/site-packages/pandas/core/generic.pyc\u001b[0m in \u001b[0;36m_get_item_cache\u001b[0;34m(self, item)\u001b[0m\n\u001b[1;32m   1348\u001b[0m         \u001b[0mres\u001b[0m \u001b[0;34m=\u001b[0m \u001b[0mcache\u001b[0m\u001b[0;34m.\u001b[0m\u001b[0mget\u001b[0m\u001b[0;34m(\u001b[0m\u001b[0mitem\u001b[0m\u001b[0;34m)\u001b[0m\u001b[0;34m\u001b[0m\u001b[0m\n\u001b[1;32m   1349\u001b[0m         \u001b[0;32mif\u001b[0m \u001b[0mres\u001b[0m \u001b[0;32mis\u001b[0m \u001b[0mNone\u001b[0m\u001b[0;34m:\u001b[0m\u001b[0;34m\u001b[0m\u001b[0m\n\u001b[0;32m-> 1350\u001b[0;31m             \u001b[0mvalues\u001b[0m \u001b[0;34m=\u001b[0m \u001b[0mself\u001b[0m\u001b[0;34m.\u001b[0m\u001b[0m_data\u001b[0m\u001b[0;34m.\u001b[0m\u001b[0mget\u001b[0m\u001b[0;34m(\u001b[0m\u001b[0mitem\u001b[0m\u001b[0;34m)\u001b[0m\u001b[0;34m\u001b[0m\u001b[0m\n\u001b[0m\u001b[1;32m   1351\u001b[0m             \u001b[0mres\u001b[0m \u001b[0;34m=\u001b[0m \u001b[0mself\u001b[0m\u001b[0;34m.\u001b[0m\u001b[0m_box_item_values\u001b[0m\u001b[0;34m(\u001b[0m\u001b[0mitem\u001b[0m\u001b[0;34m,\u001b[0m \u001b[0mvalues\u001b[0m\u001b[0;34m)\u001b[0m\u001b[0;34m\u001b[0m\u001b[0m\n\u001b[1;32m   1352\u001b[0m             \u001b[0mcache\u001b[0m\u001b[0;34m[\u001b[0m\u001b[0mitem\u001b[0m\u001b[0;34m]\u001b[0m \u001b[0;34m=\u001b[0m \u001b[0mres\u001b[0m\u001b[0;34m\u001b[0m\u001b[0m\n",
      "\u001b[0;32m//anaconda/lib/python2.7/site-packages/pandas/core/internals.pyc\u001b[0m in \u001b[0;36mget\u001b[0;34m(self, item, fastpath)\u001b[0m\n\u001b[1;32m   3288\u001b[0m \u001b[0;34m\u001b[0m\u001b[0m\n\u001b[1;32m   3289\u001b[0m             \u001b[0;32mif\u001b[0m \u001b[0;32mnot\u001b[0m \u001b[0misnull\u001b[0m\u001b[0;34m(\u001b[0m\u001b[0mitem\u001b[0m\u001b[0;34m)\u001b[0m\u001b[0;34m:\u001b[0m\u001b[0;34m\u001b[0m\u001b[0m\n\u001b[0;32m-> 3290\u001b[0;31m                 \u001b[0mloc\u001b[0m \u001b[0;34m=\u001b[0m \u001b[0mself\u001b[0m\u001b[0;34m.\u001b[0m\u001b[0mitems\u001b[0m\u001b[0;34m.\u001b[0m\u001b[0mget_loc\u001b[0m\u001b[0;34m(\u001b[0m\u001b[0mitem\u001b[0m\u001b[0;34m)\u001b[0m\u001b[0;34m\u001b[0m\u001b[0m\n\u001b[0m\u001b[1;32m   3291\u001b[0m             \u001b[0;32melse\u001b[0m\u001b[0;34m:\u001b[0m\u001b[0;34m\u001b[0m\u001b[0m\n\u001b[1;32m   3292\u001b[0m                 \u001b[0mindexer\u001b[0m \u001b[0;34m=\u001b[0m \u001b[0mnp\u001b[0m\u001b[0;34m.\u001b[0m\u001b[0marange\u001b[0m\u001b[0;34m(\u001b[0m\u001b[0mlen\u001b[0m\u001b[0;34m(\u001b[0m\u001b[0mself\u001b[0m\u001b[0;34m.\u001b[0m\u001b[0mitems\u001b[0m\u001b[0;34m)\u001b[0m\u001b[0;34m)\u001b[0m\u001b[0;34m[\u001b[0m\u001b[0misnull\u001b[0m\u001b[0;34m(\u001b[0m\u001b[0mself\u001b[0m\u001b[0;34m.\u001b[0m\u001b[0mitems\u001b[0m\u001b[0;34m)\u001b[0m\u001b[0;34m]\u001b[0m\u001b[0;34m\u001b[0m\u001b[0m\n",
      "\u001b[0;32m//anaconda/lib/python2.7/site-packages/pandas/indexes/base.pyc\u001b[0m in \u001b[0;36mget_loc\u001b[0;34m(self, key, method, tolerance)\u001b[0m\n\u001b[1;32m   1945\u001b[0m                 \u001b[0;32mreturn\u001b[0m \u001b[0mself\u001b[0m\u001b[0;34m.\u001b[0m\u001b[0m_engine\u001b[0m\u001b[0;34m.\u001b[0m\u001b[0mget_loc\u001b[0m\u001b[0;34m(\u001b[0m\u001b[0mkey\u001b[0m\u001b[0;34m)\u001b[0m\u001b[0;34m\u001b[0m\u001b[0m\n\u001b[1;32m   1946\u001b[0m             \u001b[0;32mexcept\u001b[0m \u001b[0mKeyError\u001b[0m\u001b[0;34m:\u001b[0m\u001b[0;34m\u001b[0m\u001b[0m\n\u001b[0;32m-> 1947\u001b[0;31m                 \u001b[0;32mreturn\u001b[0m \u001b[0mself\u001b[0m\u001b[0;34m.\u001b[0m\u001b[0m_engine\u001b[0m\u001b[0;34m.\u001b[0m\u001b[0mget_loc\u001b[0m\u001b[0;34m(\u001b[0m\u001b[0mself\u001b[0m\u001b[0;34m.\u001b[0m\u001b[0m_maybe_cast_indexer\u001b[0m\u001b[0;34m(\u001b[0m\u001b[0mkey\u001b[0m\u001b[0;34m)\u001b[0m\u001b[0;34m)\u001b[0m\u001b[0;34m\u001b[0m\u001b[0m\n\u001b[0m\u001b[1;32m   1948\u001b[0m \u001b[0;34m\u001b[0m\u001b[0m\n\u001b[1;32m   1949\u001b[0m         \u001b[0mindexer\u001b[0m \u001b[0;34m=\u001b[0m \u001b[0mself\u001b[0m\u001b[0;34m.\u001b[0m\u001b[0mget_indexer\u001b[0m\u001b[0;34m(\u001b[0m\u001b[0;34m[\u001b[0m\u001b[0mkey\u001b[0m\u001b[0;34m]\u001b[0m\u001b[0;34m,\u001b[0m \u001b[0mmethod\u001b[0m\u001b[0;34m=\u001b[0m\u001b[0mmethod\u001b[0m\u001b[0;34m,\u001b[0m \u001b[0mtolerance\u001b[0m\u001b[0;34m=\u001b[0m\u001b[0mtolerance\u001b[0m\u001b[0;34m)\u001b[0m\u001b[0;34m\u001b[0m\u001b[0m\n",
      "\u001b[0;32mpandas/index.pyx\u001b[0m in \u001b[0;36mpandas.index.IndexEngine.get_loc (pandas/index.c:4154)\u001b[0;34m()\u001b[0m\n",
      "\u001b[0;32mpandas/index.pyx\u001b[0m in \u001b[0;36mpandas.index.IndexEngine.get_loc (pandas/index.c:4018)\u001b[0;34m()\u001b[0m\n",
      "\u001b[0;32mpandas/hashtable.pyx\u001b[0m in \u001b[0;36mpandas.hashtable.PyObjectHashTable.get_item (pandas/hashtable.c:12368)\u001b[0;34m()\u001b[0m\n",
      "\u001b[0;32mpandas/hashtable.pyx\u001b[0m in \u001b[0;36mpandas.hashtable.PyObjectHashTable.get_item (pandas/hashtable.c:12322)\u001b[0;34m()\u001b[0m\n",
      "\u001b[0;31mKeyError\u001b[0m: 'rank_number'"
     ]
    }
   ],
   "source": [
    "df['rank_number']"
   ]
  },
  {
   "cell_type": "markdown",
   "metadata": {},
   "source": [
    "Re-encode the names of the columns to ASCII so that we can refer to them by name.\n",
    "[this code is provided since it is not obvious]"
   ]
  },
  {
   "cell_type": "code",
   "execution_count": 18,
   "metadata": {
    "collapsed": false
   },
   "outputs": [
    {
     "name": "stdout",
     "output_type": "stream",
     "text": [
      "Index([u'rank_number', u'score_number', u'scoreunvoted_number',\n",
      "       u'scorelikes_number', u'thumbnailmay_link', u'thumbnailmay_link/_text',\n",
      "       u'thumbnailmay_link/_title', u'thumbnailmay_image',\n",
      "       u'thumbnailmay_image/_alt', u'titlemay_link', u'titlemay_link/_text',\n",
      "       u'titlemay_link/_title', u'titlemay_link_prices',\n",
      "       u'linkflairlabel_value', u'label_1', u'domain_link',\n",
      "       u'domain_link/_text', u'domain_link/_title', u'label_2',\n",
      "       u'submitted_label', u'submitted_value', u'submitted_value_numbers',\n",
      "       u'edited_value', u'by_label', u'by_link', u'by_link/_text',\n",
      "       u'by_link/_title', u'userattrs_content', u'userattrs_link',\n",
      "       u'userattrs_link/_text', u'userattrs_link/_title', u'to_label',\n",
      "       u'to_link', u'to_link/_text', u'to_link/_title', u'bylinkmay_link',\n",
      "       u'bylinkmay_link/_text', u'bylinkmay_link/_title',\n",
      "       u'bylinkmay_link_numbers', u'share_label', u'loading_label'],\n",
      "      dtype='object')\n",
      "rank_number\n"
     ]
    }
   ],
   "source": [
    "# our dataset is called reddit, but just put whatever you called yours in place of that.\n",
    "newcols = [c.decode(\"utf-8\").encode(\"ascii\",\"ignore\") for c in df2.columns]\n",
    "df2.columns = newcols\n",
    "print(df2.columns)\n",
    "print(df2.columns[0])"
   ]
  },
  {
   "cell_type": "markdown",
   "metadata": {},
   "source": [
    "What are the correlations between [rank_number, score_number, submitted_value_numbers, bylinkmay_link_numbers]?"
   ]
  },
  {
   "cell_type": "code",
   "execution_count": 24,
   "metadata": {
    "collapsed": false
   },
   "outputs": [
    {
     "data": {
      "text/plain": [
       "<matplotlib.axes._subplots.AxesSubplot at 0x114fb7690>"
      ]
     },
     "execution_count": 24,
     "metadata": {},
     "output_type": "execute_result"
    },
    {
     "data": {
      "image/png": "[encoded data removed]",
      "text/plain": [
       "<matplotlib.figure.Figure at 0x114f04690>"
      ]
     },
     "metadata": {},
     "output_type": "display_data"
    }
   ],
   "source": [
    "import seaborn as sns\n",
    "sns.heatmap(df2.corr())\n",
    "\n"
   ]
  },
  {
   "cell_type": "code",
   "execution_count": null,
   "metadata": {
    "collapsed": true
   },
   "outputs": [],
   "source": []
  }
 ],
 "metadata": {
  "anaconda-cloud": {},
  "kernelspec": {
   "display_name": "Python [default]",
   "language": "python",
   "name": "python2"
  },
  "language_info": {
   "codemirror_mode": {
    "name": "ipython",
    "version": 2
   },
   "file_extension": ".py",
   "mimetype": "text/x-python",
   "name": "python",
   "nbconvert_exporter": "python",
   "pygments_lexer": "ipython2",
   "version": "2.7.12"
  }
 },
 "nbformat": 4,
 "nbformat_minor": 0
}
