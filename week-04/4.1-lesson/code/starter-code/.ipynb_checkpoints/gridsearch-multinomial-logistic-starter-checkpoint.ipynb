{
 "cells": [
  {
   "cell_type": "code",
   "execution_count": 72,
   "metadata": {
    "collapsed": false
   },
   "outputs": [],
   "source": [
    "import numpy as np\n",
    "import pandas as pd\n",
    "import patsy\n",
    "%matplotlib inline\n",
    "\n",
    "from sklearn.metrics import classification_report, confusion_matrix, accuracy_score\n",
    "from sklearn.cross_validation import train_test_split\n",
    "from sklearn.linear_model import LogisticRegression, LogisticRegressionCV\n",
    "from sklearn.grid_search import GridSearchCV"
   ]
  },
  {
   "cell_type": "code",
   "execution_count": 73,
   "metadata": {
    "collapsed": false
   },
   "outputs": [
    {
     "data": {
      "text/html": [
       "<div>\n",
       "<table border=\"1\" class=\"dataframe\">\n",
       "  <thead>\n",
       "    <tr style=\"text-align: right;\">\n",
       "      <th></th>\n",
       "      <th>Dates</th>\n",
       "      <th>Category</th>\n",
       "      <th>Descript</th>\n",
       "      <th>DayOfWeek</th>\n",
       "      <th>PdDistrict</th>\n",
       "      <th>Resolution</th>\n",
       "      <th>Address</th>\n",
       "      <th>X</th>\n",
       "      <th>Y</th>\n",
       "      <th>hour</th>\n",
       "      <th>month</th>\n",
       "      <th>year</th>\n",
       "    </tr>\n",
       "  </thead>\n",
       "  <tbody>\n",
       "    <tr>\n",
       "      <th>0</th>\n",
       "      <td>2015-05-13 23:53:00</td>\n",
       "      <td>WARRANTS</td>\n",
       "      <td>WARRANT ARREST</td>\n",
       "      <td>Wednesday</td>\n",
       "      <td>NORTHERN</td>\n",
       "      <td>ARREST, BOOKED</td>\n",
       "      <td>OAK ST / LAGUNA ST</td>\n",
       "      <td>-122.425892</td>\n",
       "      <td>37.774599</td>\n",
       "      <td>23</td>\n",
       "      <td>5</td>\n",
       "      <td>2015</td>\n",
       "    </tr>\n",
       "    <tr>\n",
       "      <th>1</th>\n",
       "      <td>2015-05-13 23:53:00</td>\n",
       "      <td>OTHER OFFENSES</td>\n",
       "      <td>TRAFFIC VIOLATION ARREST</td>\n",
       "      <td>Wednesday</td>\n",
       "      <td>NORTHERN</td>\n",
       "      <td>ARREST, BOOKED</td>\n",
       "      <td>OAK ST / LAGUNA ST</td>\n",
       "      <td>-122.425892</td>\n",
       "      <td>37.774599</td>\n",
       "      <td>23</td>\n",
       "      <td>5</td>\n",
       "      <td>2015</td>\n",
       "    </tr>\n",
       "    <tr>\n",
       "      <th>2</th>\n",
       "      <td>2015-05-13 23:33:00</td>\n",
       "      <td>OTHER OFFENSES</td>\n",
       "      <td>TRAFFIC VIOLATION ARREST</td>\n",
       "      <td>Wednesday</td>\n",
       "      <td>NORTHERN</td>\n",
       "      <td>ARREST, BOOKED</td>\n",
       "      <td>VANNESS AV / GREENWICH ST</td>\n",
       "      <td>-122.424363</td>\n",
       "      <td>37.800414</td>\n",
       "      <td>23</td>\n",
       "      <td>5</td>\n",
       "      <td>2015</td>\n",
       "    </tr>\n",
       "    <tr>\n",
       "      <th>3</th>\n",
       "      <td>2015-05-13 23:30:00</td>\n",
       "      <td>LARCENY/THEFT</td>\n",
       "      <td>GRAND THEFT FROM LOCKED AUTO</td>\n",
       "      <td>Wednesday</td>\n",
       "      <td>NORTHERN</td>\n",
       "      <td>NONE</td>\n",
       "      <td>1500 Block of LOMBARD ST</td>\n",
       "      <td>-122.426995</td>\n",
       "      <td>37.800873</td>\n",
       "      <td>23</td>\n",
       "      <td>5</td>\n",
       "      <td>2015</td>\n",
       "    </tr>\n",
       "    <tr>\n",
       "      <th>4</th>\n",
       "      <td>2015-05-13 23:30:00</td>\n",
       "      <td>LARCENY/THEFT</td>\n",
       "      <td>GRAND THEFT FROM LOCKED AUTO</td>\n",
       "      <td>Wednesday</td>\n",
       "      <td>PARK</td>\n",
       "      <td>NONE</td>\n",
       "      <td>100 Block of BRODERICK ST</td>\n",
       "      <td>-122.438738</td>\n",
       "      <td>37.771541</td>\n",
       "      <td>23</td>\n",
       "      <td>5</td>\n",
       "      <td>2015</td>\n",
       "    </tr>\n",
       "  </tbody>\n",
       "</table>\n",
       "</div>"
      ],
      "text/plain": [
       "                Dates        Category                      Descript  \\\n",
       "0 2015-05-13 23:53:00        WARRANTS                WARRANT ARREST   \n",
       "1 2015-05-13 23:53:00  OTHER OFFENSES      TRAFFIC VIOLATION ARREST   \n",
       "2 2015-05-13 23:33:00  OTHER OFFENSES      TRAFFIC VIOLATION ARREST   \n",
       "3 2015-05-13 23:30:00   LARCENY/THEFT  GRAND THEFT FROM LOCKED AUTO   \n",
       "4 2015-05-13 23:30:00   LARCENY/THEFT  GRAND THEFT FROM LOCKED AUTO   \n",
       "\n",
       "   DayOfWeek PdDistrict      Resolution                    Address  \\\n",
       "0  Wednesday   NORTHERN  ARREST, BOOKED         OAK ST / LAGUNA ST   \n",
       "1  Wednesday   NORTHERN  ARREST, BOOKED         OAK ST / LAGUNA ST   \n",
       "2  Wednesday   NORTHERN  ARREST, BOOKED  VANNESS AV / GREENWICH ST   \n",
       "3  Wednesday   NORTHERN            NONE   1500 Block of LOMBARD ST   \n",
       "4  Wednesday       PARK            NONE  100 Block of BRODERICK ST   \n",
       "\n",
       "            X          Y  hour  month  year  \n",
       "0 -122.425892  37.774599    23      5  2015  \n",
       "1 -122.425892  37.774599    23      5  2015  \n",
       "2 -122.424363  37.800414    23      5  2015  \n",
       "3 -122.426995  37.800873    23      5  2015  \n",
       "4 -122.438738  37.771541    23      5  2015  "
      ]
     },
     "execution_count": 73,
     "metadata": {},
     "output_type": "execute_result"
    }
   ],
   "source": [
    "# prep data, covert date to datetime, split for train and test, and build model\n",
    "sf_crime = pd.read_csv('../../assets/datasets/sf_crime_train.csv')\n",
    "\n",
    "sf_crime = sf_crime.dropna()\n",
    "\n",
    "sf_crime['Dates'] = pd.to_datetime(sf_crime.Dates)\n",
    "sf_crime_dates = pd.DatetimeIndex(sf_crime.Dates.values, dtype='datetime64[ns]', freq=None)\n",
    "\n",
    "sf_crime['hour'] = sf_crime_dates.hour\n",
    "sf_crime['month'] = sf_crime_dates.month\n",
    "sf_crime['year'] = sf_crime_dates.year\n",
    "sf_crime.head()"
   ]
  },
  {
   "cell_type": "code",
   "execution_count": 74,
   "metadata": {
    "collapsed": false,
    "scrolled": true
   },
   "outputs": [
    {
     "data": {
      "text/html": [
       "<div>\n",
       "<table border=\"1\" class=\"dataframe\">\n",
       "  <thead>\n",
       "    <tr style=\"text-align: right;\">\n",
       "      <th></th>\n",
       "      <th>Dates</th>\n",
       "      <th>Category</th>\n",
       "      <th>Descript</th>\n",
       "      <th>DayOfWeek</th>\n",
       "      <th>PdDistrict</th>\n",
       "      <th>Resolution</th>\n",
       "      <th>Address</th>\n",
       "      <th>X</th>\n",
       "      <th>Y</th>\n",
       "      <th>hour</th>\n",
       "      <th>month</th>\n",
       "      <th>year</th>\n",
       "    </tr>\n",
       "  </thead>\n",
       "  <tbody>\n",
       "    <tr>\n",
       "      <th>count</th>\n",
       "      <td>18000</td>\n",
       "      <td>18000</td>\n",
       "      <td>18000</td>\n",
       "      <td>18000</td>\n",
       "      <td>18000</td>\n",
       "      <td>18000</td>\n",
       "      <td>18000</td>\n",
       "      <td>18000.000000</td>\n",
       "      <td>18000.000000</td>\n",
       "      <td>18000.000000</td>\n",
       "      <td>18000.000000</td>\n",
       "      <td>18000.000000</td>\n",
       "    </tr>\n",
       "    <tr>\n",
       "      <th>unique</th>\n",
       "      <td>7855</td>\n",
       "      <td>36</td>\n",
       "      <td>510</td>\n",
       "      <td>7</td>\n",
       "      <td>10</td>\n",
       "      <td>10</td>\n",
       "      <td>6381</td>\n",
       "      <td>NaN</td>\n",
       "      <td>NaN</td>\n",
       "      <td>NaN</td>\n",
       "      <td>NaN</td>\n",
       "      <td>NaN</td>\n",
       "    </tr>\n",
       "    <tr>\n",
       "      <th>top</th>\n",
       "      <td>2015-02-20 00:01:00</td>\n",
       "      <td>LARCENY/THEFT</td>\n",
       "      <td>GRAND THEFT FROM LOCKED AUTO</td>\n",
       "      <td>Wednesday</td>\n",
       "      <td>SOUTHERN</td>\n",
       "      <td>NONE</td>\n",
       "      <td>800 Block of BRYANT ST</td>\n",
       "      <td>NaN</td>\n",
       "      <td>NaN</td>\n",
       "      <td>NaN</td>\n",
       "      <td>NaN</td>\n",
       "      <td>NaN</td>\n",
       "    </tr>\n",
       "    <tr>\n",
       "      <th>freq</th>\n",
       "      <td>25</td>\n",
       "      <td>4885</td>\n",
       "      <td>2127</td>\n",
       "      <td>2930</td>\n",
       "      <td>3287</td>\n",
       "      <td>12862</td>\n",
       "      <td>402</td>\n",
       "      <td>NaN</td>\n",
       "      <td>NaN</td>\n",
       "      <td>NaN</td>\n",
       "      <td>NaN</td>\n",
       "      <td>NaN</td>\n",
       "    </tr>\n",
       "    <tr>\n",
       "      <th>first</th>\n",
       "      <td>2015-02-17 20:00:00</td>\n",
       "      <td>NaN</td>\n",
       "      <td>NaN</td>\n",
       "      <td>NaN</td>\n",
       "      <td>NaN</td>\n",
       "      <td>NaN</td>\n",
       "      <td>NaN</td>\n",
       "      <td>NaN</td>\n",
       "      <td>NaN</td>\n",
       "      <td>NaN</td>\n",
       "      <td>NaN</td>\n",
       "      <td>NaN</td>\n",
       "    </tr>\n",
       "    <tr>\n",
       "      <th>last</th>\n",
       "      <td>2015-05-13 23:53:00</td>\n",
       "      <td>NaN</td>\n",
       "      <td>NaN</td>\n",
       "      <td>NaN</td>\n",
       "      <td>NaN</td>\n",
       "      <td>NaN</td>\n",
       "      <td>NaN</td>\n",
       "      <td>NaN</td>\n",
       "      <td>NaN</td>\n",
       "      <td>NaN</td>\n",
       "      <td>NaN</td>\n",
       "      <td>NaN</td>\n",
       "    </tr>\n",
       "    <tr>\n",
       "      <th>mean</th>\n",
       "      <td>NaN</td>\n",
       "      <td>NaN</td>\n",
       "      <td>NaN</td>\n",
       "      <td>NaN</td>\n",
       "      <td>NaN</td>\n",
       "      <td>NaN</td>\n",
       "      <td>NaN</td>\n",
       "      <td>-122.423639</td>\n",
       "      <td>37.768466</td>\n",
       "      <td>13.646833</td>\n",
       "      <td>3.489944</td>\n",
       "      <td>2015.000000</td>\n",
       "    </tr>\n",
       "    <tr>\n",
       "      <th>std</th>\n",
       "      <td>NaN</td>\n",
       "      <td>NaN</td>\n",
       "      <td>NaN</td>\n",
       "      <td>NaN</td>\n",
       "      <td>NaN</td>\n",
       "      <td>NaN</td>\n",
       "      <td>NaN</td>\n",
       "      <td>0.026532</td>\n",
       "      <td>0.024391</td>\n",
       "      <td>6.539098</td>\n",
       "      <td>0.868601</td>\n",
       "      <td>0.537351</td>\n",
       "    </tr>\n",
       "    <tr>\n",
       "      <th>min</th>\n",
       "      <td>NaN</td>\n",
       "      <td>NaN</td>\n",
       "      <td>NaN</td>\n",
       "      <td>NaN</td>\n",
       "      <td>NaN</td>\n",
       "      <td>NaN</td>\n",
       "      <td>NaN</td>\n",
       "      <td>-122.513642</td>\n",
       "      <td>37.708154</td>\n",
       "      <td>0.000000</td>\n",
       "      <td>2.000000</td>\n",
       "      <td>2015.000000</td>\n",
       "    </tr>\n",
       "    <tr>\n",
       "      <th>25%</th>\n",
       "      <td>NaN</td>\n",
       "      <td>NaN</td>\n",
       "      <td>NaN</td>\n",
       "      <td>NaN</td>\n",
       "      <td>NaN</td>\n",
       "      <td>NaN</td>\n",
       "      <td>NaN</td>\n",
       "      <td>-122.434199</td>\n",
       "      <td>37.753838</td>\n",
       "      <td>10.000000</td>\n",
       "      <td>3.000000</td>\n",
       "      <td>2015.000000</td>\n",
       "    </tr>\n",
       "    <tr>\n",
       "      <th>50%</th>\n",
       "      <td>NaN</td>\n",
       "      <td>NaN</td>\n",
       "      <td>NaN</td>\n",
       "      <td>NaN</td>\n",
       "      <td>NaN</td>\n",
       "      <td>NaN</td>\n",
       "      <td>NaN</td>\n",
       "      <td>-122.416949</td>\n",
       "      <td>37.775608</td>\n",
       "      <td>15.000000</td>\n",
       "      <td>3.000000</td>\n",
       "      <td>2015.000000</td>\n",
       "    </tr>\n",
       "    <tr>\n",
       "      <th>75%</th>\n",
       "      <td>NaN</td>\n",
       "      <td>NaN</td>\n",
       "      <td>NaN</td>\n",
       "      <td>NaN</td>\n",
       "      <td>NaN</td>\n",
       "      <td>NaN</td>\n",
       "      <td>NaN</td>\n",
       "      <td>-122.406539</td>\n",
       "      <td>37.785390</td>\n",
       "      <td>19.000000</td>\n",
       "      <td>4.000000</td>\n",
       "      <td>2015.000000</td>\n",
       "    </tr>\n",
       "    <tr>\n",
       "      <th>max</th>\n",
       "      <td>NaN</td>\n",
       "      <td>NaN</td>\n",
       "      <td>NaN</td>\n",
       "      <td>NaN</td>\n",
       "      <td>NaN</td>\n",
       "      <td>NaN</td>\n",
       "      <td>NaN</td>\n",
       "      <td>-122.365565</td>\n",
       "      <td>37.819923</td>\n",
       "      <td>23.000000</td>\n",
       "      <td>5.000000</td>\n",
       "      <td>2015.000000</td>\n",
       "    </tr>\n",
       "  </tbody>\n",
       "</table>\n",
       "</div>"
      ],
      "text/plain": [
       "                      Dates       Category                      Descript  \\\n",
       "count                 18000          18000                         18000   \n",
       "unique                 7855             36                           510   \n",
       "top     2015-02-20 00:01:00  LARCENY/THEFT  GRAND THEFT FROM LOCKED AUTO   \n",
       "freq                     25           4885                          2127   \n",
       "first   2015-02-17 20:00:00            NaN                           NaN   \n",
       "last    2015-05-13 23:53:00            NaN                           NaN   \n",
       "mean                    NaN            NaN                           NaN   \n",
       "std                     NaN            NaN                           NaN   \n",
       "min                     NaN            NaN                           NaN   \n",
       "25%                     NaN            NaN                           NaN   \n",
       "50%                     NaN            NaN                           NaN   \n",
       "75%                     NaN            NaN                           NaN   \n",
       "max                     NaN            NaN                           NaN   \n",
       "\n",
       "        DayOfWeek PdDistrict Resolution                 Address             X  \\\n",
       "count       18000      18000      18000                   18000  18000.000000   \n",
       "unique          7         10         10                    6381           NaN   \n",
       "top     Wednesday   SOUTHERN       NONE  800 Block of BRYANT ST           NaN   \n",
       "freq         2930       3287      12862                     402           NaN   \n",
       "first         NaN        NaN        NaN                     NaN           NaN   \n",
       "last          NaN        NaN        NaN                     NaN           NaN   \n",
       "mean          NaN        NaN        NaN                     NaN   -122.423639   \n",
       "std           NaN        NaN        NaN                     NaN      0.026532   \n",
       "min           NaN        NaN        NaN                     NaN   -122.513642   \n",
       "25%           NaN        NaN        NaN                     NaN   -122.434199   \n",
       "50%           NaN        NaN        NaN                     NaN   -122.416949   \n",
       "75%           NaN        NaN        NaN                     NaN   -122.406539   \n",
       "max           NaN        NaN        NaN                     NaN   -122.365565   \n",
       "\n",
       "                   Y          hour         month          year  \n",
       "count   18000.000000  18000.000000  18000.000000  18000.000000  \n",
       "unique           NaN           NaN           NaN           NaN  \n",
       "top              NaN           NaN           NaN           NaN  \n",
       "freq             NaN           NaN           NaN           NaN  \n",
       "first            NaN           NaN           NaN           NaN  \n",
       "last             NaN           NaN           NaN           NaN  \n",
       "mean       37.768466     13.646833      3.489944   2015.000000  \n",
       "std         0.024391      6.539098      0.868601      0.537351  \n",
       "min        37.708154      0.000000      2.000000   2015.000000  \n",
       "25%        37.753838     10.000000      3.000000   2015.000000  \n",
       "50%        37.775608     15.000000      3.000000   2015.000000  \n",
       "75%        37.785390     19.000000      4.000000   2015.000000  \n",
       "max        37.819923     23.000000      5.000000   2015.000000  "
      ]
     },
     "execution_count": 74,
     "metadata": {},
     "output_type": "execute_result"
    }
   ],
   "source": [
    "sf_crime.describe(include='all')"
   ]
  },
  {
   "cell_type": "code",
   "execution_count": 75,
   "metadata": {
    "collapsed": false
   },
   "outputs": [
    {
     "data": {
      "text/plain": [
       "<matplotlib.axes._subplots.AxesSubplot at 0x118453d10>"
      ]
     },
     "execution_count": 75,
     "metadata": {},
     "output_type": "execute_result"
    },
    {
     "data": {
      "image/png": "[encoded data removed]",
      "text/plain": [
       "<matplotlib.figure.Figure at 0x11847a710>"
      ]
     },
     "metadata": {},
     "output_type": "display_data"
    }
   ],
   "source": [
    "sf_crime_cat_count = sf_crime[\"Category\"].value_counts()\n",
    "sf_crime_cat_count.plot.bar()"
   ]
  },
  {
   "cell_type": "code",
   "execution_count": 76,
   "metadata": {
    "collapsed": true
   },
   "outputs": [],
   "source": [
    "subset = ['VEHICLE THEFT','BURGLARY','DRUG/NARCOTIC']\n",
    "sf_crime_sub = sf_crime[sf_crime['Category'].str.contains('|'.join(subset))]\n",
    "\n",
    "#sf_sample = sf_crime_sub.sample(frac=0.50)\n",
    "\n",
    "X = patsy.dmatrix('~ C(hour) + C(DayOfWeek) + C(PdDistrict)', sf_crime_sub)\n",
    "Y = sf_crime_sub.Category.values\n",
    "\n",
    "# split for train and test\n",
    "X_train, X_test, Y_train, Y_test = train_test_split(X, Y, test_size=0.33, stratify=Y, random_state=77)"
   ]
  },
  {
   "cell_type": "code",
   "execution_count": 77,
   "metadata": {
    "collapsed": false
   },
   "outputs": [
    {
     "data": {
      "text/plain": [
       "Wednesday    353\n",
       "Saturday     329\n",
       "Friday       324\n",
       "Monday       316\n",
       "Thursday     309\n",
       "Sunday       288\n",
       "Tuesday      276\n",
       "Name: DayOfWeek, dtype: int64"
      ]
     },
     "execution_count": 77,
     "metadata": {},
     "output_type": "execute_result"
    }
   ],
   "source": [
    "sf_crime_sub.DayOfWeek.value_counts()"
   ]
  },
  {
   "cell_type": "code",
   "execution_count": 78,
   "metadata": {
    "collapsed": false
   },
   "outputs": [
    {
     "data": {
      "text/plain": [
       "LogisticRegressionCV(Cs=15, class_weight=None, cv=5, dual=False,\n",
       "           fit_intercept=True, intercept_scaling=1.0, max_iter=100,\n",
       "           multi_class='ovr', n_jobs=1, penalty='l1', random_state=None,\n",
       "           refit=True, scoring=None, solver='liblinear', tol=0.0001,\n",
       "           verbose=0)"
      ]
     },
     "execution_count": 78,
     "metadata": {},
     "output_type": "execute_result"
    }
   ],
   "source": [
    "# fit model with five folds and lasso regularization\n",
    "clf = LogisticRegressionCV(Cs=15,cv=5,solver = 'liblinear', penalty=\"l1\")\n",
    "clf.fit(X_train,Y_train)\n",
    "\n",
    "# use Cs=15 to test a grid of 15 distinct parameters\n",
    "# remeber: Cs describes the inverse of regularization strength\n",
    "#logreg_cv = LogisticRegressionCV(solver='liblinear') # update inputs here\n"
   ]
  },
  {
   "cell_type": "code",
   "execution_count": 79,
   "metadata": {
    "collapsed": false
   },
   "outputs": [
    {
     "name": "stdout",
     "output_type": "stream",
     "text": [
      "best C for class:\n",
      "{'BURGLARY': 1.0, 'VEHICLE THEFT': 3.7275937203149381, 'DRUG/NARCOTIC': 1.0}\n"
     ]
    }
   ],
   "source": [
    "# find best C per class\n",
    "print('best C for class:')\n",
    "best_C = {clf.classes_[i]:x for i, (x, c) in enumerate(zip(clf.C_, clf.classes_))}\n",
    "print(best_C)"
   ]
  },
  {
   "cell_type": "code",
   "execution_count": 80,
   "metadata": {
    "collapsed": false
   },
   "outputs": [
    {
     "data": {
      "text/plain": [
       "LogisticRegression(C=3.72759372031, class_weight=None, dual=False,\n",
       "          fit_intercept=True, intercept_scaling=1, max_iter=100,\n",
       "          multi_class='ovr', n_jobs=1, penalty='l1', random_state=None,\n",
       "          solver='liblinear', tol=0.0001, verbose=0, warm_start=False)"
      ]
     },
     "execution_count": 80,
     "metadata": {},
     "output_type": "execute_result"
    }
   ],
   "source": [
    "# fit regular logit model to 'DRUG/NARCOTIC' and 'BURGLARY' classes\n",
    "# use lasso penalty\n",
    "\n",
    "logreg_1 = LogisticRegression(penalty='l1',solver='liblinear',C=3.7275937203149381)\n",
    "logreg_1.fit(X_train,Y_train)\n"
   ]
  },
  {
   "cell_type": "code",
   "execution_count": 81,
   "metadata": {
    "collapsed": false
   },
   "outputs": [
    {
     "data": {
      "text/plain": [
       "LogisticRegression(C=1.0, class_weight=None, dual=False, fit_intercept=True,\n",
       "          intercept_scaling=1, max_iter=100, multi_class='ovr', n_jobs=1,\n",
       "          penalty='l1', random_state=None, solver='liblinear', tol=0.0001,\n",
       "          verbose=0, warm_start=False)"
      ]
     },
     "execution_count": 81,
     "metadata": {},
     "output_type": "execute_result"
    }
   ],
   "source": [
    "logreg_2 = LogisticRegression(penalty='l1',solver='liblinear',C=1.0)\n",
    "logreg_2.fit(X_train,Y_train)"
   ]
  },
  {
   "cell_type": "code",
   "execution_count": 82,
   "metadata": {
    "collapsed": false
   },
   "outputs": [],
   "source": [
    "# build confusion matrices for the models above\n",
    "Y_1_pred = logreg_1.predict(X_train)\n",
    "Y_2_pred = logreg_2.predict(X_train)\n",
    "\n",
    "conmat_1 = confusion_matrix(Y_train, Y_1_pred, labels=logreg_1.classes_)\n",
    "conmat_1 = pd.DataFrame(conmat_1, columns=logreg_1.classes_, index=logreg_1.classes_)\n",
    "\n",
    "conmat_2 = confusion_matrix(Y_train, Y_2_pred, labels=logreg_2.classes_)\n",
    "conmat_2 = pd.DataFrame(conmat_2, columns=logreg_2.classes_, index=logreg_2.classes_)\n"
   ]
  },
  {
   "cell_type": "code",
   "execution_count": 83,
   "metadata": {
    "collapsed": false
   },
   "outputs": [
    {
     "data": {
      "text/html": [
       "<div>\n",
       "<table border=\"1\" class=\"dataframe\">\n",
       "  <thead>\n",
       "    <tr style=\"text-align: right;\">\n",
       "      <th></th>\n",
       "      <th>BURGLARY</th>\n",
       "      <th>DRUG/NARCOTIC</th>\n",
       "      <th>VEHICLE THEFT</th>\n",
       "    </tr>\n",
       "  </thead>\n",
       "  <tbody>\n",
       "    <tr>\n",
       "      <th>BURGLARY</th>\n",
       "      <td>223</td>\n",
       "      <td>27</td>\n",
       "      <td>240</td>\n",
       "    </tr>\n",
       "    <tr>\n",
       "      <th>DRUG/NARCOTIC</th>\n",
       "      <td>92</td>\n",
       "      <td>106</td>\n",
       "      <td>134</td>\n",
       "    </tr>\n",
       "    <tr>\n",
       "      <th>VEHICLE THEFT</th>\n",
       "      <td>120</td>\n",
       "      <td>26</td>\n",
       "      <td>502</td>\n",
       "    </tr>\n",
       "  </tbody>\n",
       "</table>\n",
       "</div>"
      ],
      "text/plain": [
       "               BURGLARY  DRUG/NARCOTIC  VEHICLE THEFT\n",
       "BURGLARY            223             27            240\n",
       "DRUG/NARCOTIC        92            106            134\n",
       "VEHICLE THEFT       120             26            502"
      ]
     },
     "execution_count": 83,
     "metadata": {},
     "output_type": "execute_result"
    }
   ],
   "source": [
    "conmat_1"
   ]
  },
  {
   "cell_type": "code",
   "execution_count": 84,
   "metadata": {
    "collapsed": false
   },
   "outputs": [
    {
     "name": "stdout",
     "output_type": "stream",
     "text": [
      "             precision    recall  f1-score   support\n",
      "\n",
      "   BURGLARY       0.51      0.46      0.48       490\n",
      "DRUG/NARCOTIC       0.67      0.32      0.43       332\n",
      "VEHICLE THEFT       0.57      0.77      0.66       648\n",
      "\n",
      "avg / total       0.57      0.57      0.55      1470\n",
      "\n"
     ]
    }
   ],
   "source": [
    "print(classification_report(Y_train,Y_1_pred))"
   ]
  },
  {
   "cell_type": "code",
   "execution_count": 85,
   "metadata": {
    "collapsed": false
   },
   "outputs": [
    {
     "data": {
      "text/html": [
       "<div>\n",
       "<table border=\"1\" class=\"dataframe\">\n",
       "  <thead>\n",
       "    <tr style=\"text-align: right;\">\n",
       "      <th></th>\n",
       "      <th>BURGLARY</th>\n",
       "      <th>DRUG/NARCOTIC</th>\n",
       "      <th>VEHICLE THEFT</th>\n",
       "    </tr>\n",
       "  </thead>\n",
       "  <tbody>\n",
       "    <tr>\n",
       "      <th>BURGLARY</th>\n",
       "      <td>217</td>\n",
       "      <td>22</td>\n",
       "      <td>251</td>\n",
       "    </tr>\n",
       "    <tr>\n",
       "      <th>DRUG/NARCOTIC</th>\n",
       "      <td>92</td>\n",
       "      <td>98</td>\n",
       "      <td>142</td>\n",
       "    </tr>\n",
       "    <tr>\n",
       "      <th>VEHICLE THEFT</th>\n",
       "      <td>121</td>\n",
       "      <td>20</td>\n",
       "      <td>507</td>\n",
       "    </tr>\n",
       "  </tbody>\n",
       "</table>\n",
       "</div>"
      ],
      "text/plain": [
       "               BURGLARY  DRUG/NARCOTIC  VEHICLE THEFT\n",
       "BURGLARY            217             22            251\n",
       "DRUG/NARCOTIC        92             98            142\n",
       "VEHICLE THEFT       121             20            507"
      ]
     },
     "execution_count": 85,
     "metadata": {},
     "output_type": "execute_result"
    }
   ],
   "source": [
    "conmat_2"
   ]
  },
  {
   "cell_type": "code",
   "execution_count": 86,
   "metadata": {
    "collapsed": false
   },
   "outputs": [
    {
     "name": "stdout",
     "output_type": "stream",
     "text": [
      "             precision    recall  f1-score   support\n",
      "\n",
      "   BURGLARY       0.50      0.44      0.47       490\n",
      "DRUG/NARCOTIC       0.70      0.30      0.42       332\n",
      "VEHICLE THEFT       0.56      0.78      0.66       648\n",
      "\n",
      "avg / total       0.57      0.56      0.54      1470\n",
      "\n"
     ]
    }
   ],
   "source": [
    "print(classification_report(Y_train,Y_2_pred))"
   ]
  },
  {
   "cell_type": "code",
   "execution_count": 87,
   "metadata": {
    "collapsed": false
   },
   "outputs": [],
   "source": [
    "# print classification reports\n"
   ]
  },
  {
   "cell_type": "code",
   "execution_count": 88,
   "metadata": {
    "collapsed": false
   },
   "outputs": [],
   "source": [
    "# run gridsearch using GridSearchCV and 5 folds\n",
    "# score on f1_macro; what does this metric tell us?\n",
    "logreg = LogisticRegression()\n",
    "C_vals = [0.0001, 0.001, 0.01, 0.1, 0.5, 0.75, 1.0, 2.5, 5.0, 10.0, 100.0, 1000.0]\n",
    "penalties = ['l1','l2']\n"
   ]
  },
  {
   "cell_type": "code",
   "execution_count": 89,
   "metadata": {
    "collapsed": true
   },
   "outputs": [],
   "source": [
    "subset = ['ASSAULT','VANDALISM']\n",
    "sf_crime_sub = sf_crime[sf_crime['Category'].str.contains('|'.join(subset))]\n",
    "\n",
    "#sf_sample = sf_crime_sub.sample(frac=0.50)\n",
    "\n",
    "X = patsy.dmatrix('~ C(hour) + C(DayOfWeek) + C(PdDistrict) + X + Y', sf_crime_sub)\n",
    "Y = sf_crime_sub.Category.values\n",
    "\n",
    "# split for train and test\n",
    "X_train, X_test, Y_train, Y_test = train_test_split(X, Y, test_size=0.33, stratify=Y, random_state=5)"
   ]
  },
  {
   "cell_type": "code",
   "execution_count": 90,
   "metadata": {
    "collapsed": false
   },
   "outputs": [
    {
     "data": {
      "text/plain": [
       "LogisticRegressionCV(Cs=15, class_weight=None, cv=5, dual=False,\n",
       "           fit_intercept=True, intercept_scaling=1.0, max_iter=100,\n",
       "           multi_class='ovr', n_jobs=1, penalty='l1', random_state=None,\n",
       "           refit=True, scoring=None, solver='liblinear', tol=0.0001,\n",
       "           verbose=0)"
      ]
     },
     "execution_count": 90,
     "metadata": {},
     "output_type": "execute_result"
    }
   ],
   "source": [
    "# fit model with five folds and lasso regularization\n",
    "clf = LogisticRegressionCV(Cs=15,cv=5,solver = 'liblinear', penalty=\"l1\")\n",
    "clf.fit(X_train,Y_train)"
   ]
  },
  {
   "cell_type": "code",
   "execution_count": 91,
   "metadata": {
    "collapsed": false
   },
   "outputs": [
    {
     "data": {
      "text/html": [
       "<div>\n",
       "<table border=\"1\" class=\"dataframe\">\n",
       "  <thead>\n",
       "    <tr style=\"text-align: right;\">\n",
       "      <th></th>\n",
       "      <th>ASSAULT</th>\n",
       "      <th>VANDALISM</th>\n",
       "    </tr>\n",
       "  </thead>\n",
       "  <tbody>\n",
       "    <tr>\n",
       "      <th>ASSAULT</th>\n",
       "      <td>508</td>\n",
       "      <td>0</td>\n",
       "    </tr>\n",
       "    <tr>\n",
       "      <th>VANDALISM</th>\n",
       "      <td>289</td>\n",
       "      <td>0</td>\n",
       "    </tr>\n",
       "  </tbody>\n",
       "</table>\n",
       "</div>"
      ],
      "text/plain": [
       "           ASSAULT  VANDALISM\n",
       "ASSAULT        508          0\n",
       "VANDALISM      289          0"
      ]
     },
     "execution_count": 91,
     "metadata": {},
     "output_type": "execute_result"
    }
   ],
   "source": [
    "Ypred = clf.predict(X_test)\n",
    "conmat = confusion_matrix(Y_test, Ypred, labels=clf.classes_)\n",
    "pd.DataFrame(conmat, columns=clf.classes_, index=clf.classes_)\n"
   ]
  },
  {
   "cell_type": "code",
   "execution_count": 92,
   "metadata": {
    "collapsed": false
   },
   "outputs": [
    {
     "name": "stdout",
     "output_type": "stream",
     "text": [
      "             precision    recall  f1-score   support\n",
      "\n",
      "    ASSAULT       0.64      1.00      0.78       508\n",
      "  VANDALISM       0.00      0.00      0.00       289\n",
      "\n",
      "avg / total       0.41      0.64      0.50       797\n",
      "\n"
     ]
    }
   ],
   "source": [
    "print(classification_report(Y_test,Ypred))"
   ]
  },
  {
   "cell_type": "code",
   "execution_count": 93,
   "metadata": {
    "collapsed": true
   },
   "outputs": [],
   "source": [
    "from sklearn import metrics\n",
    "y_score=clf.fit(X_train, Y_train).decision_function(X_test)\n",
    "fpr, tpr,thresholds=metrics.roc_curve(Y_test, y_score, pos_label='VANDALISM')"
   ]
  },
  {
   "cell_type": "code",
   "execution_count": 94,
   "metadata": {
    "collapsed": false,
    "scrolled": true
   },
   "outputs": [
    {
     "data": {
      "text/plain": [
       "array([-0.35, -0.35, -0.35, -0.35, -0.35, -0.35, -0.35, -0.35, -0.35,\n",
       "       -0.35, -0.35, -0.35, -0.35, -0.35, -0.35, -0.35, -0.35, -0.35,\n",
       "       -0.35, -0.35, -0.35, -0.35, -0.35, -0.35, -0.35, -0.35, -0.35,\n",
       "       -0.35, -0.35, -0.35, -0.35, -0.35, -0.35, -0.35, -0.35, -0.35,\n",
       "       -0.35, -0.35, -0.35, -0.35, -0.35, -0.35, -0.35, -0.35, -0.35,\n",
       "       -0.35, -0.35, -0.35, -0.35, -0.35, -0.35, -0.35, -0.35, -0.35,\n",
       "       -0.35, -0.35, -0.35, -0.35, -0.35, -0.35, -0.35, -0.35, -0.35,\n",
       "       -0.35, -0.35, -0.35, -0.35, -0.35, -0.35, -0.35, -0.35, -0.35,\n",
       "       -0.35, -0.35, -0.35, -0.35, -0.35, -0.35, -0.35, -0.35, -0.35,\n",
       "       -0.35, -0.35, -0.35, -0.35, -0.35, -0.35, -0.35, -0.35, -0.35,\n",
       "       -0.35, -0.35, -0.35, -0.35, -0.35, -0.35, -0.35, -0.35, -0.35,\n",
       "       -0.35, -0.35, -0.35, -0.35, -0.35, -0.35, -0.35, -0.35, -0.35,\n",
       "       -0.35, -0.35, -0.35, -0.35, -0.35, -0.35, -0.35, -0.35, -0.35,\n",
       "       -0.35, -0.35, -0.35, -0.35, -0.35, -0.35, -0.35, -0.35, -0.35,\n",
       "       -0.35, -0.35, -0.35, -0.35, -0.35, -0.35, -0.35, -0.35, -0.35,\n",
       "       -0.35, -0.35, -0.35, -0.35, -0.35, -0.35, -0.35, -0.35, -0.35,\n",
       "       -0.35, -0.35, -0.35, -0.35, -0.35, -0.35, -0.35, -0.35, -0.35,\n",
       "       -0.35, -0.35, -0.35, -0.35, -0.35, -0.35, -0.35, -0.35, -0.35,\n",
       "       -0.35, -0.35, -0.35, -0.35, -0.35, -0.35, -0.35, -0.35, -0.35,\n",
       "       -0.35, -0.35, -0.35, -0.35, -0.35, -0.35, -0.35, -0.35, -0.35,\n",
       "       -0.35, -0.35, -0.35, -0.35, -0.35, -0.35, -0.35, -0.35, -0.35,\n",
       "       -0.35, -0.35, -0.35, -0.35, -0.35, -0.35, -0.35, -0.35, -0.35,\n",
       "       -0.35, -0.35, -0.35, -0.35, -0.35, -0.35, -0.35, -0.35, -0.35,\n",
       "       -0.35, -0.35, -0.35, -0.35, -0.35, -0.35, -0.35, -0.35, -0.35,\n",
       "       -0.35, -0.35, -0.35, -0.35, -0.35, -0.35, -0.35, -0.35, -0.35,\n",
       "       -0.35, -0.35, -0.35, -0.35, -0.35, -0.35, -0.35, -0.35, -0.35,\n",
       "       -0.35, -0.35, -0.35, -0.35, -0.35, -0.35, -0.35, -0.35, -0.35,\n",
       "       -0.35, -0.35, -0.35, -0.35, -0.35, -0.35, -0.35, -0.35, -0.35,\n",
       "       -0.35, -0.35, -0.35, -0.35, -0.35, -0.35, -0.35, -0.35, -0.35,\n",
       "       -0.35, -0.35, -0.35, -0.35, -0.35, -0.35, -0.35, -0.35, -0.35,\n",
       "       -0.35, -0.35, -0.35, -0.35, -0.35, -0.35, -0.35, -0.35, -0.35,\n",
       "       -0.35, -0.35, -0.35, -0.35, -0.35, -0.35, -0.35, -0.35, -0.35,\n",
       "       -0.35, -0.35, -0.35, -0.35, -0.35, -0.35, -0.35, -0.35, -0.35,\n",
       "       -0.35, -0.35, -0.35, -0.35, -0.35, -0.35, -0.35, -0.35, -0.35,\n",
       "       -0.35, -0.35, -0.35, -0.35, -0.35, -0.35, -0.35, -0.35, -0.35,\n",
       "       -0.35, -0.35, -0.35, -0.35, -0.35, -0.35, -0.35, -0.35, -0.35,\n",
       "       -0.35, -0.35, -0.35, -0.35, -0.35, -0.35, -0.35, -0.35, -0.35,\n",
       "       -0.35, -0.35, -0.35, -0.35, -0.35, -0.35, -0.35, -0.35, -0.35,\n",
       "       -0.35, -0.35, -0.35, -0.35, -0.35, -0.35, -0.35, -0.35, -0.35,\n",
       "       -0.35, -0.35, -0.35, -0.35, -0.35, -0.35, -0.35, -0.35, -0.35,\n",
       "       -0.35, -0.35, -0.35, -0.35, -0.35, -0.35, -0.35, -0.35, -0.35,\n",
       "       -0.35, -0.35, -0.35, -0.35, -0.35, -0.35, -0.35, -0.35, -0.35,\n",
       "       -0.35, -0.35, -0.35, -0.35, -0.35, -0.35, -0.35, -0.35, -0.35,\n",
       "       -0.35, -0.35, -0.35, -0.35, -0.35, -0.35, -0.35, -0.35, -0.35,\n",
       "       -0.35, -0.35, -0.35, -0.35, -0.35, -0.35, -0.35, -0.35, -0.35,\n",
       "       -0.35, -0.35, -0.35, -0.35, -0.35, -0.35, -0.35, -0.35, -0.35,\n",
       "       -0.35, -0.35, -0.35, -0.35, -0.35, -0.35, -0.35, -0.35, -0.35,\n",
       "       -0.35, -0.35, -0.35, -0.35, -0.35, -0.35, -0.35, -0.35, -0.35,\n",
       "       -0.35, -0.35, -0.35, -0.35, -0.35, -0.35, -0.35, -0.35, -0.35,\n",
       "       -0.35, -0.35, -0.35, -0.35, -0.35, -0.35, -0.35, -0.35, -0.35,\n",
       "       -0.35, -0.35, -0.35, -0.35, -0.35, -0.35, -0.35, -0.35, -0.35,\n",
       "       -0.35, -0.35, -0.35, -0.35, -0.35, -0.35, -0.35, -0.35, -0.35,\n",
       "       -0.35, -0.35, -0.35, -0.35, -0.35, -0.35, -0.35, -0.35, -0.35,\n",
       "       -0.35, -0.35, -0.35, -0.35, -0.35, -0.35, -0.35, -0.35, -0.35,\n",
       "       -0.35, -0.35, -0.35, -0.35, -0.35, -0.35, -0.35, -0.35, -0.35,\n",
       "       -0.35, -0.35, -0.35, -0.35, -0.35, -0.35, -0.35, -0.35, -0.35,\n",
       "       -0.35, -0.35, -0.35, -0.35, -0.35, -0.35, -0.35, -0.35, -0.35,\n",
       "       -0.35, -0.35, -0.35, -0.35, -0.35, -0.35, -0.35, -0.35, -0.35,\n",
       "       -0.35, -0.35, -0.35, -0.35, -0.35, -0.35, -0.35, -0.35, -0.35,\n",
       "       -0.35, -0.35, -0.35, -0.35, -0.35, -0.35, -0.35, -0.35, -0.35,\n",
       "       -0.35, -0.35, -0.35, -0.35, -0.35, -0.35, -0.35, -0.35, -0.35,\n",
       "       -0.35, -0.35, -0.35, -0.35, -0.35, -0.35, -0.35, -0.35, -0.35,\n",
       "       -0.35, -0.35, -0.35, -0.35, -0.35, -0.35, -0.35, -0.35, -0.35,\n",
       "       -0.35, -0.35, -0.35, -0.35, -0.35, -0.35, -0.35, -0.35, -0.35,\n",
       "       -0.35, -0.35, -0.35, -0.35, -0.35, -0.35, -0.35, -0.35, -0.35,\n",
       "       -0.35, -0.35, -0.35, -0.35, -0.35, -0.35, -0.35, -0.35, -0.35,\n",
       "       -0.35, -0.35, -0.35, -0.35, -0.35, -0.35, -0.35, -0.35, -0.35,\n",
       "       -0.35, -0.35, -0.35, -0.35, -0.35, -0.35, -0.35, -0.35, -0.35,\n",
       "       -0.35, -0.35, -0.35, -0.35, -0.35, -0.35, -0.35, -0.35, -0.35,\n",
       "       -0.35, -0.35, -0.35, -0.35, -0.35, -0.35, -0.35, -0.35, -0.35,\n",
       "       -0.35, -0.35, -0.35, -0.35, -0.35, -0.35, -0.35, -0.35, -0.35,\n",
       "       -0.35, -0.35, -0.35, -0.35, -0.35, -0.35, -0.35, -0.35, -0.35,\n",
       "       -0.35, -0.35, -0.35, -0.35, -0.35, -0.35, -0.35, -0.35, -0.35,\n",
       "       -0.35, -0.35, -0.35, -0.35, -0.35, -0.35, -0.35, -0.35, -0.35,\n",
       "       -0.35, -0.35, -0.35, -0.35, -0.35, -0.35, -0.35, -0.35, -0.35,\n",
       "       -0.35, -0.35, -0.35, -0.35, -0.35, -0.35, -0.35, -0.35, -0.35,\n",
       "       -0.35, -0.35, -0.35, -0.35, -0.35, -0.35, -0.35, -0.35, -0.35,\n",
       "       -0.35, -0.35, -0.35, -0.35, -0.35, -0.35, -0.35, -0.35, -0.35,\n",
       "       -0.35, -0.35, -0.35, -0.35, -0.35, -0.35, -0.35, -0.35, -0.35,\n",
       "       -0.35, -0.35, -0.35, -0.35, -0.35, -0.35, -0.35, -0.35, -0.35,\n",
       "       -0.35, -0.35, -0.35, -0.35, -0.35, -0.35, -0.35, -0.35, -0.35,\n",
       "       -0.35, -0.35, -0.35, -0.35, -0.35, -0.35, -0.35, -0.35, -0.35,\n",
       "       -0.35, -0.35, -0.35, -0.35, -0.35, -0.35, -0.35, -0.35, -0.35,\n",
       "       -0.35, -0.35, -0.35, -0.35, -0.35, -0.35, -0.35, -0.35, -0.35,\n",
       "       -0.35, -0.35, -0.35, -0.35, -0.35, -0.35, -0.35, -0.35, -0.35,\n",
       "       -0.35, -0.35, -0.35, -0.35, -0.35, -0.35, -0.35, -0.35, -0.35,\n",
       "       -0.35, -0.35, -0.35, -0.35, -0.35, -0.35, -0.35, -0.35, -0.35,\n",
       "       -0.35, -0.35, -0.35, -0.35, -0.35, -0.35, -0.35, -0.35, -0.35,\n",
       "       -0.35, -0.35, -0.35, -0.35, -0.35])"
      ]
     },
     "execution_count": 94,
     "metadata": {},
     "output_type": "execute_result"
    }
   ],
   "source": [
    "np.round(y_score,2)"
   ]
  },
  {
   "cell_type": "code",
   "execution_count": 97,
   "metadata": {
    "collapsed": false
   },
   "outputs": [
    {
     "data": {
      "text/plain": [
       "array(['ASSAULT', 'ASSAULT', 'ASSAULT', 'ASSAULT', 'ASSAULT', 'ASSAULT',\n",
       "       'ASSAULT', 'ASSAULT', 'ASSAULT', 'ASSAULT', 'ASSAULT', 'ASSAULT',\n",
       "       'ASSAULT', 'ASSAULT', 'ASSAULT', 'ASSAULT', 'ASSAULT', 'ASSAULT',\n",
       "       'ASSAULT', 'ASSAULT', 'ASSAULT', 'ASSAULT', 'ASSAULT', 'ASSAULT',\n",
       "       'ASSAULT', 'ASSAULT', 'ASSAULT', 'ASSAULT', 'ASSAULT', 'ASSAULT',\n",
       "       'ASSAULT', 'ASSAULT', 'ASSAULT', 'ASSAULT', 'ASSAULT', 'ASSAULT',\n",
       "       'ASSAULT', 'ASSAULT', 'ASSAULT', 'ASSAULT', 'ASSAULT', 'ASSAULT',\n",
       "       'ASSAULT', 'ASSAULT', 'ASSAULT', 'ASSAULT', 'ASSAULT', 'ASSAULT',\n",
       "       'ASSAULT', 'ASSAULT', 'ASSAULT', 'ASSAULT', 'ASSAULT', 'ASSAULT',\n",
       "       'ASSAULT', 'ASSAULT', 'ASSAULT', 'ASSAULT', 'ASSAULT', 'ASSAULT',\n",
       "       'ASSAULT', 'ASSAULT', 'ASSAULT', 'ASSAULT', 'ASSAULT', 'ASSAULT',\n",
       "       'ASSAULT', 'ASSAULT', 'ASSAULT', 'ASSAULT', 'ASSAULT', 'ASSAULT',\n",
       "       'ASSAULT', 'ASSAULT', 'ASSAULT', 'ASSAULT', 'ASSAULT', 'ASSAULT',\n",
       "       'ASSAULT', 'ASSAULT', 'ASSAULT', 'ASSAULT', 'ASSAULT', 'ASSAULT',\n",
       "       'ASSAULT', 'ASSAULT', 'ASSAULT', 'ASSAULT', 'ASSAULT', 'ASSAULT',\n",
       "       'ASSAULT', 'ASSAULT', 'ASSAULT', 'ASSAULT', 'ASSAULT', 'ASSAULT',\n",
       "       'ASSAULT', 'ASSAULT', 'ASSAULT', 'ASSAULT', 'ASSAULT', 'ASSAULT',\n",
       "       'ASSAULT', 'ASSAULT', 'ASSAULT', 'ASSAULT', 'ASSAULT', 'ASSAULT',\n",
       "       'ASSAULT', 'ASSAULT', 'ASSAULT', 'ASSAULT', 'ASSAULT', 'ASSAULT',\n",
       "       'ASSAULT', 'ASSAULT', 'ASSAULT', 'ASSAULT', 'ASSAULT', 'ASSAULT',\n",
       "       'ASSAULT', 'ASSAULT', 'ASSAULT', 'ASSAULT', 'ASSAULT', 'ASSAULT',\n",
       "       'ASSAULT', 'ASSAULT', 'ASSAULT', 'ASSAULT', 'ASSAULT', 'ASSAULT',\n",
       "       'ASSAULT', 'ASSAULT', 'ASSAULT', 'ASSAULT', 'ASSAULT', 'ASSAULT',\n",
       "       'ASSAULT', 'ASSAULT', 'ASSAULT', 'ASSAULT', 'ASSAULT', 'ASSAULT',\n",
       "       'ASSAULT', 'ASSAULT', 'ASSAULT', 'ASSAULT', 'ASSAULT', 'ASSAULT',\n",
       "       'ASSAULT', 'ASSAULT', 'ASSAULT', 'ASSAULT', 'ASSAULT', 'ASSAULT',\n",
       "       'ASSAULT', 'ASSAULT', 'ASSAULT', 'ASSAULT', 'ASSAULT', 'ASSAULT',\n",
       "       'ASSAULT', 'ASSAULT', 'ASSAULT', 'ASSAULT', 'ASSAULT', 'ASSAULT',\n",
       "       'ASSAULT', 'ASSAULT', 'ASSAULT', 'ASSAULT', 'ASSAULT', 'ASSAULT',\n",
       "       'ASSAULT', 'ASSAULT', 'ASSAULT', 'ASSAULT', 'ASSAULT', 'ASSAULT',\n",
       "       'ASSAULT', 'ASSAULT', 'ASSAULT', 'ASSAULT', 'ASSAULT', 'ASSAULT',\n",
       "       'ASSAULT', 'ASSAULT', 'ASSAULT', 'ASSAULT', 'ASSAULT', 'ASSAULT',\n",
       "       'ASSAULT', 'ASSAULT', 'ASSAULT', 'ASSAULT', 'ASSAULT', 'ASSAULT',\n",
       "       'ASSAULT', 'ASSAULT', 'ASSAULT', 'ASSAULT', 'ASSAULT', 'ASSAULT',\n",
       "       'ASSAULT', 'ASSAULT', 'ASSAULT', 'ASSAULT', 'ASSAULT', 'ASSAULT',\n",
       "       'ASSAULT', 'ASSAULT', 'ASSAULT', 'ASSAULT', 'ASSAULT', 'ASSAULT',\n",
       "       'ASSAULT', 'ASSAULT', 'ASSAULT', 'ASSAULT', 'ASSAULT', 'ASSAULT',\n",
       "       'ASSAULT', 'ASSAULT', 'ASSAULT', 'ASSAULT', 'ASSAULT', 'ASSAULT',\n",
       "       'ASSAULT', 'ASSAULT', 'ASSAULT', 'ASSAULT', 'ASSAULT', 'ASSAULT',\n",
       "       'ASSAULT', 'ASSAULT', 'ASSAULT', 'ASSAULT', 'ASSAULT', 'ASSAULT',\n",
       "       'ASSAULT', 'ASSAULT', 'ASSAULT', 'ASSAULT', 'ASSAULT', 'ASSAULT',\n",
       "       'ASSAULT', 'ASSAULT', 'ASSAULT', 'ASSAULT', 'ASSAULT', 'ASSAULT',\n",
       "       'ASSAULT', 'ASSAULT', 'ASSAULT', 'ASSAULT', 'ASSAULT', 'ASSAULT',\n",
       "       'ASSAULT', 'ASSAULT', 'ASSAULT', 'ASSAULT', 'ASSAULT', 'ASSAULT',\n",
       "       'ASSAULT', 'ASSAULT', 'ASSAULT', 'ASSAULT', 'ASSAULT', 'ASSAULT',\n",
       "       'ASSAULT', 'ASSAULT', 'ASSAULT', 'ASSAULT', 'ASSAULT', 'ASSAULT',\n",
       "       'ASSAULT', 'ASSAULT', 'ASSAULT', 'ASSAULT', 'ASSAULT', 'ASSAULT',\n",
       "       'ASSAULT', 'ASSAULT', 'ASSAULT', 'ASSAULT', 'ASSAULT', 'ASSAULT',\n",
       "       'ASSAULT', 'ASSAULT', 'ASSAULT', 'ASSAULT', 'ASSAULT', 'ASSAULT',\n",
       "       'ASSAULT', 'ASSAULT', 'ASSAULT', 'ASSAULT', 'ASSAULT', 'ASSAULT',\n",
       "       'ASSAULT', 'ASSAULT', 'ASSAULT', 'ASSAULT', 'ASSAULT', 'ASSAULT',\n",
       "       'ASSAULT', 'ASSAULT', 'ASSAULT', 'ASSAULT', 'ASSAULT', 'ASSAULT',\n",
       "       'ASSAULT', 'ASSAULT', 'ASSAULT', 'ASSAULT', 'ASSAULT', 'ASSAULT',\n",
       "       'ASSAULT', 'ASSAULT', 'ASSAULT', 'ASSAULT', 'ASSAULT', 'ASSAULT',\n",
       "       'ASSAULT', 'ASSAULT', 'ASSAULT', 'ASSAULT', 'ASSAULT', 'ASSAULT',\n",
       "       'ASSAULT', 'ASSAULT', 'ASSAULT', 'ASSAULT', 'ASSAULT', 'ASSAULT',\n",
       "       'ASSAULT', 'ASSAULT', 'ASSAULT', 'ASSAULT', 'ASSAULT', 'ASSAULT',\n",
       "       'ASSAULT', 'ASSAULT', 'ASSAULT', 'ASSAULT', 'ASSAULT', 'ASSAULT',\n",
       "       'ASSAULT', 'ASSAULT', 'ASSAULT', 'ASSAULT', 'ASSAULT', 'ASSAULT',\n",
       "       'ASSAULT', 'ASSAULT', 'ASSAULT', 'ASSAULT', 'ASSAULT', 'ASSAULT',\n",
       "       'ASSAULT', 'ASSAULT', 'ASSAULT', 'ASSAULT', 'ASSAULT', 'ASSAULT',\n",
       "       'ASSAULT', 'ASSAULT', 'ASSAULT', 'ASSAULT', 'ASSAULT', 'ASSAULT',\n",
       "       'ASSAULT', 'ASSAULT', 'ASSAULT', 'ASSAULT', 'ASSAULT', 'ASSAULT',\n",
       "       'ASSAULT', 'ASSAULT', 'ASSAULT', 'ASSAULT', 'ASSAULT', 'ASSAULT',\n",
       "       'ASSAULT', 'ASSAULT', 'ASSAULT', 'ASSAULT', 'ASSAULT', 'ASSAULT',\n",
       "       'ASSAULT', 'ASSAULT', 'ASSAULT', 'ASSAULT', 'ASSAULT', 'ASSAULT',\n",
       "       'ASSAULT', 'ASSAULT', 'ASSAULT', 'ASSAULT', 'ASSAULT', 'ASSAULT',\n",
       "       'ASSAULT', 'ASSAULT', 'ASSAULT', 'ASSAULT', 'ASSAULT', 'ASSAULT',\n",
       "       'ASSAULT', 'ASSAULT', 'ASSAULT', 'ASSAULT', 'ASSAULT', 'ASSAULT',\n",
       "       'ASSAULT', 'ASSAULT', 'ASSAULT', 'ASSAULT', 'ASSAULT', 'ASSAULT',\n",
       "       'ASSAULT', 'ASSAULT', 'ASSAULT', 'ASSAULT', 'ASSAULT', 'ASSAULT',\n",
       "       'ASSAULT', 'ASSAULT', 'ASSAULT', 'ASSAULT', 'ASSAULT', 'ASSAULT',\n",
       "       'ASSAULT', 'ASSAULT', 'ASSAULT', 'ASSAULT', 'ASSAULT', 'ASSAULT',\n",
       "       'ASSAULT', 'ASSAULT', 'ASSAULT', 'ASSAULT', 'ASSAULT', 'ASSAULT',\n",
       "       'ASSAULT', 'ASSAULT', 'ASSAULT', 'ASSAULT', 'ASSAULT', 'ASSAULT',\n",
       "       'ASSAULT', 'ASSAULT', 'ASSAULT', 'ASSAULT', 'ASSAULT', 'ASSAULT',\n",
       "       'ASSAULT', 'ASSAULT', 'ASSAULT', 'ASSAULT', 'ASSAULT', 'ASSAULT',\n",
       "       'ASSAULT', 'ASSAULT', 'ASSAULT', 'ASSAULT', 'ASSAULT', 'ASSAULT',\n",
       "       'ASSAULT', 'ASSAULT', 'ASSAULT', 'ASSAULT', 'ASSAULT', 'ASSAULT',\n",
       "       'ASSAULT', 'ASSAULT', 'ASSAULT', 'ASSAULT', 'ASSAULT', 'ASSAULT',\n",
       "       'ASSAULT', 'ASSAULT', 'ASSAULT', 'ASSAULT', 'ASSAULT', 'ASSAULT',\n",
       "       'ASSAULT', 'ASSAULT', 'ASSAULT', 'ASSAULT', 'ASSAULT', 'ASSAULT',\n",
       "       'ASSAULT', 'ASSAULT', 'ASSAULT', 'ASSAULT', 'ASSAULT', 'ASSAULT',\n",
       "       'ASSAULT', 'ASSAULT', 'ASSAULT', 'ASSAULT', 'ASSAULT', 'ASSAULT',\n",
       "       'ASSAULT', 'ASSAULT', 'ASSAULT', 'ASSAULT', 'ASSAULT', 'ASSAULT',\n",
       "       'ASSAULT', 'ASSAULT', 'ASSAULT', 'ASSAULT', 'ASSAULT', 'ASSAULT',\n",
       "       'ASSAULT', 'ASSAULT', 'ASSAULT', 'ASSAULT', 'ASSAULT', 'ASSAULT',\n",
       "       'ASSAULT', 'ASSAULT', 'ASSAULT', 'ASSAULT', 'ASSAULT', 'ASSAULT',\n",
       "       'ASSAULT', 'ASSAULT', 'ASSAULT', 'ASSAULT', 'ASSAULT', 'ASSAULT',\n",
       "       'ASSAULT', 'ASSAULT', 'ASSAULT', 'ASSAULT', 'ASSAULT', 'ASSAULT',\n",
       "       'ASSAULT', 'ASSAULT', 'ASSAULT', 'ASSAULT', 'ASSAULT', 'ASSAULT',\n",
       "       'ASSAULT', 'ASSAULT', 'ASSAULT', 'ASSAULT', 'ASSAULT', 'ASSAULT',\n",
       "       'ASSAULT', 'ASSAULT', 'ASSAULT', 'ASSAULT', 'ASSAULT', 'ASSAULT',\n",
       "       'ASSAULT', 'ASSAULT', 'ASSAULT', 'ASSAULT', 'ASSAULT', 'ASSAULT',\n",
       "       'ASSAULT', 'ASSAULT', 'ASSAULT', 'ASSAULT', 'ASSAULT', 'ASSAULT',\n",
       "       'ASSAULT', 'ASSAULT', 'ASSAULT', 'ASSAULT', 'ASSAULT', 'ASSAULT',\n",
       "       'ASSAULT', 'ASSAULT', 'ASSAULT', 'ASSAULT', 'ASSAULT', 'ASSAULT',\n",
       "       'ASSAULT', 'ASSAULT', 'ASSAULT', 'ASSAULT', 'ASSAULT', 'ASSAULT',\n",
       "       'ASSAULT', 'ASSAULT', 'ASSAULT', 'ASSAULT', 'ASSAULT', 'ASSAULT',\n",
       "       'ASSAULT', 'ASSAULT', 'ASSAULT', 'ASSAULT', 'ASSAULT', 'ASSAULT',\n",
       "       'ASSAULT', 'ASSAULT', 'ASSAULT', 'ASSAULT', 'ASSAULT', 'ASSAULT',\n",
       "       'ASSAULT', 'ASSAULT', 'ASSAULT', 'ASSAULT', 'ASSAULT', 'ASSAULT',\n",
       "       'ASSAULT', 'ASSAULT', 'ASSAULT', 'ASSAULT', 'ASSAULT', 'ASSAULT',\n",
       "       'ASSAULT', 'ASSAULT', 'ASSAULT', 'ASSAULT', 'ASSAULT', 'ASSAULT',\n",
       "       'ASSAULT', 'ASSAULT', 'ASSAULT', 'ASSAULT', 'ASSAULT', 'ASSAULT',\n",
       "       'ASSAULT', 'ASSAULT', 'ASSAULT', 'ASSAULT', 'ASSAULT', 'ASSAULT',\n",
       "       'ASSAULT', 'ASSAULT', 'ASSAULT', 'ASSAULT', 'ASSAULT', 'ASSAULT',\n",
       "       'ASSAULT', 'ASSAULT', 'ASSAULT', 'ASSAULT', 'ASSAULT', 'ASSAULT',\n",
       "       'ASSAULT', 'ASSAULT', 'ASSAULT', 'ASSAULT', 'ASSAULT', 'ASSAULT',\n",
       "       'ASSAULT', 'ASSAULT', 'ASSAULT', 'ASSAULT', 'ASSAULT', 'ASSAULT',\n",
       "       'ASSAULT', 'ASSAULT', 'ASSAULT', 'ASSAULT', 'ASSAULT', 'ASSAULT',\n",
       "       'ASSAULT', 'ASSAULT', 'ASSAULT', 'ASSAULT', 'ASSAULT', 'ASSAULT',\n",
       "       'ASSAULT', 'ASSAULT', 'ASSAULT', 'ASSAULT', 'ASSAULT', 'ASSAULT',\n",
       "       'ASSAULT', 'ASSAULT', 'ASSAULT', 'ASSAULT', 'ASSAULT', 'ASSAULT',\n",
       "       'ASSAULT', 'ASSAULT', 'ASSAULT', 'ASSAULT', 'ASSAULT', 'ASSAULT',\n",
       "       'ASSAULT', 'ASSAULT', 'ASSAULT', 'ASSAULT', 'ASSAULT', 'ASSAULT',\n",
       "       'ASSAULT', 'ASSAULT', 'ASSAULT', 'ASSAULT', 'ASSAULT', 'ASSAULT',\n",
       "       'ASSAULT', 'ASSAULT', 'ASSAULT', 'ASSAULT', 'ASSAULT', 'ASSAULT',\n",
       "       'ASSAULT', 'ASSAULT', 'ASSAULT', 'ASSAULT', 'ASSAULT', 'ASSAULT',\n",
       "       'ASSAULT', 'ASSAULT', 'ASSAULT', 'ASSAULT', 'ASSAULT', 'ASSAULT',\n",
       "       'ASSAULT', 'ASSAULT', 'ASSAULT', 'ASSAULT', 'ASSAULT', 'ASSAULT',\n",
       "       'ASSAULT', 'ASSAULT', 'ASSAULT', 'ASSAULT', 'ASSAULT', 'ASSAULT',\n",
       "       'ASSAULT', 'ASSAULT', 'ASSAULT', 'ASSAULT', 'ASSAULT', 'ASSAULT',\n",
       "       'ASSAULT', 'ASSAULT', 'ASSAULT', 'ASSAULT', 'ASSAULT', 'ASSAULT',\n",
       "       'ASSAULT', 'ASSAULT', 'ASSAULT', 'ASSAULT', 'ASSAULT', 'ASSAULT',\n",
       "       'ASSAULT', 'ASSAULT', 'ASSAULT', 'ASSAULT', 'ASSAULT', 'ASSAULT',\n",
       "       'ASSAULT', 'ASSAULT', 'ASSAULT', 'ASSAULT', 'ASSAULT', 'ASSAULT',\n",
       "       'ASSAULT', 'ASSAULT', 'ASSAULT', 'ASSAULT', 'ASSAULT', 'ASSAULT',\n",
       "       'ASSAULT', 'ASSAULT', 'ASSAULT', 'ASSAULT', 'ASSAULT', 'ASSAULT',\n",
       "       'ASSAULT', 'ASSAULT', 'ASSAULT', 'ASSAULT', 'ASSAULT', 'ASSAULT',\n",
       "       'ASSAULT', 'ASSAULT', 'ASSAULT', 'ASSAULT', 'ASSAULT', 'ASSAULT',\n",
       "       'ASSAULT', 'ASSAULT', 'ASSAULT', 'ASSAULT', 'ASSAULT', 'ASSAULT',\n",
       "       'ASSAULT', 'ASSAULT', 'ASSAULT', 'ASSAULT', 'ASSAULT'], dtype=object)"
      ]
     },
     "execution_count": 97,
     "metadata": {},
     "output_type": "execute_result"
    }
   ],
   "source": [
    "Ypred"
   ]
  },
  {
   "cell_type": "code",
   "execution_count": 100,
   "metadata": {
    "collapsed": false
   },
   "outputs": [
    {
     "data": {
      "image/png": "[encoded data removed]",
      "text/plain": [
       "<matplotlib.figure.Figure at 0x118f1d750>"
      ]
     },
     "metadata": {},
     "output_type": "display_data"
    }
   ],
   "source": [
    "import matplotlib.pyplot as plt\n",
    "plt.plot(fpr,tpr)\n",
    "plt.xlim([0.0, 1.0])\n",
    "plt.ylim([0.0,1.0])\n",
    "#plt.rcparams['font.size']=12\n",
    "plt.title(\"ROC Curve\")\n",
    "plt.xlabel('FPR(1-specificity)')\n",
    "plt.ylabel('TPR(Sensitivity)')\n",
    "plt.grid(True)"
   ]
  },
  {
   "cell_type": "code",
   "execution_count": 101,
   "metadata": {
    "collapsed": true
   },
   "outputs": [],
   "source": [
    "def evaluate_threshold(threshold):\n",
    "    print('TPR:',tpr[thresholds>threshold][-1])\n",
    "    print('FPR:',fpr[thresholds>threshold][-1])"
   ]
  },
  {
   "cell_type": "code",
   "execution_count": 103,
   "metadata": {
    "collapsed": false
   },
   "outputs": [
    {
     "name": "stdout",
     "output_type": "stream",
     "text": [
      "Threshold: -0.348100581317\n",
      "('TPR:', 1.0)\n",
      "('FPR:', 0.99803149606299213)\n",
      "\n",
      "Threshold: 0.151899418683\n",
      "('TPR:', 0.0)\n",
      "('FPR:', 0.0)\n",
      "\n",
      "Threshold: 0.651899418683\n",
      "('TPR:', 0.0)\n",
      "('FPR:', 0.0)\n",
      "\n"
     ]
    }
   ],
   "source": [
    "for i in np.arange(min(thresholds),max(thresholds),0.5):\n",
    "    print('Threshold:'),i\n",
    "    evaluate_threshold(i)\n",
    "    print"
   ]
  },
  {
   "cell_type": "code",
   "execution_count": 95,
   "metadata": {
    "collapsed": false
   },
   "outputs": [],
   "source": [
    "# find the best parameter\n"
   ]
  },
  {
   "cell_type": "code",
   "execution_count": 96,
   "metadata": {
    "collapsed": false
   },
   "outputs": [],
   "source": [
    "# use this parameter to .fit, .predict, and print a classification_report for our X and Y\n"
   ]
  },
  {
   "cell_type": "code",
   "execution_count": null,
   "metadata": {
    "collapsed": true
   },
   "outputs": [],
   "source": []
  }
 ],
 "metadata": {
  "anaconda-cloud": {},
  "kernelspec": {
   "display_name": "Python [default]",
   "language": "python",
   "name": "python2"
  },
  "language_info": {
   "codemirror_mode": {
    "name": "ipython",
    "version": 2
   },
   "file_extension": ".py",
   "mimetype": "text/x-python",
   "name": "python",
   "nbconvert_exporter": "python",
   "pygments_lexer": "ipython2",
   "version": "2.7.12"
  }
 },
 "nbformat": 4,
 "nbformat_minor": 0
}
