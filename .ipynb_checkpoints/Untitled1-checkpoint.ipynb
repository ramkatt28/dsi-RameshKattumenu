{
 "cells": [
  {
   "cell_type": "code",
   "execution_count": 1,
   "metadata": {
    "collapsed": true
   },
   "outputs": [],
   "source": [
    "import pandas as pd"
   ]
  },
  {
   "cell_type": "code",
   "execution_count": 33,
   "metadata": {
    "collapsed": false
   },
   "outputs": [
    {
     "name": "stdout",
     "output_type": "stream",
     "text": [
      "None\n",
      "None\n",
      "None\n",
      "None\n",
      "None\n",
      "None\n",
      "None\n",
      "None\n",
      "None\n",
      "None\n"
     ]
    }
   ],
   "source": [
    "#def nom(n):\n",
    "    for i in range (n):\n",
    "        nums=[]\n",
    "        nums = nums.append(i)\n",
    "        print nums\n",
    "#     for j in nums:\n",
    "#         print j\n",
    "#         if j%3!=0:\n",
    "#             print i\n",
    "#         if j%5!=0:\n",
    "#             print i\n",
    "#         if j%3==0:\n",
    "#             print 'hey'\n",
    "#         if j%5==0:\n",
    "#             print 'hey-ho'\n",
    "    return\n",
    "nom(10)        "
   ]
  },
  {
   "cell_type": "code",
   "execution_count": 54,
   "metadata": {
    "collapsed": false
   },
   "outputs": [
    {
     "data": {
      "text/plain": [
       "[0, 15]"
      ]
     },
     "execution_count": 54,
     "metadata": {},
     "output_type": "execute_result"
    }
   ],
   "source": [
    "num_list= [i for i in range(20) if i%3==0 if i%5==0]\n",
    "num_list"
   ]
  },
  {
   "cell_type": "code",
   "execution_count": 66,
   "metadata": {
    "collapsed": false
   },
   "outputs": [
    {
     "data": {
      "text/plain": [
       "[1, 2, 'hey', 4, 'ho', 'hey', 7, 8, 'hey', 'ho', 11, 'hey', 13, 14, 'hey']"
      ]
     },
     "execution_count": 66,
     "metadata": {},
     "output_type": "execute_result"
    }
   ],
   "source": [
    "def nums(n):\n",
    "    num_list= [i for i in range(1,n+1)]\n",
    "    num2=[]\n",
    "    for i in num_list:\n",
    "        if i%3==0:\n",
    "            num2.append('hey')\n",
    "        elif i%5==0:\n",
    "            num2.append('ho')\n",
    "        elif i%15==0:\n",
    "            num2.append('hey-ho')\n",
    "        else:\n",
    "            num2.append(i)\n",
    "    return num2\n",
    "             \n",
    "nums(15)"
   ]
  },
  {
   "cell_type": "code",
   "execution_count": 72,
   "metadata": {
    "collapsed": false
   },
   "outputs": [
    {
     "data": {
      "text/plain": [
       "[1,\n",
       " 2,\n",
       " 'hey',\n",
       " 4,\n",
       " 'ho',\n",
       " 'hey',\n",
       " 7,\n",
       " 8,\n",
       " 'hey',\n",
       " 'ho',\n",
       " 11,\n",
       " 'hey',\n",
       " 13,\n",
       " 14,\n",
       " 'hey-ho',\n",
       " 16,\n",
       " 17,\n",
       " 'hey']"
      ]
     },
     "execution_count": 72,
     "metadata": {},
     "output_type": "execute_result"
    }
   ],
   "source": [
    "def nums(n):\n",
    "    num_list = [i for i in range(1,n+1)]\n",
    "    i=3\n",
    "    while i<=n:\n",
    "        num_list[i-1]='hey'\n",
    "        i=i+3\n",
    "    i=5\n",
    "    while i<=n:\n",
    "        num_list[i-1]='ho'\n",
    "        i=i+5\n",
    "    i=15\n",
    "    while i<=n:\n",
    "        num_list[i-1]='hey-ho'\n",
    "        i=i+15\n",
    "    return num_list\n",
    "            \n",
    "nums(18)        "
   ]
  },
  {
   "cell_type": "code",
   "execution_count": 68,
   "metadata": {
    "collapsed": true
   },
   "outputs": [],
   "source": [
    "d = {}"
   ]
  },
  {
   "cell_type": "code",
   "execution_count": 69,
   "metadata": {
    "collapsed": true
   },
   "outputs": [],
   "source": [
    "for i in range(0,34):\n",
    "    d[i]=i"
   ]
  },
  {
   "cell_type": "code",
   "execution_count": 79,
   "metadata": {
    "collapsed": false
   },
   "outputs": [
    {
     "data": {
      "text/plain": [
       "{0: 'hey-ho',\n",
       " 1: 1,\n",
       " 2: 2,\n",
       " 3: 'hey',\n",
       " 4: 4,\n",
       " 5: 'ho',\n",
       " 6: 'hey',\n",
       " 7: 7,\n",
       " 8: 8,\n",
       " 9: 'hey',\n",
       " 10: 'ho',\n",
       " 11: 11,\n",
       " 12: 'hey',\n",
       " 13: 13,\n",
       " 14: 14,\n",
       " 15: 'hey-ho',\n",
       " 16: 16,\n",
       " 17: 17,\n",
       " 18: 'hey',\n",
       " 19: 19,\n",
       " 20: 'ho',\n",
       " 21: 'hey',\n",
       " 22: 22,\n",
       " 23: 23,\n",
       " 24: 'hey',\n",
       " 25: 'ho',\n",
       " 26: 26,\n",
       " 27: 'hey',\n",
       " 28: 28,\n",
       " 29: 29,\n",
       " 30: 'hey-ho',\n",
       " 31: 31,\n",
       " 32: 32,\n",
       " 33: 'hey'}"
      ]
     },
     "execution_count": 79,
     "metadata": {},
     "output_type": "execute_result"
    }
   ],
   "source": [
    "d"
   ]
  },
  {
   "cell_type": "code",
   "execution_count": 73,
   "metadata": {
    "collapsed": false
   },
   "outputs": [],
   "source": [
    "for i in range(0,34,3):\n",
    "    d[i]='hey'"
   ]
  },
  {
   "cell_type": "code",
   "execution_count": 74,
   "metadata": {
    "collapsed": true
   },
   "outputs": [],
   "source": [
    "for i in range(0,34,5):\n",
    "    d[i]='ho'"
   ]
  },
  {
   "cell_type": "code",
   "execution_count": 75,
   "metadata": {
    "collapsed": true
   },
   "outputs": [],
   "source": [
    "for i in range(0,34,15):\n",
    "    d[i]='hey-ho'"
   ]
  },
  {
   "cell_type": "code",
   "execution_count": 80,
   "metadata": {
    "collapsed": true
   },
   "outputs": [],
   "source": [
    "del d[0]"
   ]
  },
  {
   "cell_type": "code",
   "execution_count": 81,
   "metadata": {
    "collapsed": false
   },
   "outputs": [
    {
     "data": {
      "text/plain": [
       "[1,\n",
       " 2,\n",
       " 'hey',\n",
       " 4,\n",
       " 'ho',\n",
       " 'hey',\n",
       " 7,\n",
       " 8,\n",
       " 'hey',\n",
       " 'ho',\n",
       " 11,\n",
       " 'hey',\n",
       " 13,\n",
       " 14,\n",
       " 'hey-ho',\n",
       " 16,\n",
       " 17,\n",
       " 'hey',\n",
       " 19,\n",
       " 'ho',\n",
       " 'hey',\n",
       " 22,\n",
       " 23,\n",
       " 'hey',\n",
       " 'ho',\n",
       " 26,\n",
       " 'hey',\n",
       " 28,\n",
       " 29,\n",
       " 'hey-ho',\n",
       " 31,\n",
       " 32,\n",
       " 'hey']"
      ]
     },
     "execution_count": 81,
     "metadata": {},
     "output_type": "execute_result"
    }
   ],
   "source": [
    "d.values()"
   ]
  },
  {
   "cell_type": "code",
   "execution_count": 98,
   "metadata": {
    "collapsed": false
   },
   "outputs": [
    {
     "data": {
      "text/plain": [
       "[1,\n",
       " 2,\n",
       " 'hey',\n",
       " 4,\n",
       " 'ho',\n",
       " 'hey',\n",
       " 7,\n",
       " 8,\n",
       " 'hey',\n",
       " 'ho',\n",
       " 11,\n",
       " 'hey',\n",
       " 13,\n",
       " 14,\n",
       " 'hey-ho',\n",
       " 16,\n",
       " 17,\n",
       " 'hey',\n",
       " 19,\n",
       " 'ho',\n",
       " 'hey',\n",
       " 22,\n",
       " 23,\n",
       " 'hey',\n",
       " 'ho',\n",
       " 26,\n",
       " 'hey',\n",
       " 28,\n",
       " 29,\n",
       " 'hey-ho',\n",
       " 31,\n",
       " 32,\n",
       " 'hey',\n",
       " 34,\n",
       " 'ho']"
      ]
     },
     "execution_count": 98,
     "metadata": {},
     "output_type": "execute_result"
    }
   ],
   "source": [
    "def nums(n):\n",
    "    d2 = [i for i in range(0,n+1)]\n",
    "    for step in [(3,'hey'),(5,'ho'),(15,'hey-ho')]:\n",
    "        for i in range(0,len(d2), step[0]):\n",
    "            d2[i]=step[1]\n",
    "    del d2[0]\n",
    "    return d2\n",
    "nums(35)"
   ]
  },
  {
   "cell_type": "code",
   "execution_count": null,
   "metadata": {
    "collapsed": true
   },
   "outputs": [],
   "source": []
  }
 ],
 "metadata": {
  "anaconda-cloud": {},
  "kernelspec": {
   "display_name": "Python [default]",
   "language": "python",
   "name": "python2"
  },
  "language_info": {
   "codemirror_mode": {
    "name": "ipython",
    "version": 2
   },
   "file_extension": ".py",
   "mimetype": "text/x-python",
   "name": "python",
   "nbconvert_exporter": "python",
   "pygments_lexer": "ipython2",
   "version": "2.7.12"
  }
 },
 "nbformat": 4,
 "nbformat_minor": 1
}
