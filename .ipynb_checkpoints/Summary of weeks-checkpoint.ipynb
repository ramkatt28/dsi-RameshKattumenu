{
 "cells": [
  {
   "cell_type": "markdown",
   "metadata": {},
   "source": [
    "## Week 1"
   ]
  },
  {
   "cell_type": "code",
   "execution_count": 2,
   "metadata": {
    "collapsed": true
   },
   "outputs": [],
   "source": [
    "# 1.1 Lesson- Using the command line"
   ]
  },
  {
   "cell_type": "markdown",
   "metadata": {},
   "source": [
    "⌘ (Command) + Space - to open spotlight\n",
    "⌘-T - to open multiple tabs\n",
    "⌘-W- to close current tab\n",
    "Ctrl-C- to quit the current process\n",
    "ping 127.0.0.1= To send a message to computer asking if it is awake\n",
    "⌘-Q- to quit the command line altogether"
   ]
  },
  {
   "cell_type": "markdown",
   "metadata": {},
   "source": [
    "Paths\n",
    "cd- change directory (also returns to home directory)\n",
    "pwd- print working directory- will give absolute path of the current location\n",
    "/ means root directory\n",
    "cd ~\\ to return to home directory (tilde is useful to shorten paths) ~Desktop\n",
    "ls- list files i a directory (or ls /Applications-lists applications\n",
    "mkdir folder - makes a new directory\n",
    "touch file2- creates a new file called file2\n",
    "rm file2- removes files2\n",
    "rm -r folder/ removes a directory/folder\n",
    "\n",
    "\n",
    "\n"
   ]
  },
  {
   "cell_type": "code",
   "execution_count": 4,
   "metadata": {
    "collapsed": true
   },
   "outputs": [],
   "source": [
    "# 1.2 Lesson- Intro to Git"
   ]
  },
  {
   "cell_type": "markdown",
   "metadata": {},
   "source": [
    "Git - A distributed version control system run from the command line\n",
    "Github- hosting service for Git repos\n"
   ]
  },
  {
   "cell_type": "markdown",
   "metadata": {},
   "source": [
    "Navigate to the directory\n",
    "Place th directory under Git version contro using:\n",
    "$ git init\n",
    "Git will reply:\n",
    "Initiaized empty Git repository in <location>\n",
    "this will initialize the working directory"
   ]
  },
  {
   "cell_type": "markdown",
   "metadata": {},
   "source": [
    "git add. - returns a snapshot of all files in the current directory\n",
    "$ git commit -m 'file2.txt'- permanently stores the contents in the repo\n",
    "(-m adds a commit message)\n",
    "git status - \n",
    "git log - to view the commit history\n",
    "#git remote add origin git@github.com:github-name/DSI-projects.git - local repo is connecte with a remote repo on github\n",
    "git push- pushes the file in the local repo to the remote repo\n"
   ]
  },
  {
   "cell_type": "code",
   "execution_count": 5,
   "metadata": {
    "collapsed": true
   },
   "outputs": [],
   "source": [
    "#1.3 lesson - Intro to python- Datatypes"
   ]
  },
  {
   "cell_type": "markdown",
   "metadata": {},
   "source": [
    "integers, floats, strings tuples, lists, dictionary"
   ]
  },
  {
   "cell_type": "code",
   "execution_count": 9,
   "metadata": {
    "collapsed": false
   },
   "outputs": [
    {
     "data": {
      "text/plain": [
       "'how'"
      ]
     },
     "execution_count": 9,
     "metadata": {},
     "output_type": "execute_result"
    }
   ],
   "source": [
    "#tuples - stores a specific no of elements\n",
    "x=(\"what\",'how','why')\n",
    "x[1]"
   ]
  },
  {
   "cell_type": "markdown",
   "metadata": {},
   "source": [
    "Lists- Is a changeable sequence of data"
   ]
  },
  {
   "cell_type": "markdown",
   "metadata": {},
   "source": [
    "Dictionaries- Contains key and value. Have no specific order.\n",
    "Dictionaries are indexed by keys rather than numeric index.\n",
    "To get a value in a dict type the key.\n",
    "x = {0:[1,2,3], 'b':['a','2','c']}"
   ]
  },
  {
   "cell_type": "markdown",
   "metadata": {},
   "source": [
    "List functions\n",
    "1. .append(item)- to add item to a list\n",
    "1. .extend([item1,item2])- to join another list to the end of the list\n",
    "1. .insert(index, item)- to add an item to a list at an index\n",
    "1. .remove(item)- to remove an item from a list\n",
    "1. .sort()- to sort  a list\n",
    "1. .count(item)-to count the number of times an item appears in a list\n",
    "1. .index(item)- to find the index of an element in a list\n",
    "1. .pop(item)- to extract and remove the last element of a list\n",
    "1. .reverse()- to reverse a list"
   ]
  },
  {
   "cell_type": "markdown",
   "metadata": {},
   "source": [
    "Dictionary functions\n",
    "1. .pop(key)- to remove a key:value pair from the dictionary and return the value\n",
    "2. .get(key)- to get the value for a key\n",
    "3. .has_key(key)- to check if a key is in the dict\n",
    "4. .keys()- to get a lost of keys in the dict\n",
    "5. .items()- to get a list of key:value pairs in the dict\n",
    "6. .update(other_dictionary)- to merge a 2nd dict into the current dict\n",
    "7. .clear()- to remove key:value pairs from a dict"
   ]
  },
  {
   "cell_type": "code",
   "execution_count": null,
   "metadata": {
    "collapsed": true
   },
   "outputs": [],
   "source": []
  }
 ],
 "metadata": {
  "anaconda-cloud": {},
  "kernelspec": {
   "display_name": "Python [default]",
   "language": "python",
   "name": "python2"
  },
  "language_info": {
   "codemirror_mode": {
    "name": "ipython",
    "version": 2
   },
   "file_extension": ".py",
   "mimetype": "text/x-python",
   "name": "python",
   "nbconvert_exporter": "python",
   "pygments_lexer": "ipython2",
   "version": "2.7.12"
  }
 },
 "nbformat": 4,
 "nbformat_minor": 1
}
