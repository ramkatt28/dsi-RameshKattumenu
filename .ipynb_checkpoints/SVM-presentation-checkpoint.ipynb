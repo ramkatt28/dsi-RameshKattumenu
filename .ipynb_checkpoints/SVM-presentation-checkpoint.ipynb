{
 "cells": [
  {
   "cell_type": "markdown",
   "metadata": {},
   "source": [
    " ## Support Vector Machines"
   ]
  },
  {
   "cell_type": "markdown",
   "metadata": {},
   "source": [
    "1. A decision boundary between the 2 classes is   created. \n",
    "1. SVM learns how important each training data point is in representing the decision boundary between the 2 classes.\n",
    "1. Typicaly only a subset of the training points matter for defining the decision boundary.\n",
    "1. The ones that lie on the border between the classes.\n",
    "1. These are caled support vectors.\n",
    "1. To make a prediciton for a new point, the distance to each of the support vectors is measured.\n",
    "1. A classification decision is based on the distances to the support vector, and the importance of the support vectors that was learned during training.\n"
   ]
  },
  {
   "cell_type": "markdown",
   "metadata": {},
   "source": [
    "Tuning SVM parameters:\n",
    "1. The gamma parameter- controls of the width of the Gaussian kernel.\n",
    "1. It determines the scale of what it means for points to be close together.\n",
    "1. The C parameter- regularization parameter- It limits the importance of each point in the model."
   ]
  },
  {
   "cell_type": "markdown",
   "metadata": {},
   "source": [
    "The C parameter:\n",
    "1. Small C means a very restricted model, where each data point will have very limited influence.\n",
    "1. This means the misclassified points barely have any influence on the line.\n",
    "1. A high C allows the misclassified points to have a stronger influence on the madel and makes the decision boundary bend to correctly classify them\n"
   ]
  },
  {
   "cell_type": "markdown",
   "metadata": {},
   "source": [
    "The Gamma parameter:\n",
    "1. Small gamma means the decision boundary will vary slowly, which yields a model of low complexity.Reflected as a very smooth decision boundary.\n",
    "1. A high gamma means the boundaries are focussed more on single points, and yields a complex model. "
   ]
  },
  {
   "cell_type": "markdown",
   "metadata": {},
   "source": [
    "Strengths:\n",
    "1. SVMs perform well on a variety of datasets, allowing for complex decision boundaries, even if the data has only a few features.\n",
    "1. Works well on data that have high either few or many features.\n",
    "1. If all of the features represent measurements in similar units and are on similar scale, SVM are worth the model.\n"
   ]
  },
  {
   "cell_type": "markdown",
   "metadata": {},
   "source": [
    "Weaknesses:\n",
    "1. SVMs dont scale well with the number of samples.\n",
    "1. Working with datasets of size 100,000 or more can become challenging in terms of runtime and memory usage.\n",
    "1. Requires careful preprocessing of the data and tuning of parameters. Tree based models such as random forests or gradient boosting(which require little or no preprocessing) are better alternatives. \n",
    "1. SVMs are hard to inspect and might be tricky to explain the model to a nonexpert. "
   ]
  },
  {
   "cell_type": "code",
   "execution_count": 1,
   "metadata": {
    "collapsed": false
   },
   "outputs": [],
   "source": [
    "from sklearn.datasets import load_breast_cancer"
   ]
  },
  {
   "cell_type": "code",
   "execution_count": 2,
   "metadata": {
    "collapsed": true
   },
   "outputs": [],
   "source": [
    "cancer = load_breast_cancer()"
   ]
  },
  {
   "cell_type": "code",
   "execution_count": 3,
   "metadata": {
    "collapsed": false
   },
   "outputs": [
    {
     "data": {
      "text/plain": [
       "['target_names', 'data', 'target', 'DESCR', 'feature_names']"
      ]
     },
     "execution_count": 3,
     "metadata": {},
     "output_type": "execute_result"
    }
   ],
   "source": [
    "cancer.keys()"
   ]
  },
  {
   "cell_type": "code",
   "execution_count": 4,
   "metadata": {
    "collapsed": false
   },
   "outputs": [
    {
     "data": {
      "text/plain": [
       "(569, 30)"
      ]
     },
     "execution_count": 4,
     "metadata": {},
     "output_type": "execute_result"
    }
   ],
   "source": [
    "cancer.data.shape"
   ]
  },
  {
   "cell_type": "code",
   "execution_count": 5,
   "metadata": {
    "collapsed": false
   },
   "outputs": [
    {
     "data": {
      "text/plain": [
       "[('malignant', 212), ('benign', 357)]"
      ]
     },
     "execution_count": 5,
     "metadata": {},
     "output_type": "execute_result"
    }
   ],
   "source": [
    "import numpy as np\n",
    "zip(cancer.target_names,np.bincount(cancer.target))"
   ]
  },
  {
   "cell_type": "code",
   "execution_count": 6,
   "metadata": {
    "collapsed": false
   },
   "outputs": [
    {
     "data": {
      "text/plain": [
       "array(['mean radius', 'mean texture', 'mean perimeter', 'mean area',\n",
       "       'mean smoothness', 'mean compactness', 'mean concavity',\n",
       "       'mean concave points', 'mean symmetry', 'mean fractal dimension',\n",
       "       'radius error', 'texture error', 'perimeter error', 'area error',\n",
       "       'smoothness error', 'compactness error', 'concavity error',\n",
       "       'concave points error', 'symmetry error', 'fractal dimension error',\n",
       "       'worst radius', 'worst texture', 'worst perimeter', 'worst area',\n",
       "       'worst smoothness', 'worst compactness', 'worst concavity',\n",
       "       'worst concave points', 'worst symmetry', 'worst fractal dimension'], \n",
       "      dtype='|S23')"
      ]
     },
     "execution_count": 6,
     "metadata": {},
     "output_type": "execute_result"
    }
   ],
   "source": [
    "cancer.feature_names"
   ]
  },
  {
   "cell_type": "code",
   "execution_count": 7,
   "metadata": {
    "collapsed": false
   },
   "outputs": [],
   "source": [
    "from sklearn.cross_validation import train_test_split"
   ]
  },
  {
   "cell_type": "code",
   "execution_count": 8,
   "metadata": {
    "collapsed": false
   },
   "outputs": [],
   "source": [
    "Xtrain,Xtest,ytrain,ytest=train_test_split(cancer.data,cancer.target, random_state=0)"
   ]
  },
  {
   "cell_type": "code",
   "execution_count": 9,
   "metadata": {
    "collapsed": false
   },
   "outputs": [
    {
     "name": "stdout",
     "output_type": "stream",
     "text": [
      "Train set accuracy: 1.00\n",
      "Test set accuracy: 0.63\n"
     ]
    }
   ],
   "source": [
    "from sklearn.svm import SVC\n",
    "svm=SVC()\n",
    "svm.fit(Xtrain,ytrain)\n",
    "print(\"Train set accuracy: {:.2f}\".format(svm.score(Xtrain,ytrain)))\n",
    "\n",
    "print(\"Test set accuracy: {:.2f}\".format(svm.score(Xtest,ytest)))\n"
   ]
  },
  {
   "cell_type": "code",
   "execution_count": 10,
   "metadata": {
    "collapsed": false
   },
   "outputs": [
    {
     "data": {
      "text/plain": [
       "<bound method SVC.get_params of SVC(C=1.0, cache_size=200, class_weight=None, coef0=0.0,\n",
       "  decision_function_shape=None, degree=3, gamma='auto', kernel='rbf',\n",
       "  max_iter=-1, probability=False, random_state=None, shrinking=True,\n",
       "  tol=0.001, verbose=False)>"
      ]
     },
     "execution_count": 10,
     "metadata": {},
     "output_type": "execute_result"
    }
   ],
   "source": [
    "svm.get_params"
   ]
  },
  {
   "cell_type": "markdown",
   "metadata": {},
   "source": [
    "1. The model overfits, with a perfect score on the training dataset and ony 63% on the test set.\n",
    "1. SVMs are quite sensitive to the settings of the parameters and to the scaling of the data."
   ]
  },
  {
   "cell_type": "code",
   "execution_count": 11,
   "metadata": {
    "collapsed": true
   },
   "outputs": [],
   "source": [
    "import matplotlib.pyplot as plt\n",
    "%matplotlib inline"
   ]
  },
  {
   "cell_type": "code",
   "execution_count": 12,
   "metadata": {
    "collapsed": false
   },
   "outputs": [
    {
     "data": {
      "image/png": "[encoded data removed]",
      "text/plain": [
       "<matplotlib.figure.Figure at 0x10d9d9590>"
      ]
     },
     "metadata": {},
     "output_type": "display_data"
    }
   ],
   "source": [
    "plt.plot(Xtrain.min(axis=0),'o', label='min')\n",
    "plt.plot(Xtrain.max(axis=0),'x', label='max')\n",
    "plt.legend(loc=1)\n",
    "plt.xlabel('feature index')\n",
    "plt.ylabel('feture range')\n",
    "plt.yscale('log')"
   ]
  },
  {
   "cell_type": "markdown",
   "metadata": {},
   "source": [
    "1. The features in the dataset have different range.\n",
    "1. This is one of the major disadvantage of using SVM.\n",
    "1. This problem can be resolved by rescaling the features(to be on a similar scale).\n",
    "1. Preprocessing- MinMaxScaler, StandardScaler "
   ]
  },
  {
   "cell_type": "code",
   "execution_count": 13,
   "metadata": {
    "collapsed": true
   },
   "outputs": [],
   "source": [
    "#preprocessing using 0-1 scaling\n",
    "from sklearn.preprocessing import MinMaxScaler\n",
    "scaler= MinMaxScaler()\n",
    "scaler.fit(Xtrain)\n",
    "Xtrain_scaled = scaler.transform(Xtrain)\n",
    "Xtest_scaled = scaler.transform(Xtest)"
   ]
  },
  {
   "cell_type": "code",
   "execution_count": 14,
   "metadata": {
    "collapsed": false
   },
   "outputs": [
    {
     "name": "stdout",
     "output_type": "stream",
     "text": [
      "[ 0.  0.  0.  0.  0.  0.  0.  0.  0.  0.  0.  0.  0.  0.  0.  0.  0.  0.\n",
      "  0.  0.  0.  0.  0.  0.  0.  0.  0.  0.  0.  0.]\n",
      "[ 1.  1.  1.  1.  1.  1.  1.  1.  1.  1.  1.  1.  1.  1.  1.  1.  1.  1.\n",
      "  1.  1.  1.  1.  1.  1.  1.  1.  1.  1.  1.  1.]\n"
     ]
    }
   ],
   "source": [
    "print Xtrain_scaled.min(axis=0)\n",
    "print Xtrain_scaled.max(axis=0)"
   ]
  },
  {
   "cell_type": "code",
   "execution_count": 15,
   "metadata": {
    "collapsed": false
   },
   "outputs": [
    {
     "name": "stdout",
     "output_type": "stream",
     "text": [
      "Scaled traint set accuracy: 0.948\n",
      "Scaled test set accuracy: 0.951\n",
      "Nonscaled Test set accuracy: 0.63\n"
     ]
    }
   ],
   "source": [
    "svm.fit(Xtrain_scaled,ytrain)\n",
    "print(\"Scaled traint set accuracy: {:.3f}\".format(svm.score(Xtrain_scaled,ytrain)))\n",
    "print(\"Scaled test set accuracy: {:.3f}\".format(svm.score(Xtest_scaled,ytest)))\n",
    "print(\"Nonscaled Test set accuracy: {:.2f}\".format(svm.score(Xtest,ytest)))\n"
   ]
  },
  {
   "cell_type": "markdown",
   "metadata": {},
   "source": [
    "1. Scaling made a huge difference!\n",
    "1. We can alter the fit parameters 'C',gamma for a better model score."
   ]
  },
  {
   "cell_type": "code",
   "execution_count": 16,
   "metadata": {
    "collapsed": false
   },
   "outputs": [
    {
     "name": "stdout",
     "output_type": "stream",
     "text": [
      "C \t train \t test\n",
      "0.1 \t 0.732 \t 0.727\n",
      "0.5 \t 0.934 \t 0.951\n",
      "0.7 \t 0.939 \t 0.951\n",
      "1 \t 0.948 \t 0.951\n",
      "3 \t 0.958 \t 0.951\n",
      "10 \t 0.977 \t 0.958\n",
      "100 \t 0.986 \t 0.965\n",
      "1000 \t 0.988 \t 0.972\n"
     ]
    }
   ],
   "source": [
    "print(\"C \\t train \\t test\")\n",
    "for C in [0.1,0.5,0.7,1,3,10,100,1000]:\n",
    "    svm=SVC(C=C)\n",
    "    svm.fit(Xtrain_scaled,ytrain)\n",
    "    print(\"{} \\t {:.3f} \\t {:.3f}\".format(C,svm.score(Xtrain_scaled,ytrain), svm.score(Xtest_scaled,ytest)))"
   ]
  },
  {
   "cell_type": "code",
   "execution_count": 17,
   "metadata": {
    "collapsed": false
   },
   "outputs": [
    {
     "name": "stdout",
     "output_type": "stream",
     "text": [
      "Kernel \t\t train \t\t test\n",
      "linear \t\t 0.991 \t\t 0.944\n",
      "poly \t\t 0.979 \t\t 0.965\n",
      "rbf \t\t 0.988 \t\t 0.972\n"
     ]
    }
   ],
   "source": [
    "print(\"Kernel \\t\\t train \\t\\t test\")\n",
    "for kernel in ['linear','poly','rbf']:\n",
    "    svm=SVC(C=1000,kernel=kernel)\n",
    "    svm.fit(Xtrain_scaled,ytrain)\n",
    "    print(\"{} \\t\\t {:.3f} \\t\\t {:.3f}\".format(kernel,svm.score(Xtrain_scaled,ytrain), svm.score(Xtest_scaled,ytest)))"
   ]
  },
  {
   "cell_type": "code",
   "execution_count": 18,
   "metadata": {
    "collapsed": false
   },
   "outputs": [
    {
     "name": "stdout",
     "output_type": "stream",
     "text": [
      "gamma \t train \t test\n",
      "0.1 \t 0.995 \t 0.951\n",
      "0.5 \t 1.000 \t 0.958\n",
      "0.7 \t 1.000 \t 0.958\n",
      "1 \t 1.000 \t 0.958\n",
      "3 \t 1.000 \t 0.972\n",
      "10 \t 1.000 \t 0.951\n"
     ]
    }
   ],
   "source": [
    "print(\"gamma \\t train \\t test\")\n",
    "for gamma in [0.1,0.5,0.7,1,3,10]:\n",
    "    svm=SVC(C=1000,kernel='rbf',gamma=gamma)\n",
    "    svm.fit(Xtrain_scaled,ytrain)\n",
    "    print(\"{} \\t {:.3f} \\t {:.3f}\".format(gamma,svm.score(Xtrain_scaled,ytrain), svm.score(Xtest_scaled,ytest)))"
   ]
  },
  {
   "cell_type": "code",
   "execution_count": 19,
   "metadata": {
    "collapsed": false
   },
   "outputs": [
    {
     "name": "stdout",
     "output_type": "stream",
     "text": [
      "best params-train set accuracy: 1.000\n",
      "best params-test set accuracy: 0.972\n"
     ]
    }
   ],
   "source": [
    "svm=SVC(C=1000,kernel='rbf',gamma=3.0)\n",
    "svm.fit(Xtrain_scaled,ytrain)\n",
    "\n",
    "print(\"best params-train set accuracy: {:.3f}\".format(svm.score(Xtrain_scaled,ytrain)))\n",
    "print(\"best params-test set accuracy: {:.3f}\".format(svm.score(Xtest_scaled,ytest)))"
   ]
  },
  {
   "cell_type": "code",
   "execution_count": 28,
   "metadata": {
    "collapsed": true
   },
   "outputs": [],
   "source": [
    "X=cancer.data\n",
    "y=cancer.target"
   ]
  },
  {
   "cell_type": "code",
   "execution_count": 29,
   "metadata": {
    "collapsed": false
   },
   "outputs": [
    {
     "data": {
      "text/plain": [
       "SVC(C=1.0, cache_size=200, class_weight=None, coef0=0.0,\n",
       "  decision_function_shape=None, degree=3, gamma='auto', kernel='linear',\n",
       "  max_iter=-1, probability=False, random_state=None, shrinking=True,\n",
       "  tol=0.001, verbose=False)"
      ]
     },
     "execution_count": 29,
     "metadata": {},
     "output_type": "execute_result"
    }
   ],
   "source": [
    "model=SVC(kernel='linear')\n",
    "model.fit(X,y)"
   ]
  },
  {
   "cell_type": "code",
   "execution_count": 30,
   "metadata": {
    "collapsed": false
   },
   "outputs": [
    {
     "name": "stdout",
     "output_type": "stream",
     "text": [
      "[ 0.94782609  0.93043478  0.97345133  0.92035398  0.95575221]\n"
     ]
    },
    {
     "data": {
      "text/plain": [
       "0.94556367833782229"
      ]
     },
     "execution_count": 30,
     "metadata": {},
     "output_type": "execute_result"
    }
   ],
   "source": [
    "from sklearn.cross_validation import cross_val_score\n",
    "cvscores=cross_val_score(model,X,y, cv=5, n_jobs=-1)\n",
    "print cvscores\n",
    "cvscores.mean()"
   ]
  },
  {
   "cell_type": "code",
   "execution_count": 31,
   "metadata": {
    "collapsed": true
   },
   "outputs": [],
   "source": [
    "from sklearn.grid_search import GridSearchCV\n",
    "model_param={'kernel':('linear','poly','rbf','sigmoid'), 'C':[0.1,0.5,0.7,1,3,10,100,1000],'gamma':[0.1,0.5,0.7,1,3,10]}\n",
    "gcsv = GridSearchCV(model,model_param,n_jobs=-1)"
   ]
  },
  {
   "cell_type": "code",
   "execution_count": null,
   "metadata": {
    "collapsed": true
   },
   "outputs": [],
   "source": [
    "#gcsv.fit(X,y)"
   ]
  },
  {
   "cell_type": "code",
   "execution_count": null,
   "metadata": {
    "collapsed": true
   },
   "outputs": [],
   "source": [
    "#gcsv.best_params_"
   ]
  },
  {
   "cell_type": "code",
   "execution_count": null,
   "metadata": {
    "collapsed": true
   },
   "outputs": [],
   "source": []
  },
  {
   "cell_type": "code",
   "execution_count": 20,
   "metadata": {
    "collapsed": true
   },
   "outputs": [],
   "source": [
    "#preprocessing using StandardScaler(zero mean and unit variance scaling)\n",
    "from sklearn.preprocessing import StandardScaler\n",
    "scaler = StandardScaler()\n",
    "scaler.fit(cancer.data)\n",
    "X_scaled=scaler.transform(cancer.data)"
   ]
  },
  {
   "cell_type": "code",
   "execution_count": 21,
   "metadata": {
    "collapsed": false
   },
   "outputs": [
    {
     "name": "stdout",
     "output_type": "stream",
     "text": [
      "original shape: (569, 30)\n",
      "reduced shape:(569, 2)\n"
     ]
    }
   ],
   "source": [
    "from sklearn.decomposition import PCA\n",
    "pca = PCA(n_components=2)\n",
    "pca.fit(X_scaled)\n",
    "pca_X = pca.transform(X_scaled)\n",
    "print('original shape: {}'.format(str(X_scaled.shape)))\n",
    "print('reduced shape:{}'.format(str(pca_X.shape)))"
   ]
  },
  {
   "cell_type": "code",
   "execution_count": 27,
   "metadata": {
    "collapsed": false
   },
   "outputs": [
    {
     "data": {
      "text/plain": [
       "<matplotlib.text.Text at 0x11a143710>"
      ]
     },
     "execution_count": 27,
     "metadata": {},
     "output_type": "execute_result"
    },
    {
     "data": {
      "image/png": "[encoded data removed]",
      "text/plain": [
       "<matplotlib.figure.Figure at 0x10fc80050>"
      ]
     },
     "metadata": {},
     "output_type": "display_data"
    }
   ],
   "source": [
    "plt.matshow(pca.components_,cmap='viridis')\n",
    "plt.yticks([0,1],['first component', 'second component'])\n",
    "plt.colorbar()\n",
    "plt.xticks(range(len(cancer.feature_names)),cancer.feature_names, rotation=60, \n",
    "           ha='left')\n",
    "plt.xlabel(\"feature\")\n",
    "plt.ylabel('principal component')"
   ]
  }
 ],
 "metadata": {
  "anaconda-cloud": {},
  "kernelspec": {
   "display_name": "Python [default]",
   "language": "python",
   "name": "python2"
  },
  "language_info": {
   "codemirror_mode": {
    "name": "ipython",
    "version": 2
   },
   "file_extension": ".py",
   "mimetype": "text/x-python",
   "name": "python",
   "nbconvert_exporter": "python",
   "pygments_lexer": "ipython2",
   "version": "2.7.12"
  }
 },
 "nbformat": 4,
 "nbformat_minor": 1
}
