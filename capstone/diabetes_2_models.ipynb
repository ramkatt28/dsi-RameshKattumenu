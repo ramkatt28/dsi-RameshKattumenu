{
 "cells": [
  {
   "cell_type": "code",
   "execution_count": 1,
   "metadata": {
    "collapsed": false
   },
   "outputs": [
    {
     "name": "stderr",
     "output_type": "stream",
     "text": [
      "/Users/user/anaconda/lib/python2.7/site-packages/sklearn/cross_validation.py:44: DeprecationWarning: This module was deprecated in version 0.18 in favor of the model_selection module into which all the refactored classes and functions are moved. Also note that the interface of the new CV iterators are different from that of this module. This module will be removed in 0.20.\n",
      "  \"This module will be removed in 0.20.\", DeprecationWarning)\n"
     ]
    }
   ],
   "source": [
    "import pandas as pd\n",
    "import math\n",
    "import time\n",
    "import numpy as np\n",
    "from sklearn.linear_model import LogisticRegression\n",
    "from sklearn import metrics\n",
    "from sklearn.cross_validation import train_test_split, cross_val_score\n",
    "from sklearn.metrics import classification_report, roc_curve, auc, confusion_matrix \n",
    "import patsy\n",
    "from patsy import dmatrices,dmatrix\n",
    "from sklearn import model_selection\n",
    "import seaborn as sns\n",
    "import matplotlib.pyplot as plt\n",
    "%matplotlib inline\n",
    "from sklearn.svm import SVC\n",
    "from sklearn import preprocessing, tree, ensemble, linear_model, metrics, model_selection, svm\n",
    "import statsmodels.api as sm\n",
    "from sklearn.naive_bayes import GaussianNB\n",
    "from sklearn.tree import DecisionTreeClassifier"
   ]
  },
  {
   "cell_type": "code",
   "execution_count": 2,
   "metadata": {
    "collapsed": false
   },
   "outputs": [],
   "source": [
    "df1=pd.read_csv('diab_models.csv')"
   ]
  },
  {
   "cell_type": "code",
   "execution_count": 3,
   "metadata": {
    "collapsed": false
   },
   "outputs": [
    {
     "data": {
      "text/html": [
       "<div>\n",
       "<table border=\"1\" class=\"dataframe\">\n",
       "  <thead>\n",
       "    <tr style=\"text-align: right;\">\n",
       "      <th></th>\n",
       "      <th>Unnamed: 0</th>\n",
       "      <th>encounter_id</th>\n",
       "      <th>patient_nbr</th>\n",
       "      <th>race</th>\n",
       "      <th>gender</th>\n",
       "      <th>age</th>\n",
       "      <th>admission_type_id</th>\n",
       "      <th>discharge_disposition_id</th>\n",
       "      <th>admission_source_id</th>\n",
       "      <th>time_in_hospital</th>\n",
       "      <th>...</th>\n",
       "      <th>glimepiride-pioglitazone</th>\n",
       "      <th>metformin-rosiglitazone</th>\n",
       "      <th>metformin-pioglitazone</th>\n",
       "      <th>change</th>\n",
       "      <th>diabetesMed</th>\n",
       "      <th>readmitted</th>\n",
       "      <th>code</th>\n",
       "      <th>code1</th>\n",
       "      <th>code2</th>\n",
       "      <th>code3</th>\n",
       "    </tr>\n",
       "  </thead>\n",
       "  <tbody>\n",
       "    <tr>\n",
       "      <th>0</th>\n",
       "      <td>0</td>\n",
       "      <td>2278392</td>\n",
       "      <td>8222157</td>\n",
       "      <td>Caucasian</td>\n",
       "      <td>Female</td>\n",
       "      <td>[0-10)</td>\n",
       "      <td>6</td>\n",
       "      <td>25</td>\n",
       "      <td>1</td>\n",
       "      <td>1</td>\n",
       "      <td>...</td>\n",
       "      <td>No</td>\n",
       "      <td>No</td>\n",
       "      <td>No</td>\n",
       "      <td>No</td>\n",
       "      <td>No</td>\n",
       "      <td>NO</td>\n",
       "      <td>diabetes</td>\n",
       "      <td>diabetes</td>\n",
       "      <td>Undefined</td>\n",
       "      <td>Undefined</td>\n",
       "    </tr>\n",
       "    <tr>\n",
       "      <th>1</th>\n",
       "      <td>1</td>\n",
       "      <td>149190</td>\n",
       "      <td>55629189</td>\n",
       "      <td>Caucasian</td>\n",
       "      <td>Female</td>\n",
       "      <td>[10-20)</td>\n",
       "      <td>1</td>\n",
       "      <td>1</td>\n",
       "      <td>7</td>\n",
       "      <td>3</td>\n",
       "      <td>...</td>\n",
       "      <td>No</td>\n",
       "      <td>No</td>\n",
       "      <td>No</td>\n",
       "      <td>Ch</td>\n",
       "      <td>Yes</td>\n",
       "      <td>&gt;30</td>\n",
       "      <td>neoplasm</td>\n",
       "      <td>neoplasm</td>\n",
       "      <td>diabetes</td>\n",
       "      <td>neoplasm</td>\n",
       "    </tr>\n",
       "    <tr>\n",
       "      <th>2</th>\n",
       "      <td>2</td>\n",
       "      <td>64410</td>\n",
       "      <td>86047875</td>\n",
       "      <td>AfricanAmerican</td>\n",
       "      <td>Female</td>\n",
       "      <td>[20-30)</td>\n",
       "      <td>1</td>\n",
       "      <td>1</td>\n",
       "      <td>7</td>\n",
       "      <td>2</td>\n",
       "      <td>...</td>\n",
       "      <td>No</td>\n",
       "      <td>No</td>\n",
       "      <td>No</td>\n",
       "      <td>No</td>\n",
       "      <td>Yes</td>\n",
       "      <td>NO</td>\n",
       "      <td>other</td>\n",
       "      <td>other</td>\n",
       "      <td>diabetes</td>\n",
       "      <td>Undefined</td>\n",
       "    </tr>\n",
       "    <tr>\n",
       "      <th>3</th>\n",
       "      <td>3</td>\n",
       "      <td>500364</td>\n",
       "      <td>82442376</td>\n",
       "      <td>Caucasian</td>\n",
       "      <td>Male</td>\n",
       "      <td>[30-40)</td>\n",
       "      <td>1</td>\n",
       "      <td>1</td>\n",
       "      <td>7</td>\n",
       "      <td>2</td>\n",
       "      <td>...</td>\n",
       "      <td>No</td>\n",
       "      <td>No</td>\n",
       "      <td>No</td>\n",
       "      <td>Ch</td>\n",
       "      <td>Yes</td>\n",
       "      <td>NO</td>\n",
       "      <td>Undefined</td>\n",
       "      <td>Undefined</td>\n",
       "      <td>diabetes</td>\n",
       "      <td>circulatory</td>\n",
       "    </tr>\n",
       "    <tr>\n",
       "      <th>4</th>\n",
       "      <td>4</td>\n",
       "      <td>16680</td>\n",
       "      <td>42519267</td>\n",
       "      <td>Caucasian</td>\n",
       "      <td>Male</td>\n",
       "      <td>[40-50)</td>\n",
       "      <td>1</td>\n",
       "      <td>1</td>\n",
       "      <td>7</td>\n",
       "      <td>1</td>\n",
       "      <td>...</td>\n",
       "      <td>No</td>\n",
       "      <td>No</td>\n",
       "      <td>No</td>\n",
       "      <td>Ch</td>\n",
       "      <td>Yes</td>\n",
       "      <td>NO</td>\n",
       "      <td>neoplasm</td>\n",
       "      <td>neoplasm</td>\n",
       "      <td>neoplasm</td>\n",
       "      <td>diabetes</td>\n",
       "    </tr>\n",
       "  </tbody>\n",
       "</table>\n",
       "<p>5 rows × 53 columns</p>\n",
       "</div>"
      ],
      "text/plain": [
       "   Unnamed: 0  encounter_id  patient_nbr             race  gender      age  \\\n",
       "0           0       2278392      8222157        Caucasian  Female   [0-10)   \n",
       "1           1        149190     55629189        Caucasian  Female  [10-20)   \n",
       "2           2         64410     86047875  AfricanAmerican  Female  [20-30)   \n",
       "3           3        500364     82442376        Caucasian    Male  [30-40)   \n",
       "4           4         16680     42519267        Caucasian    Male  [40-50)   \n",
       "\n",
       "   admission_type_id  discharge_disposition_id  admission_source_id  \\\n",
       "0                  6                        25                    1   \n",
       "1                  1                         1                    7   \n",
       "2                  1                         1                    7   \n",
       "3                  1                         1                    7   \n",
       "4                  1                         1                    7   \n",
       "\n",
       "   time_in_hospital     ...      glimepiride-pioglitazone  \\\n",
       "0                 1     ...                            No   \n",
       "1                 3     ...                            No   \n",
       "2                 2     ...                            No   \n",
       "3                 2     ...                            No   \n",
       "4                 1     ...                            No   \n",
       "\n",
       "   metformin-rosiglitazone  metformin-pioglitazone  change  diabetesMed  \\\n",
       "0                       No                      No      No           No   \n",
       "1                       No                      No      Ch          Yes   \n",
       "2                       No                      No      No          Yes   \n",
       "3                       No                      No      Ch          Yes   \n",
       "4                       No                      No      Ch          Yes   \n",
       "\n",
       "   readmitted       code      code1      code2        code3  \n",
       "0          NO   diabetes   diabetes  Undefined    Undefined  \n",
       "1         >30   neoplasm   neoplasm   diabetes     neoplasm  \n",
       "2          NO      other      other   diabetes    Undefined  \n",
       "3          NO  Undefined  Undefined   diabetes  circulatory  \n",
       "4          NO   neoplasm   neoplasm   neoplasm     diabetes  \n",
       "\n",
       "[5 rows x 53 columns]"
      ]
     },
     "execution_count": 3,
     "metadata": {},
     "output_type": "execute_result"
    }
   ],
   "source": [
    "df1.head()"
   ]
  },
  {
   "cell_type": "code",
   "execution_count": 151,
   "metadata": {
    "collapsed": false
   },
   "outputs": [],
   "source": [
    "# del df1['code']"
   ]
  },
  {
   "cell_type": "code",
   "execution_count": 4,
   "metadata": {
    "collapsed": false
   },
   "outputs": [
    {
     "data": {
      "text/plain": [
       "Index([u'Unnamed: 0', u'encounter_id', u'patient_nbr', u'race', u'gender',\n",
       "       u'age', u'admission_type_id', u'discharge_disposition_id',\n",
       "       u'admission_source_id', u'time_in_hospital', u'medical_specialty',\n",
       "       u'num_lab_procedures', u'num_procedures', u'num_medications',\n",
       "       u'number_outpatient', u'number_emergency', u'number_inpatient',\n",
       "       u'diag_1', u'diag_2', u'diag_3', u'number_diagnoses', u'max_glu_serum',\n",
       "       u'A1Cresult', u'metformin', u'repaglinide', u'nateglinide',\n",
       "       u'chlorpropamide', u'glimepiride', u'acetohexamide', u'glipizide',\n",
       "       u'glyburide', u'tolbutamide', u'pioglitazone', u'rosiglitazone',\n",
       "       u'acarbose', u'miglitol', u'troglitazone', u'tolazamide', u'examide',\n",
       "       u'citoglipton', u'insulin', u'glyburide-metformin',\n",
       "       u'glipizide-metformin', u'glimepiride-pioglitazone',\n",
       "       u'metformin-rosiglitazone', u'metformin-pioglitazone', u'change',\n",
       "       u'diabetesMed', u'readmitted', u'code', u'code1', u'code2', u'code3'],\n",
       "      dtype='object')"
      ]
     },
     "execution_count": 4,
     "metadata": {},
     "output_type": "execute_result"
    }
   ],
   "source": [
    "df1.columns"
   ]
  },
  {
   "cell_type": "code",
   "execution_count": 5,
   "metadata": {
    "collapsed": false
   },
   "outputs": [
    {
     "data": {
      "text/plain": [
       "NO     52537\n",
       ">30    35502\n",
       "<30    11314\n",
       "Name: readmitted, dtype: int64"
      ]
     },
     "execution_count": 5,
     "metadata": {},
     "output_type": "execute_result"
    }
   ],
   "source": [
    "df1.readmitted.value_counts()"
   ]
  },
  {
   "cell_type": "code",
   "execution_count": 6,
   "metadata": {
    "collapsed": true
   },
   "outputs": [],
   "source": [
    "df1['readmit']=df1['readmitted']"
   ]
  },
  {
   "cell_type": "code",
   "execution_count": 7,
   "metadata": {
    "collapsed": true
   },
   "outputs": [],
   "source": [
    "df1['readmit'] = df1['readmit'].replace('NO',0)\n",
    "df1['readmit'] = df1['readmit'].replace('>30',0)\n",
    "df1['readmit'] = df1['readmit'].replace('<30',1)"
   ]
  },
  {
   "cell_type": "code",
   "execution_count": 8,
   "metadata": {
    "collapsed": false
   },
   "outputs": [
    {
     "data": {
      "text/plain": [
       "0    88039\n",
       "1    11314\n",
       "Name: readmit, dtype: int64"
      ]
     },
     "execution_count": 8,
     "metadata": {},
     "output_type": "execute_result"
    }
   ],
   "source": [
    "df1.readmit.value_counts()"
   ]
  },
  {
   "cell_type": "code",
   "execution_count": 11,
   "metadata": {
    "collapsed": false
   },
   "outputs": [],
   "source": [
    "X=dmatrix('~ C(gender)+C(age)+ C(race)+(admission_source_id)+(discharge_disposition_id)+C(medical_specialty)+(time_in_hospital)+C(A1Cresult)',df1, return_type='dataframe')"
   ]
  },
  {
   "cell_type": "code",
   "execution_count": 12,
   "metadata": {
    "collapsed": true
   },
   "outputs": [],
   "source": [
    "# #to convert the target to a numeric variable\n",
    "# def readmit(c):\n",
    "#   if c['readmitted'] == '<30':\n",
    "#     return '1'\n",
    "  \n",
    "#   else:\n",
    "#     return '0'\n",
    "\n",
    "# df1['readmit'] = df1.apply(readmit, axis=1)"
   ]
  },
  {
   "cell_type": "code",
   "execution_count": 13,
   "metadata": {
    "collapsed": false
   },
   "outputs": [],
   "source": [
    "# del df1.readmit"
   ]
  },
  {
   "cell_type": "code",
   "execution_count": 14,
   "metadata": {
    "collapsed": true
   },
   "outputs": [],
   "source": [
    "y=df1['readmit']"
   ]
  },
  {
   "cell_type": "markdown",
   "metadata": {},
   "source": [
    "## Logistic Regression"
   ]
  },
  {
   "cell_type": "code",
   "execution_count": 15,
   "metadata": {
    "collapsed": false
   },
   "outputs": [
    {
     "data": {
      "text/plain": [
       "LogisticRegression(C=1.0, class_weight=None, dual=False, fit_intercept=True,\n",
       "          intercept_scaling=1, max_iter=100, multi_class='ovr', n_jobs=1,\n",
       "          penalty='l2', random_state=None, solver='liblinear', tol=0.0001,\n",
       "          verbose=0, warm_start=False)"
      ]
     },
     "execution_count": 15,
     "metadata": {},
     "output_type": "execute_result"
    }
   ],
   "source": [
    "logreg=LogisticRegression()\n",
    "logreg.fit(X,y)"
   ]
  },
  {
   "cell_type": "code",
   "execution_count": 16,
   "metadata": {
    "collapsed": false
   },
   "outputs": [
    {
     "data": {
      "text/plain": [
       "0.88611315209404851"
      ]
     },
     "execution_count": 16,
     "metadata": {},
     "output_type": "execute_result"
    }
   ],
   "source": [
    "logreg.score(X,y)"
   ]
  },
  {
   "cell_type": "code",
   "execution_count": 17,
   "metadata": {
    "collapsed": false,
    "scrolled": true
   },
   "outputs": [
    {
     "data": {
      "text/html": [
       "<div>\n",
       "<table border=\"1\" class=\"dataframe\">\n",
       "  <thead>\n",
       "    <tr style=\"text-align: right;\">\n",
       "      <th></th>\n",
       "      <th>Variables</th>\n",
       "      <th>Coeff</th>\n",
       "      <th>Odds_ratio_for_survival</th>\n",
       "    </tr>\n",
       "  </thead>\n",
       "  <tbody>\n",
       "    <tr>\n",
       "      <th>0</th>\n",
       "      <td>Intercept</td>\n",
       "      <td>-1.497173</td>\n",
       "      <td>0.223762</td>\n",
       "    </tr>\n",
       "    <tr>\n",
       "      <th>1</th>\n",
       "      <td>C(gender)[T.Male]</td>\n",
       "      <td>0.009372</td>\n",
       "      <td>1.009416</td>\n",
       "    </tr>\n",
       "    <tr>\n",
       "      <th>2</th>\n",
       "      <td>C(gender)[T.Unknown/Invalid]</td>\n",
       "      <td>-0.234649</td>\n",
       "      <td>0.790849</td>\n",
       "    </tr>\n",
       "    <tr>\n",
       "      <th>3</th>\n",
       "      <td>C(age)[T.[10-20)]</td>\n",
       "      <td>-0.107177</td>\n",
       "      <td>0.898366</td>\n",
       "    </tr>\n",
       "    <tr>\n",
       "      <th>4</th>\n",
       "      <td>C(age)[T.[20-30)]</td>\n",
       "      <td>0.673184</td>\n",
       "      <td>1.960470</td>\n",
       "    </tr>\n",
       "    <tr>\n",
       "      <th>5</th>\n",
       "      <td>C(age)[T.[30-40)]</td>\n",
       "      <td>0.333922</td>\n",
       "      <td>1.396434</td>\n",
       "    </tr>\n",
       "    <tr>\n",
       "      <th>6</th>\n",
       "      <td>C(age)[T.[40-50)]</td>\n",
       "      <td>0.234177</td>\n",
       "      <td>1.263869</td>\n",
       "    </tr>\n",
       "    <tr>\n",
       "      <th>7</th>\n",
       "      <td>C(age)[T.[50-60)]</td>\n",
       "      <td>0.119433</td>\n",
       "      <td>1.126858</td>\n",
       "    </tr>\n",
       "    <tr>\n",
       "      <th>8</th>\n",
       "      <td>C(age)[T.[60-70)]</td>\n",
       "      <td>0.257793</td>\n",
       "      <td>1.294070</td>\n",
       "    </tr>\n",
       "    <tr>\n",
       "      <th>9</th>\n",
       "      <td>C(age)[T.[70-80)]</td>\n",
       "      <td>0.300162</td>\n",
       "      <td>1.350078</td>\n",
       "    </tr>\n",
       "    <tr>\n",
       "      <th>10</th>\n",
       "      <td>C(age)[T.[80-90)]</td>\n",
       "      <td>0.318785</td>\n",
       "      <td>1.375456</td>\n",
       "    </tr>\n",
       "    <tr>\n",
       "      <th>11</th>\n",
       "      <td>C(age)[T.[90-100)]</td>\n",
       "      <td>0.242474</td>\n",
       "      <td>1.274398</td>\n",
       "    </tr>\n",
       "    <tr>\n",
       "      <th>12</th>\n",
       "      <td>C(race)[T.AfricanAmerican]</td>\n",
       "      <td>0.268730</td>\n",
       "      <td>1.308301</td>\n",
       "    </tr>\n",
       "    <tr>\n",
       "      <th>13</th>\n",
       "      <td>C(race)[T.Asian]</td>\n",
       "      <td>0.204832</td>\n",
       "      <td>1.227319</td>\n",
       "    </tr>\n",
       "    <tr>\n",
       "      <th>14</th>\n",
       "      <td>C(race)[T.Caucasian]</td>\n",
       "      <td>0.286817</td>\n",
       "      <td>1.332180</td>\n",
       "    </tr>\n",
       "    <tr>\n",
       "      <th>15</th>\n",
       "      <td>C(race)[T.Hispanic]</td>\n",
       "      <td>0.218268</td>\n",
       "      <td>1.243921</td>\n",
       "    </tr>\n",
       "    <tr>\n",
       "      <th>16</th>\n",
       "      <td>C(race)[T.Other]</td>\n",
       "      <td>0.116882</td>\n",
       "      <td>1.123987</td>\n",
       "    </tr>\n",
       "    <tr>\n",
       "      <th>17</th>\n",
       "      <td>C(medical_specialty)[T.AllergyandImmunology]</td>\n",
       "      <td>1.024643</td>\n",
       "      <td>2.786101</td>\n",
       "    </tr>\n",
       "    <tr>\n",
       "      <th>18</th>\n",
       "      <td>C(medical_specialty)[T.Anesthesiology]</td>\n",
       "      <td>-0.109188</td>\n",
       "      <td>0.896562</td>\n",
       "    </tr>\n",
       "    <tr>\n",
       "      <th>19</th>\n",
       "      <td>C(medical_specialty)[T.Anesthesiology-Pediatric]</td>\n",
       "      <td>-0.163232</td>\n",
       "      <td>0.849394</td>\n",
       "    </tr>\n",
       "    <tr>\n",
       "      <th>20</th>\n",
       "      <td>C(medical_specialty)[T.Cardiology]</td>\n",
       "      <td>-0.341320</td>\n",
       "      <td>0.710831</td>\n",
       "    </tr>\n",
       "    <tr>\n",
       "      <th>21</th>\n",
       "      <td>C(medical_specialty)[T.Cardiology-Pediatric]</td>\n",
       "      <td>0.297904</td>\n",
       "      <td>1.347032</td>\n",
       "    </tr>\n",
       "    <tr>\n",
       "      <th>22</th>\n",
       "      <td>C(medical_specialty)[T.DCPTEAM]</td>\n",
       "      <td>-0.383323</td>\n",
       "      <td>0.681593</td>\n",
       "    </tr>\n",
       "    <tr>\n",
       "      <th>23</th>\n",
       "      <td>C(medical_specialty)[T.Dentistry]</td>\n",
       "      <td>-0.366363</td>\n",
       "      <td>0.693251</td>\n",
       "    </tr>\n",
       "    <tr>\n",
       "      <th>24</th>\n",
       "      <td>C(medical_specialty)[T.Dermatology]</td>\n",
       "      <td>-0.090251</td>\n",
       "      <td>0.913702</td>\n",
       "    </tr>\n",
       "    <tr>\n",
       "      <th>25</th>\n",
       "      <td>C(medical_specialty)[T.Emergency/Trauma]</td>\n",
       "      <td>0.001260</td>\n",
       "      <td>1.001260</td>\n",
       "    </tr>\n",
       "    <tr>\n",
       "      <th>26</th>\n",
       "      <td>C(medical_specialty)[T.Endocrinology]</td>\n",
       "      <td>-0.737385</td>\n",
       "      <td>0.478363</td>\n",
       "    </tr>\n",
       "    <tr>\n",
       "      <th>27</th>\n",
       "      <td>C(medical_specialty)[T.Endocrinology-Metabolism]</td>\n",
       "      <td>0.074711</td>\n",
       "      <td>1.077573</td>\n",
       "    </tr>\n",
       "    <tr>\n",
       "      <th>28</th>\n",
       "      <td>C(medical_specialty)[T.Family/GeneralPractice]</td>\n",
       "      <td>0.026699</td>\n",
       "      <td>1.027059</td>\n",
       "    </tr>\n",
       "    <tr>\n",
       "      <th>29</th>\n",
       "      <td>C(medical_specialty)[T.Gastroenterology]</td>\n",
       "      <td>-0.029805</td>\n",
       "      <td>0.970635</td>\n",
       "    </tr>\n",
       "    <tr>\n",
       "      <th>...</th>\n",
       "      <td>...</td>\n",
       "      <td>...</td>\n",
       "      <td>...</td>\n",
       "    </tr>\n",
       "    <tr>\n",
       "      <th>65</th>\n",
       "      <td>C(medical_specialty)[T.Psychiatry-Addictive]</td>\n",
       "      <td>-0.110840</td>\n",
       "      <td>0.895082</td>\n",
       "    </tr>\n",
       "    <tr>\n",
       "      <th>66</th>\n",
       "      <td>C(medical_specialty)[T.Psychiatry-Child/Adoles...</td>\n",
       "      <td>0.148127</td>\n",
       "      <td>1.159660</td>\n",
       "    </tr>\n",
       "    <tr>\n",
       "      <th>67</th>\n",
       "      <td>C(medical_specialty)[T.Psychology]</td>\n",
       "      <td>-0.341976</td>\n",
       "      <td>0.710366</td>\n",
       "    </tr>\n",
       "    <tr>\n",
       "      <th>68</th>\n",
       "      <td>C(medical_specialty)[T.Pulmonology]</td>\n",
       "      <td>-0.023493</td>\n",
       "      <td>0.976781</td>\n",
       "    </tr>\n",
       "    <tr>\n",
       "      <th>69</th>\n",
       "      <td>C(medical_specialty)[T.Radiologist]</td>\n",
       "      <td>-0.236129</td>\n",
       "      <td>0.789679</td>\n",
       "    </tr>\n",
       "    <tr>\n",
       "      <th>70</th>\n",
       "      <td>C(medical_specialty)[T.Radiology]</td>\n",
       "      <td>0.253706</td>\n",
       "      <td>1.288793</td>\n",
       "    </tr>\n",
       "    <tr>\n",
       "      <th>71</th>\n",
       "      <td>C(medical_specialty)[T.Resident]</td>\n",
       "      <td>0.581631</td>\n",
       "      <td>1.788953</td>\n",
       "    </tr>\n",
       "    <tr>\n",
       "      <th>72</th>\n",
       "      <td>C(medical_specialty)[T.Rheumatology]</td>\n",
       "      <td>0.177069</td>\n",
       "      <td>1.193713</td>\n",
       "    </tr>\n",
       "    <tr>\n",
       "      <th>73</th>\n",
       "      <td>C(medical_specialty)[T.Speech]</td>\n",
       "      <td>-0.080540</td>\n",
       "      <td>0.922618</td>\n",
       "    </tr>\n",
       "    <tr>\n",
       "      <th>74</th>\n",
       "      <td>C(medical_specialty)[T.SportsMedicine]</td>\n",
       "      <td>-0.083151</td>\n",
       "      <td>0.920212</td>\n",
       "    </tr>\n",
       "    <tr>\n",
       "      <th>75</th>\n",
       "      <td>C(medical_specialty)[T.Surgeon]</td>\n",
       "      <td>-0.211750</td>\n",
       "      <td>0.809167</td>\n",
       "    </tr>\n",
       "    <tr>\n",
       "      <th>76</th>\n",
       "      <td>C(medical_specialty)[T.Surgery-Cardiovascular]</td>\n",
       "      <td>-0.658720</td>\n",
       "      <td>0.517513</td>\n",
       "    </tr>\n",
       "    <tr>\n",
       "      <th>77</th>\n",
       "      <td>C(medical_specialty)[T.Surgery-Cardiovascular/...</td>\n",
       "      <td>-0.642646</td>\n",
       "      <td>0.525899</td>\n",
       "    </tr>\n",
       "    <tr>\n",
       "      <th>78</th>\n",
       "      <td>C(medical_specialty)[T.Surgery-Colon&amp;Rectal]</td>\n",
       "      <td>-0.179757</td>\n",
       "      <td>0.835473</td>\n",
       "    </tr>\n",
       "    <tr>\n",
       "      <th>79</th>\n",
       "      <td>C(medical_specialty)[T.Surgery-General]</td>\n",
       "      <td>-0.051889</td>\n",
       "      <td>0.949434</td>\n",
       "    </tr>\n",
       "    <tr>\n",
       "      <th>80</th>\n",
       "      <td>C(medical_specialty)[T.Surgery-Maxillofacial]</td>\n",
       "      <td>-0.089831</td>\n",
       "      <td>0.914085</td>\n",
       "    </tr>\n",
       "    <tr>\n",
       "      <th>81</th>\n",
       "      <td>C(medical_specialty)[T.Surgery-Neuro]</td>\n",
       "      <td>-0.560020</td>\n",
       "      <td>0.571198</td>\n",
       "    </tr>\n",
       "    <tr>\n",
       "      <th>82</th>\n",
       "      <td>C(medical_specialty)[T.Surgery-Pediatric]</td>\n",
       "      <td>-0.440929</td>\n",
       "      <td>0.643438</td>\n",
       "    </tr>\n",
       "    <tr>\n",
       "      <th>83</th>\n",
       "      <td>C(medical_specialty)[T.Surgery-Plastic]</td>\n",
       "      <td>0.461054</td>\n",
       "      <td>1.585744</td>\n",
       "    </tr>\n",
       "    <tr>\n",
       "      <th>84</th>\n",
       "      <td>C(medical_specialty)[T.Surgery-PlasticwithinHe...</td>\n",
       "      <td>-0.081475</td>\n",
       "      <td>0.921756</td>\n",
       "    </tr>\n",
       "    <tr>\n",
       "      <th>85</th>\n",
       "      <td>C(medical_specialty)[T.Surgery-Thoracic]</td>\n",
       "      <td>-0.150040</td>\n",
       "      <td>0.860674</td>\n",
       "    </tr>\n",
       "    <tr>\n",
       "      <th>86</th>\n",
       "      <td>C(medical_specialty)[T.Surgery-Vascular]</td>\n",
       "      <td>0.211501</td>\n",
       "      <td>1.235531</td>\n",
       "    </tr>\n",
       "    <tr>\n",
       "      <th>87</th>\n",
       "      <td>C(medical_specialty)[T.SurgicalSpecialty]</td>\n",
       "      <td>-0.485127</td>\n",
       "      <td>0.615619</td>\n",
       "    </tr>\n",
       "    <tr>\n",
       "      <th>88</th>\n",
       "      <td>C(medical_specialty)[T.Urology]</td>\n",
       "      <td>-0.165216</td>\n",
       "      <td>0.847711</td>\n",
       "    </tr>\n",
       "    <tr>\n",
       "      <th>89</th>\n",
       "      <td>C(A1Cresult)[T.&gt;8]</td>\n",
       "      <td>0.017147</td>\n",
       "      <td>1.017295</td>\n",
       "    </tr>\n",
       "    <tr>\n",
       "      <th>90</th>\n",
       "      <td>C(A1Cresult)[T.None]</td>\n",
       "      <td>0.181644</td>\n",
       "      <td>1.199187</td>\n",
       "    </tr>\n",
       "    <tr>\n",
       "      <th>91</th>\n",
       "      <td>C(A1Cresult)[T.Norm]</td>\n",
       "      <td>-0.037769</td>\n",
       "      <td>0.962935</td>\n",
       "    </tr>\n",
       "    <tr>\n",
       "      <th>92</th>\n",
       "      <td>admission_source_id</td>\n",
       "      <td>0.000966</td>\n",
       "      <td>1.000966</td>\n",
       "    </tr>\n",
       "    <tr>\n",
       "      <th>93</th>\n",
       "      <td>discharge_disposition_id</td>\n",
       "      <td>0.029328</td>\n",
       "      <td>1.029763</td>\n",
       "    </tr>\n",
       "    <tr>\n",
       "      <th>94</th>\n",
       "      <td>time_in_hospital</td>\n",
       "      <td>0.035113</td>\n",
       "      <td>1.035737</td>\n",
       "    </tr>\n",
       "  </tbody>\n",
       "</table>\n",
       "<p>95 rows × 3 columns</p>\n",
       "</div>"
      ],
      "text/plain": [
       "                                            Variables     Coeff  \\\n",
       "0                                           Intercept -1.497173   \n",
       "1                                   C(gender)[T.Male]  0.009372   \n",
       "2                        C(gender)[T.Unknown/Invalid] -0.234649   \n",
       "3                                   C(age)[T.[10-20)] -0.107177   \n",
       "4                                   C(age)[T.[20-30)]  0.673184   \n",
       "5                                   C(age)[T.[30-40)]  0.333922   \n",
       "6                                   C(age)[T.[40-50)]  0.234177   \n",
       "7                                   C(age)[T.[50-60)]  0.119433   \n",
       "8                                   C(age)[T.[60-70)]  0.257793   \n",
       "9                                   C(age)[T.[70-80)]  0.300162   \n",
       "10                                  C(age)[T.[80-90)]  0.318785   \n",
       "11                                 C(age)[T.[90-100)]  0.242474   \n",
       "12                         C(race)[T.AfricanAmerican]  0.268730   \n",
       "13                                   C(race)[T.Asian]  0.204832   \n",
       "14                               C(race)[T.Caucasian]  0.286817   \n",
       "15                                C(race)[T.Hispanic]  0.218268   \n",
       "16                                   C(race)[T.Other]  0.116882   \n",
       "17       C(medical_specialty)[T.AllergyandImmunology]  1.024643   \n",
       "18             C(medical_specialty)[T.Anesthesiology] -0.109188   \n",
       "19   C(medical_specialty)[T.Anesthesiology-Pediatric] -0.163232   \n",
       "20                 C(medical_specialty)[T.Cardiology] -0.341320   \n",
       "21       C(medical_specialty)[T.Cardiology-Pediatric]  0.297904   \n",
       "22                    C(medical_specialty)[T.DCPTEAM] -0.383323   \n",
       "23                  C(medical_specialty)[T.Dentistry] -0.366363   \n",
       "24                C(medical_specialty)[T.Dermatology] -0.090251   \n",
       "25           C(medical_specialty)[T.Emergency/Trauma]  0.001260   \n",
       "26              C(medical_specialty)[T.Endocrinology] -0.737385   \n",
       "27   C(medical_specialty)[T.Endocrinology-Metabolism]  0.074711   \n",
       "28     C(medical_specialty)[T.Family/GeneralPractice]  0.026699   \n",
       "29           C(medical_specialty)[T.Gastroenterology] -0.029805   \n",
       "..                                                ...       ...   \n",
       "65       C(medical_specialty)[T.Psychiatry-Addictive] -0.110840   \n",
       "66  C(medical_specialty)[T.Psychiatry-Child/Adoles...  0.148127   \n",
       "67                 C(medical_specialty)[T.Psychology] -0.341976   \n",
       "68                C(medical_specialty)[T.Pulmonology] -0.023493   \n",
       "69                C(medical_specialty)[T.Radiologist] -0.236129   \n",
       "70                  C(medical_specialty)[T.Radiology]  0.253706   \n",
       "71                   C(medical_specialty)[T.Resident]  0.581631   \n",
       "72               C(medical_specialty)[T.Rheumatology]  0.177069   \n",
       "73                     C(medical_specialty)[T.Speech] -0.080540   \n",
       "74             C(medical_specialty)[T.SportsMedicine] -0.083151   \n",
       "75                    C(medical_specialty)[T.Surgeon] -0.211750   \n",
       "76     C(medical_specialty)[T.Surgery-Cardiovascular] -0.658720   \n",
       "77  C(medical_specialty)[T.Surgery-Cardiovascular/... -0.642646   \n",
       "78       C(medical_specialty)[T.Surgery-Colon&Rectal] -0.179757   \n",
       "79            C(medical_specialty)[T.Surgery-General] -0.051889   \n",
       "80      C(medical_specialty)[T.Surgery-Maxillofacial] -0.089831   \n",
       "81              C(medical_specialty)[T.Surgery-Neuro] -0.560020   \n",
       "82          C(medical_specialty)[T.Surgery-Pediatric] -0.440929   \n",
       "83            C(medical_specialty)[T.Surgery-Plastic]  0.461054   \n",
       "84  C(medical_specialty)[T.Surgery-PlasticwithinHe... -0.081475   \n",
       "85           C(medical_specialty)[T.Surgery-Thoracic] -0.150040   \n",
       "86           C(medical_specialty)[T.Surgery-Vascular]  0.211501   \n",
       "87          C(medical_specialty)[T.SurgicalSpecialty] -0.485127   \n",
       "88                    C(medical_specialty)[T.Urology] -0.165216   \n",
       "89                                 C(A1Cresult)[T.>8]  0.017147   \n",
       "90                               C(A1Cresult)[T.None]  0.181644   \n",
       "91                               C(A1Cresult)[T.Norm] -0.037769   \n",
       "92                                admission_source_id  0.000966   \n",
       "93                           discharge_disposition_id  0.029328   \n",
       "94                                   time_in_hospital  0.035113   \n",
       "\n",
       "    Odds_ratio_for_survival  \n",
       "0                  0.223762  \n",
       "1                  1.009416  \n",
       "2                  0.790849  \n",
       "3                  0.898366  \n",
       "4                  1.960470  \n",
       "5                  1.396434  \n",
       "6                  1.263869  \n",
       "7                  1.126858  \n",
       "8                  1.294070  \n",
       "9                  1.350078  \n",
       "10                 1.375456  \n",
       "11                 1.274398  \n",
       "12                 1.308301  \n",
       "13                 1.227319  \n",
       "14                 1.332180  \n",
       "15                 1.243921  \n",
       "16                 1.123987  \n",
       "17                 2.786101  \n",
       "18                 0.896562  \n",
       "19                 0.849394  \n",
       "20                 0.710831  \n",
       "21                 1.347032  \n",
       "22                 0.681593  \n",
       "23                 0.693251  \n",
       "24                 0.913702  \n",
       "25                 1.001260  \n",
       "26                 0.478363  \n",
       "27                 1.077573  \n",
       "28                 1.027059  \n",
       "29                 0.970635  \n",
       "..                      ...  \n",
       "65                 0.895082  \n",
       "66                 1.159660  \n",
       "67                 0.710366  \n",
       "68                 0.976781  \n",
       "69                 0.789679  \n",
       "70                 1.288793  \n",
       "71                 1.788953  \n",
       "72                 1.193713  \n",
       "73                 0.922618  \n",
       "74                 0.920212  \n",
       "75                 0.809167  \n",
       "76                 0.517513  \n",
       "77                 0.525899  \n",
       "78                 0.835473  \n",
       "79                 0.949434  \n",
       "80                 0.914085  \n",
       "81                 0.571198  \n",
       "82                 0.643438  \n",
       "83                 1.585744  \n",
       "84                 0.921756  \n",
       "85                 0.860674  \n",
       "86                 1.235531  \n",
       "87                 0.615619  \n",
       "88                 0.847711  \n",
       "89                 1.017295  \n",
       "90                 1.199187  \n",
       "91                 0.962935  \n",
       "92                 1.000966  \n",
       "93                 1.029763  \n",
       "94                 1.035737  \n",
       "\n",
       "[95 rows x 3 columns]"
      ]
     },
     "execution_count": 17,
     "metadata": {},
     "output_type": "execute_result"
    }
   ],
   "source": [
    "coef_df = pd.DataFrame(X.columns)\n",
    "coef_df.columns=['Variables']\n",
    "coef_df['Coeff']=pd.Series(logreg.coef_[0])\n",
    "coef_df['Odds_ratio_for_survival']=pd.Series(np.exp(logreg.coef_[0]))\n",
    "coef_df"
   ]
  },
  {
   "cell_type": "code",
   "execution_count": 76,
   "metadata": {
    "collapsed": false
   },
   "outputs": [],
   "source": [
    "# sm.Logit(y, X).fit().summary()"
   ]
  },
  {
   "cell_type": "markdown",
   "metadata": {},
   "source": [
    "## Train test split"
   ]
  },
  {
   "cell_type": "code",
   "execution_count": 157,
   "metadata": {
    "collapsed": false
   },
   "outputs": [
    {
     "data": {
      "text/plain": [
       "0.8888478829765819"
      ]
     },
     "execution_count": 157,
     "metadata": {},
     "output_type": "execute_result"
    }
   ],
   "source": [
    "Xtrain,Xtest,ytrain,ytest = train_test_split(X,y,test_size=0.3, random_state=42)\n",
    "logreg.fit(X,y)\n",
    "logreg.score(Xtest,ytest)"
   ]
  },
  {
   "cell_type": "code",
   "execution_count": 165,
   "metadata": {
    "collapsed": true
   },
   "outputs": [],
   "source": [
    "ypred=logreg.predict(Xtest)"
   ]
  },
  {
   "cell_type": "code",
   "execution_count": 166,
   "metadata": {
    "collapsed": true
   },
   "outputs": [],
   "source": [
    "# ypred1=logreg.predict_proba(Xtest)[:,1]"
   ]
  },
  {
   "cell_type": "code",
   "execution_count": 167,
   "metadata": {
    "collapsed": false
   },
   "outputs": [
    {
     "name": "stdout",
     "output_type": "stream",
     "text": [
      "             precision    recall  f1-score   support\n",
      "\n",
      "          0       0.89      1.00      0.94     26494\n",
      "          1       0.00      0.00      0.00      3312\n",
      "\n",
      "avg / total       0.79      0.89      0.84     29806\n",
      "\n"
     ]
    }
   ],
   "source": [
    "print classification_report(ytest,ypred)"
   ]
  },
  {
   "cell_type": "code",
   "execution_count": 168,
   "metadata": {
    "collapsed": false
   },
   "outputs": [
    {
     "data": {
      "image/png": "[encoded data removed]",
      "text/plain": [
       "<matplotlib.figure.Figure at 0x1178643d0>"
      ]
     },
     "metadata": {},
     "output_type": "display_data"
    }
   ],
   "source": [
    "y_score = logreg.predict_proba(Xtest)[:,1]\n",
    "\n",
    "FPR = dict()\n",
    "TPR = dict()\n",
    "ROC_AUC = dict()\n",
    "\n",
    "# For class 1, find the area under the curve\n",
    "FPR[1], TPR[1], thresholds = roc_curve(ytest, y_score)\n",
    "ROC_AUC[1] = auc(FPR[1], TPR[1])\n",
    "\n",
    "# Plot of a ROC curve for class 1 (has_cancer)\n",
    "plt.figure(figsize=[5,3])\n",
    "plt.plot(FPR[1], TPR[1], label='ROC curve (area = %0.2f)' % ROC_AUC[1], linewidth=4)\n",
    "plt.plot([0, 1], [0, 1], 'k--', linewidth=4)\n",
    "plt.xlim([0.0, 1.0])\n",
    "plt.ylim([0.0, 1.05])\n",
    "plt.xlabel('False Positive Rate', fontsize=18)\n",
    "plt.ylabel('True Positive Rate', fontsize=18)\n",
    "plt.title('ROC for Readmission', fontsize=18)\n",
    "plt.legend(loc=\"lower right\")\n",
    "plt.show()"
   ]
  },
  {
   "cell_type": "code",
   "execution_count": 170,
   "metadata": {
    "collapsed": false
   },
   "outputs": [
    {
     "name": "stdout",
     "output_type": "stream",
     "text": [
      "                predi_no_readmit  pred_readmit\n",
      "act_no_readmit             88038             1\n",
      "act_readmit                11314             0\n"
     ]
    }
   ],
   "source": [
    "ypred = logreg.predict(X)\n",
    "\n",
    "conmat = np.array(confusion_matrix(y, ypred))\n",
    "\n",
    "confusion = pd.DataFrame(conmat, index=['act_no_readmit', 'act_readmit'],columns=['predi_no_readmit', 'pred_readmit'])\n",
    "\n",
    "print(confusion)"
   ]
  },
  {
   "cell_type": "code",
   "execution_count": 171,
   "metadata": {
    "collapsed": true
   },
   "outputs": [],
   "source": [
    "# thresholds for TPR of 80%, 85%, 90%, 95%, and 100%\n",
    "thresh = [[th for t, f, th in zip(TPR[1], FPR[1], thresholds) if t >= i][0] for i in [.8, .85, .9, .95, 1]]"
   ]
  },
  {
   "cell_type": "code",
   "execution_count": 172,
   "metadata": {
    "collapsed": false
   },
   "outputs": [
    {
     "data": {
      "text/plain": [
       "[0.10004074572779954,\n",
       " 0.095002102352791565,\n",
       " 0.090064790108309853,\n",
       " 0.079565498714302713,\n",
       " 0.035953305512051177]"
      ]
     },
     "execution_count": 172,
     "metadata": {},
     "output_type": "execute_result"
    }
   ],
   "source": [
    "thresh"
   ]
  },
  {
   "cell_type": "code",
   "execution_count": 173,
   "metadata": {
    "collapsed": true
   },
   "outputs": [],
   "source": [
    "yscore=logreg.predict_proba(X)[:,1]"
   ]
  },
  {
   "cell_type": "code",
   "execution_count": 174,
   "metadata": {
    "collapsed": false
   },
   "outputs": [
    {
     "name": "stdout",
     "output_type": "stream",
     "text": [
      "threshold: 0.100040745728\n",
      "             precision    recall  f1-score   support\n",
      "\n",
      "          0       0.92      0.31      0.47     88039\n",
      "          1       0.13      0.80      0.22     11314\n",
      "\n",
      "avg / total       0.83      0.37      0.44     99353\n",
      "\n",
      "\n",
      "threshold: 0.0950021023528\n",
      "             precision    recall  f1-score   support\n",
      "\n",
      "          0       0.93      0.25      0.39     88039\n",
      "          1       0.13      0.85      0.22     11314\n",
      "\n",
      "avg / total       0.84      0.32      0.37     99353\n",
      "\n",
      "\n",
      "threshold: 0.0900647901083\n",
      "             precision    recall  f1-score   support\n",
      "\n",
      "          0       0.93      0.18      0.31     88039\n",
      "          1       0.12      0.90      0.22     11314\n",
      "\n",
      "avg / total       0.84      0.27      0.30     99353\n",
      "\n",
      "\n",
      "threshold: 0.0795654987143\n",
      "             precision    recall  f1-score   support\n",
      "\n",
      "          0       0.94      0.10      0.18     88039\n",
      "          1       0.12      0.95      0.21     11314\n",
      "\n",
      "avg / total       0.85      0.20      0.18     99353\n",
      "\n",
      "\n",
      "threshold: 0.0359533055121\n",
      "             precision    recall  f1-score   support\n",
      "\n",
      "          0       0.99      0.00      0.01     88039\n",
      "          1       0.11      1.00      0.21     11314\n",
      "\n",
      "avg / total       0.89      0.12      0.03     99353\n",
      "\n",
      "\n"
     ]
    }
   ],
   "source": [
    "# Print classification reports for each threshold corresponding to the TPRs above.\n",
    "for i in thresh:\n",
    "    predictions = [1 if p >= i else 0 for p in yscore]\n",
    "    print 'threshold:', i\n",
    "    print metrics.classification_report(y, predictions)\n",
    "    print ''"
   ]
  },
  {
   "cell_type": "code",
   "execution_count": 175,
   "metadata": {
    "collapsed": false
   },
   "outputs": [
    {
     "name": "stdout",
     "output_type": "stream",
     "text": [
      "threshold: 0.100040745728\n",
      "[[27471 60568]\n",
      " [ 2288  9026]]\n",
      "             precision    recall  f1-score   support\n",
      "\n",
      "          0       0.92      0.31      0.47     88039\n",
      "          1       0.13      0.80      0.22     11314\n",
      "\n",
      "avg / total       0.83      0.37      0.44     99353\n",
      "\n",
      "\n",
      "threshold: 0.0950021023528\n",
      "[[21928 66111]\n",
      " [ 1707  9607]]\n",
      "             precision    recall  f1-score   support\n",
      "\n",
      "          0       0.93      0.25      0.39     88039\n",
      "          1       0.13      0.85      0.22     11314\n",
      "\n",
      "avg / total       0.84      0.32      0.37     99353\n",
      "\n",
      "\n",
      "threshold: 0.0900647901083\n",
      "[[16266 71773]\n",
      " [ 1179 10135]]\n",
      "             precision    recall  f1-score   support\n",
      "\n",
      "          0       0.93      0.18      0.31     88039\n",
      "          1       0.12      0.90      0.22     11314\n",
      "\n",
      "avg / total       0.84      0.27      0.30     99353\n",
      "\n",
      "\n",
      "threshold: 0.0795654987143\n",
      "[[ 8821 79218]\n",
      " [  565 10749]]\n",
      "             precision    recall  f1-score   support\n",
      "\n",
      "          0       0.94      0.10      0.18     88039\n",
      "          1       0.12      0.95      0.21     11314\n",
      "\n",
      "avg / total       0.85      0.20      0.18     99353\n",
      "\n",
      "\n",
      "threshold: 0.0359533055121\n",
      "[[  397 87642]\n",
      " [    4 11310]]\n",
      "             precision    recall  f1-score   support\n",
      "\n",
      "          0       0.99      0.00      0.01     88039\n",
      "          1       0.11      1.00      0.21     11314\n",
      "\n",
      "avg / total       0.89      0.12      0.03     99353\n",
      "\n",
      "\n"
     ]
    }
   ],
   "source": [
    "# Print confusion matrix for each threshold corresponding to the TPRs above.\n",
    "for i in thresh:\n",
    "    predictions = [1 if p >= i else 0 for p in yscore]\n",
    "    print 'threshold:', i\n",
    "    print metrics.confusion_matrix(y, predictions)\n",
    "    print metrics.classification_report(y,predictions)\n",
    "    print ''"
   ]
  },
  {
   "cell_type": "code",
   "execution_count": 178,
   "metadata": {
    "collapsed": false
   },
   "outputs": [
    {
     "name": "stderr",
     "output_type": "stream",
     "text": [
      "/Users/user/anaconda/lib/python2.7/site-packages/sklearn/metrics/ranking.py:542: UndefinedMetricWarning: No positive samples in y_true, true positive value should be meaningless\n",
      "  UndefinedMetricWarning)\n"
     ]
    }
   ],
   "source": [
    "ypred = logreg.predict(Xtest)\n",
    "yscore=logreg.fit(Xtrain, ytrain).decision_function(Xtest)\n",
    "fpr, tpr,thresholds=metrics.roc_curve(ypred, yscore,pos_label=1.0)"
   ]
  },
  {
   "cell_type": "code",
   "execution_count": 179,
   "metadata": {
    "collapsed": true
   },
   "outputs": [],
   "source": [
    "def evaluate_threshold(threshold):\n",
    "    print('TPR:',tpr[thresholds>threshold][-1])\n",
    "    print('FPR:',fpr[thresholds>threshold][-1])"
   ]
  },
  {
   "cell_type": "code",
   "execution_count": 180,
   "metadata": {
    "collapsed": false
   },
   "outputs": [
    {
     "name": "stdout",
     "output_type": "stream",
     "text": [
      "Threshold: -4.11857725423\n",
      "('TPR:', nan)\n",
      "('FPR:', 0.99979869824867473)\n",
      "\n",
      "Threshold: -3.61857725423\n",
      "('TPR:', nan)\n",
      "('FPR:', 0.99805408307052268)\n",
      "\n",
      "Threshold: -3.11857725423\n",
      "('TPR:', nan)\n",
      "('FPR:', 0.99406159833590557)\n",
      "\n",
      "Threshold: -2.61857725423\n",
      "('TPR:', nan)\n",
      "('FPR:', 0.96071260819969129)\n",
      "\n",
      "Threshold: -2.11857725423\n",
      "('TPR:', nan)\n",
      "('FPR:', 0.58565389518888811)\n",
      "\n",
      "Threshold: -1.61857725423\n",
      "('TPR:', nan)\n",
      "('FPR:', 0.067771589612829627)\n",
      "\n",
      "Threshold: -1.11857725423\n",
      "('TPR:', nan)\n",
      "('FPR:', 0.0026169227672280747)\n",
      "\n",
      "Threshold: -0.618577254229\n",
      "('TPR:', nan)\n",
      "('FPR:', 3.3550291887539423e-05)\n",
      "\n",
      "Threshold: -0.118577254229\n",
      "('TPR:', nan)\n",
      "('FPR:', 3.3550291887539423e-05)\n",
      "\n",
      "Threshold: 0.381422745771\n",
      "('TPR:', nan)\n",
      "('FPR:', 0.0)\n",
      "\n",
      "Threshold: 0.881422745771\n",
      "('TPR:', nan)\n",
      "('FPR:', 0.0)\n",
      "\n"
     ]
    }
   ],
   "source": [
    "for i in np.arange(min(thresholds),max(thresholds),0.5):\n",
    "    print('Threshold:'),i\n",
    "    evaluate_threshold(i)\n",
    "    print"
   ]
  },
  {
   "cell_type": "markdown",
   "metadata": {},
   "source": [
    "## Model Selection"
   ]
  },
  {
   "cell_type": "code",
   "execution_count": 28,
   "metadata": {
    "collapsed": false,
    "scrolled": false
   },
   "outputs": [
    {
     "name": "stdout",
     "output_type": "stream",
     "text": [
      "age \n",
      " [70-80)     25335\n",
      "[60-70)     22062\n",
      "[50-60)     17060\n",
      "[80-90)     16436\n",
      "[40-50)      9607\n",
      "[30-40)      3764\n",
      "[90-100)     2590\n",
      "[20-30)      1649\n",
      "[10-20)       690\n",
      "[0-10)        160\n",
      "Name: age, dtype: int64\n",
      "race \n",
      " Caucasian          74229\n",
      "AfricanAmerican    18772\n",
      "?                   2234\n",
      "Hispanic            2017\n",
      "Other               1472\n",
      "Asian                629\n",
      "Name: race, dtype: int64\n",
      "gender \n",
      " Female             53459\n",
      "Male               45891\n",
      "Unknown/Invalid        3\n",
      "Name: gender, dtype: int64\n",
      "max_glu_serum \n",
      " None    94200\n",
      "Norm     2546\n",
      ">200     1419\n",
      ">300     1188\n",
      "Name: max_glu_serum, dtype: int64\n",
      "A1Cresult \n",
      " None    82518\n",
      ">8       8137\n",
      "Norm     4923\n",
      ">7       3775\n",
      "Name: A1Cresult, dtype: int64\n",
      "insulin \n",
      " No        46386\n",
      "Steady    30070\n",
      "Down      11908\n",
      "Up        10989\n",
      "Name: insulin, dtype: int64\n",
      "change \n",
      " No    53229\n",
      "Ch    46124\n",
      "Name: change, dtype: int64\n",
      "diabetesMed \n",
      " Yes    76725\n",
      "No     22628\n",
      "Name: diabetesMed, dtype: int64\n",
      "code1 \n",
      " circulatory        29733\n",
      "respiratory        13977\n",
      "neoplasm           11049\n",
      "digestive           9400\n",
      "diabetes            8676\n",
      "injury              6928\n",
      "other               6804\n",
      "genitourinary       5003\n",
      "musculoskeletal     4935\n",
      "Undefined           2848\n",
      "Name: code1, dtype: int64\n",
      "code2 \n",
      " circulatory        31633\n",
      "neoplasm           16992\n",
      "diabetes           12715\n",
      "respiratory        10393\n",
      "genitourinary       8147\n",
      "other               7713\n",
      "digestive           4130\n",
      "Undefined           3445\n",
      "injury              2424\n",
      "musculoskeletal     1761\n",
      "Name: code2, dtype: int64\n"
     ]
    }
   ],
   "source": [
    "# non categorical features\n",
    "features = ['age','race','gender','max_glu_serum','A1Cresult','insulin','change','diabetesMed', 'code1','code2']\n",
    "for c in features:\n",
    "    values = df1[c].value_counts()\n",
    "    print(\"{} \\n {}\".format(c,values))"
   ]
  },
  {
   "cell_type": "code",
   "execution_count": 114,
   "metadata": {
    "collapsed": false
   },
   "outputs": [
    {
     "data": {
      "text/plain": [
       "1    29733\n",
       "9    13977\n",
       "7    11049\n",
       "3     9400\n",
       "2     8676\n",
       "5     6928\n",
       "8     6804\n",
       "4     5003\n",
       "6     4935\n",
       "0     2848\n",
       "Name: code1, dtype: int64"
      ]
     },
     "execution_count": 114,
     "metadata": {},
     "output_type": "execute_result"
    }
   ],
   "source": [
    "df1.code1.value_counts()"
   ]
  },
  {
   "cell_type": "code",
   "execution_count": 31,
   "metadata": {
    "collapsed": false
   },
   "outputs": [],
   "source": [
    "#label encoder\n",
    "le = preprocessing.LabelEncoder()\n",
    "features = ['age','race','gender','max_glu_serum','A1Cresult','insulin','change','diabetesMed', 'code1','code2']\n",
    "for c in features:\n",
    "    df1[c] = le.fit_transform(df1[c])"
   ]
  },
  {
   "cell_type": "code",
   "execution_count": 111,
   "metadata": {
    "collapsed": true
   },
   "outputs": [],
   "source": [
    "# df1.to_csv('df1_clean.csv')"
   ]
  },
  {
   "cell_type": "code",
   "execution_count": 110,
   "metadata": {
    "collapsed": false
   },
   "outputs": [
    {
     "data": {
      "text/plain": [
       "2    94200\n",
       "3     2546\n",
       "0     1419\n",
       "1     1188\n",
       "Name: max_glu_serum, dtype: int64"
      ]
     },
     "execution_count": 110,
     "metadata": {},
     "output_type": "execute_result"
    }
   ],
   "source": [
    "df1.max_glu_serum.value_counts()"
   ]
  },
  {
   "cell_type": "code",
   "execution_count": 33,
   "metadata": {
    "collapsed": false
   },
   "outputs": [],
   "source": [
    "X1=df1[['race','gender','age','admission_type_id','discharge_disposition_id',\n",
    "     'admission_source_id','time_in_hospital','num_lab_procedures',\n",
    "     'num_procedures','num_medications',\n",
    "       'number_outpatient', 'number_emergency', 'number_inpatient','number_diagnoses', 'max_glu_serum',\n",
    "       'A1Cresult','insulin','change',\n",
    "       'diabetesMed','code1', 'code2']]"
   ]
  },
  {
   "cell_type": "code",
   "execution_count": 34,
   "metadata": {
    "collapsed": true
   },
   "outputs": [],
   "source": [
    "y1=df1['readmit']"
   ]
  },
  {
   "cell_type": "code",
   "execution_count": 35,
   "metadata": {
    "collapsed": true
   },
   "outputs": [],
   "source": [
    "Xtrain,Xtest,ytrain,ytest = train_test_split(X1,y1,test_size=0.3, random_state=42)"
   ]
  },
  {
   "cell_type": "code",
   "execution_count": 103,
   "metadata": {
    "collapsed": false
   },
   "outputs": [
    {
     "name": "stdout",
     "output_type": "stream",
     "text": [
      "training started\n",
      "training ended\n",
      "0.789740320741\n",
      "0.529036995524\n",
      "('tt:', 0.6658518314361572)\n"
     ]
    }
   ],
   "source": [
    "#Decision Tree\n",
    "st = time.time()\n",
    "print \"training started\"\n",
    "dtree = tree.DecisionTreeClassifier()\n",
    "dtree.fit(Xtrain, ytrain)\n",
    "print \"training ended\"\n",
    "predict = dtree.predict_proba(Xtest)\n",
    "print dtree.score(Xtest,ytest)\n",
    "print metrics.roc_auc_score(ytest, predict[:,1])\n",
    "et = time.time()\n",
    "tt = et - st\n",
    "print('tt:',tt)\n"
   ]
  },
  {
   "cell_type": "code",
   "execution_count": 37,
   "metadata": {
    "collapsed": false
   },
   "outputs": [
    {
     "name": "stdout",
     "output_type": "stream",
     "text": [
      "training started\n",
      "training ended\n",
      "0.888982084144\n",
      "0.64695063922\n",
      "Total Time = 30.9940299988\n",
      "\n"
     ]
    }
   ],
   "source": [
    "#Random Forrest\n",
    "st = time.time()\n",
    "print \"training started\"\n",
    "clf = ensemble.RandomForestClassifier(n_jobs=-1, n_estimators=500)\n",
    "clf.fit(Xtrain, ytrain)\n",
    "print \"training ended\"\n",
    "\n",
    "predict = clf.predict_proba(Xtest)\n",
    "print clf.score(Xtest,ytest)\n",
    "print metrics.roc_auc_score(ytest, predict[:,1])\n",
    "et = time.time()\n",
    "tt = et - st\n",
    "print \"Total Time = \" + str(tt)"
   ]
  },
  {
   "cell_type": "code",
   "execution_count": 66,
   "metadata": {
    "collapsed": false
   },
   "outputs": [
    {
     "name": "stdout",
     "output_type": "stream",
     "text": [
      "training started\n",
      "training ended\n",
      "0.888411729182\n",
      "0.66183983435\n",
      "Total Time = 6.21651101112\n"
     ]
    }
   ],
   "source": [
    "#AdaBoost\n",
    "st = time.time()\n",
    "print \"training started\"\n",
    "ada = ensemble.AdaBoostClassifier(n_estimators=100)\n",
    "ada.fit(Xtrain, ytrain)\n",
    "print \"training ended\"\n",
    "et = time.time()\n",
    "tt = et - st\n",
    "predict = ada.predict_proba(Xtest)\n",
    "print ada.score(Xtest,ytest)\n",
    "print metrics.roc_auc_score(ytest, predict[:,1])\n",
    "# print metrics.confusion_matrix(ytest,predict[:,1])\n",
    "# print metrics.classification_report(ytest,predict[:,1])\n",
    "et = time.time()\n",
    "tt = et - st\n",
    "print \"Total Time = \" + str(tt)"
   ]
  },
  {
   "cell_type": "code",
   "execution_count": 39,
   "metadata": {
    "collapsed": false,
    "scrolled": true
   },
   "outputs": [
    {
     "name": "stdout",
     "output_type": "stream",
     "text": [
      "0.800241562102\n"
     ]
    },
    {
     "data": {
      "text/plain": [
       "array([[22874,  3620],\n",
       "       [ 2665,   647]])"
      ]
     },
     "execution_count": 39,
     "metadata": {},
     "output_type": "execute_result"
    }
   ],
   "source": [
    "#Extra Trees\n",
    "et = tree.ExtraTreeClassifier()\n",
    "et.fit(Xtrain, ytrain)\n",
    "predict = dtree.predict_proba(Xtest)\n",
    "print et.score(Xtest,ytest)\n",
    "metrics.roc_auc_score(ytest, predict[:,1])\n",
    "metrics.confusion_matrix(ytest,predict[:,1])"
   ]
  },
  {
   "cell_type": "code",
   "execution_count": 57,
   "metadata": {
    "collapsed": false
   },
   "outputs": [
    {
     "name": "stdout",
     "output_type": "stream",
     "text": [
      "training started\n",
      "training ended\n",
      "0.889116285312\n",
      "0.665829013469\n",
      "Total Time = 8.31786704063\n",
      "\n"
     ]
    }
   ],
   "source": [
    "# gradient boosting\n",
    "from sklearn.ensemble import GradientBoostingClassifier\n",
    "st = time.time()\n",
    "print \"training started\"\n",
    "gb = GradientBoostingClassifier()\n",
    "gb.fit(Xtrain, ytrain)\n",
    "print \"training ended\"\n",
    "predict = gb.predict_proba(Xtest)\n",
    "print gb.score(Xtest,ytest)\n",
    "print metrics.roc_auc_score(ytest, predict[:,1])\n",
    "\n",
    "et = time.time()\n",
    "tt = et - st\n",
    "print \"Total Time = \" + str(tt)"
   ]
  },
  {
   "cell_type": "code",
   "execution_count": 61,
   "metadata": {
    "collapsed": false
   },
   "outputs": [
    {
     "data": {
      "image/png": "[encoded data removed]",
      "text/plain": [
       "<matplotlib.figure.Figure at 0x117f1e610>"
      ]
     },
     "metadata": {},
     "output_type": "display_data"
    }
   ],
   "source": [
    "from sklearn.ensemble.partial_dependence import plot_partial_dependence\n",
    "features = [0, 1, (0, 1)]\n",
    "fig, axs = plot_partial_dependence(gb, X1, features) "
   ]
  },
  {
   "cell_type": "code",
   "execution_count": 58,
   "metadata": {
    "collapsed": false
   },
   "outputs": [
    {
     "name": "stdout",
     "output_type": "stream",
     "text": [
      "training started\n",
      "training ended\n",
      "0.889317587063\n",
      "0.667814736743\n",
      "Total Time = 31.9547979832\n",
      "\n"
     ]
    }
   ],
   "source": [
    "# gradient boosting with warm start\n",
    "from sklearn.ensemble import GradientBoostingClassifier\n",
    "st = time.time()\n",
    "print \"training started\"\n",
    "gb = GradientBoostingClassifier(n_estimators=400,warm_start=True )\n",
    "gb.fit(Xtrain, ytrain)\n",
    "print \"training ended\"\n",
    "predict = gb.predict_proba(Xtest)\n",
    "print gb.score(Xtest,ytest)\n",
    "print metrics.roc_auc_score(ytest, predict[:,1])\n",
    "\n",
    "et = time.time()\n",
    "tt = et - st\n",
    "print \"Total Time = \" + str(tt)"
   ]
  },
  {
   "cell_type": "code",
   "execution_count": 52,
   "metadata": {
    "collapsed": false
   },
   "outputs": [
    {
     "name": "stdout",
     "output_type": "stream",
     "text": [
      "training started\n",
      "training ended\n",
      "0.889149835604\n",
      "0.648670527763\n",
      "Total Time = 7.25472998619\n",
      "\n"
     ]
    }
   ],
   "source": [
    "from sklearn.neural_network import MLPClassifier\n",
    "st = time.time()\n",
    "print \"training started\"\n",
    "nn = MLPClassifier()\n",
    "nn.fit(Xtrain, ytrain)\n",
    "print \"training ended\"\n",
    "predict = nn.predict_proba(Xtest)\n",
    "print nn.score(Xtest,ytest)\n",
    "print metrics.roc_auc_score(ytest, predict[:,1])\n",
    "\n",
    "et = time.time()\n",
    "tt = et - st\n",
    "print \"Total Time = \" + str(tt)"
   ]
  },
  {
   "cell_type": "code",
   "execution_count": 55,
   "metadata": {
    "collapsed": false
   },
   "outputs": [
    {
     "name": "stdout",
     "output_type": "stream",
     "text": [
      "training started\n",
      "training ended\n",
      "0.888210427431\n",
      "0.555183969281\n",
      "Total Time = 0.127579927444\n"
     ]
    }
   ],
   "source": [
    "st = time.time()\n",
    "print \"training started\"\n",
    "sgd = linear_model.SGDClassifier(loss='log')\n",
    "sgd.fit(Xtrain, ytrain)\n",
    "print \"training ended\"\n",
    "predict = sgd.predict_proba(Xtest)\n",
    "print sgd.score(Xtest,ytest)\n",
    "print metrics.roc_auc_score(ytest, predict[:,1])\n",
    "\n",
    "et = time.time()\n",
    "tt = et - st\n",
    "print \"Total Time = \" + str(tt)"
   ]
  },
  {
   "cell_type": "code",
   "execution_count": 63,
   "metadata": {
    "collapsed": false
   },
   "outputs": [
    {
     "name": "stdout",
     "output_type": "stream",
     "text": [
      "training started\n",
      "training ended\n",
      "0.859021673489\n",
      "0.635214417338\n",
      "Total Time = 0.0969870090485\n"
     ]
    }
   ],
   "source": [
    "st = time.time()\n",
    "print \"training started\"\n",
    "gnb = GaussianNB()\n",
    "gnb.fit(Xtrain, ytrain)\n",
    "print \"training ended\"\n",
    "predict = gnb.predict_proba(Xtest)\n",
    "print gnb.score(Xtest,ytest)\n",
    "print metrics.roc_auc_score(ytest, predict[:,1])\n",
    "\n",
    "et = time.time()\n",
    "tt = et - st\n",
    "print \"Total Time = \" + str(tt)"
   ]
  },
  {
   "cell_type": "code",
   "execution_count": null,
   "metadata": {
    "collapsed": true
   },
   "outputs": [],
   "source": [
    "# st = time.time()\n",
    "# print \"training started\"\n",
    "# svm = SVC()\n",
    "# svm.fit(Xtrain,ytrain)\n",
    "# print \"training ended\"\n",
    "# predict = svm.predict_proba(Xtest)\n",
    "# print svm.score(Xtest,ytest)\n",
    "# print metrics.roc_auc_score(ytest, predict[:,1])\n",
    "\n",
    "# et = time.time()\n",
    "# tt = et - st\n",
    "# print \"Total Time = \" + str(tt) + \"\\n\""
   ]
  },
  {
   "cell_type": "code",
   "execution_count": 59,
   "metadata": {
    "collapsed": false
   },
   "outputs": [
    {
     "data": {
      "image/png": "[encoded data removed]",
      "text/plain": [
       "<matplotlib.figure.Figure at 0x1182ddd90>"
      ]
     },
     "metadata": {},
     "output_type": "display_data"
    }
   ],
   "source": [
    "y_score = gb.predict_proba(Xtest)[:,1]\n",
    "\n",
    "FPR = dict()\n",
    "TPR = dict()\n",
    "ROC_AUC = dict()\n",
    "\n",
    "# For class 1, find the area under the curve\n",
    "FPR[1], TPR[1], thresholds = roc_curve(ytest, y_score)\n",
    "ROC_AUC[1] = auc(FPR[1], TPR[1])\n",
    "\n",
    "# Plot of a ROC curve for class 1 (has_cancer)\n",
    "plt.figure(figsize=[5,3])\n",
    "plt.plot(FPR[1], TPR[1], label='ROC curve (area = %0.2f)' % ROC_AUC[1], linewidth=4)\n",
    "plt.plot([0, 1], [0, 1], 'k--', linewidth=4)\n",
    "plt.xlim([0.0, 1.0])\n",
    "plt.ylim([0.0, 1.05])\n",
    "plt.xlabel('False Positive Rate', fontsize=18)\n",
    "plt.ylabel('True Positive Rate', fontsize=18)\n",
    "plt.title('ROC for Readmission', fontsize=18)\n",
    "plt.legend(loc=\"lower right\")\n",
    "plt.show()"
   ]
  },
  {
   "cell_type": "code",
   "execution_count": 91,
   "metadata": {
    "collapsed": false
   },
   "outputs": [
    {
     "data": {
      "image/png": "[encoded data removed]",
      "text/plain": [
       "<matplotlib.figure.Figure at 0x1272aa4d0>"
      ]
     },
     "metadata": {},
     "output_type": "display_data"
    }
   ],
   "source": [
    "# # precision recall curve\n",
    "\n",
    "# from sklearn.metrics import precision_recall_curve\n",
    "# from sklearn.metrics import average_precision_score\n",
    "\n",
    "\n",
    "# y_score = gb.predict_proba(X1)[:,1]\n",
    "\n",
    "# precision = dict()\n",
    "# recall = dict()\n",
    "# average_precision = dict()\n",
    "# precision[0], recall[0], _ = precision_recall_curve(y1,yscore)\n",
    "# average_precision[0] = average_precision_score(y1, yscore,average=\"micro\")\n",
    "\n",
    "# # # For class 1, find the area under the curve\n",
    "# # FPR[1], TPR[1], thresholds = roc_curve(ytest, y_score)\n",
    "# # ROC_AUC[1] = auc(FPR[1], TPR[1])\n",
    "\n",
    "# # Plot of a ROC curve for class 1 (has_cancer)\n",
    "# plt.figure(figsize=[5,3])\n",
    "# plt.plot(recall[0], precision[0], label ='P_R curve (area = %0.2f)' % average_precision[0], linewidth=4)\n",
    "# plt.xlim([0.0, 1.0])\n",
    "# plt.ylim([0.0, 1.05])\n",
    "# plt.xlabel('Recall', fontsize=18)\n",
    "# plt.ylabel('Precisiom', fontsize=18)\n",
    "# plt.title('Precision-Recall for Readmission', fontsize=18)\n",
    "# plt.legend(loc=\"lower right\")\n",
    "# plt.show()"
   ]
  },
  {
   "cell_type": "code",
   "execution_count": 43,
   "metadata": {
    "collapsed": false,
    "scrolled": true
   },
   "outputs": [
    {
     "name": "stdout",
     "output_type": "stream",
     "text": [
      "                             0\n",
      "discharge_disposition_id  0.15\n",
      "num_medications           0.11\n",
      "number_inpatient          0.10\n",
      "num_lab_procedures        0.09\n",
      "age                       0.08\n",
      "code1                     0.06\n",
      "time_in_hospital          0.06\n",
      "number_outpatient         0.04\n",
      "number_emergency          0.04\n",
      "number_diagnoses          0.04\n",
      "code2                     0.04\n",
      "admission_type_id         0.04\n",
      "num_procedures            0.03\n",
      "admission_source_id       0.02\n",
      "max_glu_serum             0.02\n",
      "A1Cresult                 0.02\n",
      "insulin                   0.02\n",
      "gender                    0.01\n",
      "change                    0.01\n",
      "diabetesMed               0.01\n",
      "race                      0.01\n"
     ]
    }
   ],
   "source": [
    "print pd.DataFrame(ada.feature_importances_, index=Xtrain.columns).sort_values(by=0, ascending=False)"
   ]
  },
  {
   "cell_type": "code",
   "execution_count": 49,
   "metadata": {
    "collapsed": false
   },
   "outputs": [],
   "source": [
    "importances = pd.DataFrame(zip(dtree.fit(X1,y1).feature_importances_,\n",
    "                               clf.fit(X1,y1).feature_importances_,\n",
    "                               \n",
    "                               ada.fit(X1,y1).feature_importances_,\n",
    "                               gb.fit(X1,y1).feature_importances_),\n",
    "                           index=X1.columns,\n",
    "                           columns=['dtree_importance',\n",
    "                                    'rf_importance',\n",
    "                                    'ada_importance','gb_importance']).sort_values('rf_importance',\n",
    "                                                                   ascending=False)\n"
   ]
  },
  {
   "cell_type": "code",
   "execution_count": 50,
   "metadata": {
    "collapsed": false
   },
   "outputs": [
    {
     "data": {
      "text/html": [
       "<div>\n",
       "<table border=\"1\" class=\"dataframe\">\n",
       "  <thead>\n",
       "    <tr style=\"text-align: right;\">\n",
       "      <th></th>\n",
       "      <th>dtree_importance</th>\n",
       "      <th>rf_importance</th>\n",
       "      <th>ada_importance</th>\n",
       "      <th>gb_importance</th>\n",
       "    </tr>\n",
       "  </thead>\n",
       "  <tbody>\n",
       "    <tr>\n",
       "      <th>num_lab_procedures</th>\n",
       "      <td>0.159764</td>\n",
       "      <td>0.139954</td>\n",
       "      <td>0.07</td>\n",
       "      <td>0.054639</td>\n",
       "    </tr>\n",
       "    <tr>\n",
       "      <th>num_medications</th>\n",
       "      <td>0.132334</td>\n",
       "      <td>0.116060</td>\n",
       "      <td>0.07</td>\n",
       "      <td>0.066104</td>\n",
       "    </tr>\n",
       "    <tr>\n",
       "      <th>time_in_hospital</th>\n",
       "      <td>0.076266</td>\n",
       "      <td>0.077166</td>\n",
       "      <td>0.05</td>\n",
       "      <td>0.050494</td>\n",
       "    </tr>\n",
       "    <tr>\n",
       "      <th>code2</th>\n",
       "      <td>0.068472</td>\n",
       "      <td>0.069911</td>\n",
       "      <td>0.02</td>\n",
       "      <td>0.024713</td>\n",
       "    </tr>\n",
       "    <tr>\n",
       "      <th>code1</th>\n",
       "      <td>0.065454</td>\n",
       "      <td>0.066490</td>\n",
       "      <td>0.06</td>\n",
       "      <td>0.053257</td>\n",
       "    </tr>\n",
       "    <tr>\n",
       "      <th>age</th>\n",
       "      <td>0.064431</td>\n",
       "      <td>0.063404</td>\n",
       "      <td>0.07</td>\n",
       "      <td>0.045323</td>\n",
       "    </tr>\n",
       "    <tr>\n",
       "      <th>num_procedures</th>\n",
       "      <td>0.051777</td>\n",
       "      <td>0.054183</td>\n",
       "      <td>0.02</td>\n",
       "      <td>0.011689</td>\n",
       "    </tr>\n",
       "    <tr>\n",
       "      <th>number_inpatient</th>\n",
       "      <td>0.032728</td>\n",
       "      <td>0.049242</td>\n",
       "      <td>0.13</td>\n",
       "      <td>0.208637</td>\n",
       "    </tr>\n",
       "    <tr>\n",
       "      <th>number_diagnoses</th>\n",
       "      <td>0.047234</td>\n",
       "      <td>0.048163</td>\n",
       "      <td>0.06</td>\n",
       "      <td>0.052639</td>\n",
       "    </tr>\n",
       "    <tr>\n",
       "      <th>discharge_disposition_id</th>\n",
       "      <td>0.031772</td>\n",
       "      <td>0.043358</td>\n",
       "      <td>0.15</td>\n",
       "      <td>0.206216</td>\n",
       "    </tr>\n",
       "    <tr>\n",
       "      <th>insulin</th>\n",
       "      <td>0.037097</td>\n",
       "      <td>0.036946</td>\n",
       "      <td>0.03</td>\n",
       "      <td>0.022555</td>\n",
       "    </tr>\n",
       "    <tr>\n",
       "      <th>admission_type_id</th>\n",
       "      <td>0.031028</td>\n",
       "      <td>0.036176</td>\n",
       "      <td>0.04</td>\n",
       "      <td>0.029314</td>\n",
       "    </tr>\n",
       "    <tr>\n",
       "      <th>race</th>\n",
       "      <td>0.030113</td>\n",
       "      <td>0.031363</td>\n",
       "      <td>0.01</td>\n",
       "      <td>0.010945</td>\n",
       "    </tr>\n",
       "    <tr>\n",
       "      <th>admission_source_id</th>\n",
       "      <td>0.027002</td>\n",
       "      <td>0.030877</td>\n",
       "      <td>0.03</td>\n",
       "      <td>0.006295</td>\n",
       "    </tr>\n",
       "    <tr>\n",
       "      <th>number_outpatient</th>\n",
       "      <td>0.029338</td>\n",
       "      <td>0.026915</td>\n",
       "      <td>0.06</td>\n",
       "      <td>0.024356</td>\n",
       "    </tr>\n",
       "    <tr>\n",
       "      <th>gender</th>\n",
       "      <td>0.023303</td>\n",
       "      <td>0.026050</td>\n",
       "      <td>0.01</td>\n",
       "      <td>0.001147</td>\n",
       "    </tr>\n",
       "    <tr>\n",
       "      <th>A1Cresult</th>\n",
       "      <td>0.026328</td>\n",
       "      <td>0.023931</td>\n",
       "      <td>0.02</td>\n",
       "      <td>0.018573</td>\n",
       "    </tr>\n",
       "    <tr>\n",
       "      <th>number_emergency</th>\n",
       "      <td>0.022964</td>\n",
       "      <td>0.020179</td>\n",
       "      <td>0.05</td>\n",
       "      <td>0.095020</td>\n",
       "    </tr>\n",
       "    <tr>\n",
       "      <th>change</th>\n",
       "      <td>0.019838</td>\n",
       "      <td>0.018536</td>\n",
       "      <td>0.02</td>\n",
       "      <td>0.000992</td>\n",
       "    </tr>\n",
       "    <tr>\n",
       "      <th>diabetesMed</th>\n",
       "      <td>0.014527</td>\n",
       "      <td>0.012330</td>\n",
       "      <td>0.01</td>\n",
       "      <td>0.012621</td>\n",
       "    </tr>\n",
       "    <tr>\n",
       "      <th>max_glu_serum</th>\n",
       "      <td>0.008230</td>\n",
       "      <td>0.008765</td>\n",
       "      <td>0.02</td>\n",
       "      <td>0.004471</td>\n",
       "    </tr>\n",
       "  </tbody>\n",
       "</table>\n",
       "</div>"
      ],
      "text/plain": [
       "                          dtree_importance  rf_importance  ada_importance  \\\n",
       "num_lab_procedures                0.159764       0.139954            0.07   \n",
       "num_medications                   0.132334       0.116060            0.07   \n",
       "time_in_hospital                  0.076266       0.077166            0.05   \n",
       "code2                             0.068472       0.069911            0.02   \n",
       "code1                             0.065454       0.066490            0.06   \n",
       "age                               0.064431       0.063404            0.07   \n",
       "num_procedures                    0.051777       0.054183            0.02   \n",
       "number_inpatient                  0.032728       0.049242            0.13   \n",
       "number_diagnoses                  0.047234       0.048163            0.06   \n",
       "discharge_disposition_id          0.031772       0.043358            0.15   \n",
       "insulin                           0.037097       0.036946            0.03   \n",
       "admission_type_id                 0.031028       0.036176            0.04   \n",
       "race                              0.030113       0.031363            0.01   \n",
       "admission_source_id               0.027002       0.030877            0.03   \n",
       "number_outpatient                 0.029338       0.026915            0.06   \n",
       "gender                            0.023303       0.026050            0.01   \n",
       "A1Cresult                         0.026328       0.023931            0.02   \n",
       "number_emergency                  0.022964       0.020179            0.05   \n",
       "change                            0.019838       0.018536            0.02   \n",
       "diabetesMed                       0.014527       0.012330            0.01   \n",
       "max_glu_serum                     0.008230       0.008765            0.02   \n",
       "\n",
       "                          gb_importance  \n",
       "num_lab_procedures             0.054639  \n",
       "num_medications                0.066104  \n",
       "time_in_hospital               0.050494  \n",
       "code2                          0.024713  \n",
       "code1                          0.053257  \n",
       "age                            0.045323  \n",
       "num_procedures                 0.011689  \n",
       "number_inpatient               0.208637  \n",
       "number_diagnoses               0.052639  \n",
       "discharge_disposition_id       0.206216  \n",
       "insulin                        0.022555  \n",
       "admission_type_id              0.029314  \n",
       "race                           0.010945  \n",
       "admission_source_id            0.006295  \n",
       "number_outpatient              0.024356  \n",
       "gender                         0.001147  \n",
       "A1Cresult                      0.018573  \n",
       "number_emergency               0.095020  \n",
       "change                         0.000992  \n",
       "diabetesMed                    0.012621  \n",
       "max_glu_serum                  0.004471  "
      ]
     },
     "execution_count": 50,
     "metadata": {},
     "output_type": "execute_result"
    }
   ],
   "source": [
    "importances"
   ]
  },
  {
   "cell_type": "code",
   "execution_count": 80,
   "metadata": {
    "collapsed": false
   },
   "outputs": [],
   "source": [
    "#http://www.kdnuggets.com/2016/02/ensemble-methods-techniques-produce-improved-machine-learning.html\n",
    "# train = load_csv(\"train.csv\")\n",
    "# target = train[\"target\"]\n",
    "# train = train.drop(\"target\")\n",
    "# test = load_csv(\"test.csv\")\n",
    "# predictions = np.matrix(row_length=len(y1), column_length=len(algorithms)\n",
    "\n",
    "# def model_store(alg):\n",
    "#     predict =[]\n",
    "#     for model in algorithms:\n",
    "#         predict.append(model.fit(Xtrain,ytrain).predict_proba(Xtest))\n",
    "#         return predict\n",
    "# algorithms = [dtree,et,gb] #for classification\n",
    "# model_store(algorithms)"
   ]
  },
  {
   "cell_type": "code",
   "execution_count": 40,
   "metadata": {
    "collapsed": true
   },
   "outputs": [],
   "source": [
    "df2 = df1.copy()"
   ]
  },
  {
   "cell_type": "code",
   "execution_count": 44,
   "metadata": {
    "collapsed": false
   },
   "outputs": [
    {
     "data": {
      "text/html": [
       "<div>\n",
       "<table border=\"1\" class=\"dataframe\">\n",
       "  <thead>\n",
       "    <tr style=\"text-align: right;\">\n",
       "      <th></th>\n",
       "      <th>Unnamed: 0</th>\n",
       "      <th>encounter_id</th>\n",
       "      <th>patient_nbr</th>\n",
       "      <th>race</th>\n",
       "      <th>gender</th>\n",
       "      <th>age</th>\n",
       "      <th>admission_type_id</th>\n",
       "      <th>discharge_disposition_id</th>\n",
       "      <th>admission_source_id</th>\n",
       "      <th>time_in_hospital</th>\n",
       "      <th>...</th>\n",
       "      <th>glipizide-metformin</th>\n",
       "      <th>glimepiride-pioglitazone</th>\n",
       "      <th>metformin-rosiglitazone</th>\n",
       "      <th>metformin-pioglitazone</th>\n",
       "      <th>change</th>\n",
       "      <th>diabetesMed</th>\n",
       "      <th>readmitted</th>\n",
       "      <th>code</th>\n",
       "      <th>not_readmit</th>\n",
       "      <th>readmit</th>\n",
       "    </tr>\n",
       "  </thead>\n",
       "  <tbody>\n",
       "    <tr>\n",
       "      <th>0</th>\n",
       "      <td>0</td>\n",
       "      <td>2278392</td>\n",
       "      <td>8222157</td>\n",
       "      <td>Caucasian</td>\n",
       "      <td>Female</td>\n",
       "      <td>[0-10)</td>\n",
       "      <td>6</td>\n",
       "      <td>25</td>\n",
       "      <td>1</td>\n",
       "      <td>1</td>\n",
       "      <td>...</td>\n",
       "      <td>No</td>\n",
       "      <td>No</td>\n",
       "      <td>No</td>\n",
       "      <td>No</td>\n",
       "      <td>No</td>\n",
       "      <td>No</td>\n",
       "      <td>not_readmitted</td>\n",
       "      <td>diabetes</td>\n",
       "      <td>1</td>\n",
       "      <td>0</td>\n",
       "    </tr>\n",
       "    <tr>\n",
       "      <th>1</th>\n",
       "      <td>1</td>\n",
       "      <td>149190</td>\n",
       "      <td>55629189</td>\n",
       "      <td>Caucasian</td>\n",
       "      <td>Female</td>\n",
       "      <td>[10-20)</td>\n",
       "      <td>1</td>\n",
       "      <td>1</td>\n",
       "      <td>7</td>\n",
       "      <td>3</td>\n",
       "      <td>...</td>\n",
       "      <td>No</td>\n",
       "      <td>No</td>\n",
       "      <td>No</td>\n",
       "      <td>No</td>\n",
       "      <td>Ch</td>\n",
       "      <td>Yes</td>\n",
       "      <td>not_readmitted</td>\n",
       "      <td>neoplasm</td>\n",
       "      <td>1</td>\n",
       "      <td>0</td>\n",
       "    </tr>\n",
       "    <tr>\n",
       "      <th>2</th>\n",
       "      <td>2</td>\n",
       "      <td>64410</td>\n",
       "      <td>86047875</td>\n",
       "      <td>AfricanAmerican</td>\n",
       "      <td>Female</td>\n",
       "      <td>[20-30)</td>\n",
       "      <td>1</td>\n",
       "      <td>1</td>\n",
       "      <td>7</td>\n",
       "      <td>2</td>\n",
       "      <td>...</td>\n",
       "      <td>No</td>\n",
       "      <td>No</td>\n",
       "      <td>No</td>\n",
       "      <td>No</td>\n",
       "      <td>No</td>\n",
       "      <td>Yes</td>\n",
       "      <td>not_readmitted</td>\n",
       "      <td>other</td>\n",
       "      <td>1</td>\n",
       "      <td>0</td>\n",
       "    </tr>\n",
       "    <tr>\n",
       "      <th>3</th>\n",
       "      <td>3</td>\n",
       "      <td>500364</td>\n",
       "      <td>82442376</td>\n",
       "      <td>Caucasian</td>\n",
       "      <td>Male</td>\n",
       "      <td>[30-40)</td>\n",
       "      <td>1</td>\n",
       "      <td>1</td>\n",
       "      <td>7</td>\n",
       "      <td>2</td>\n",
       "      <td>...</td>\n",
       "      <td>No</td>\n",
       "      <td>No</td>\n",
       "      <td>No</td>\n",
       "      <td>No</td>\n",
       "      <td>Ch</td>\n",
       "      <td>Yes</td>\n",
       "      <td>not_readmitted</td>\n",
       "      <td>Undefined</td>\n",
       "      <td>1</td>\n",
       "      <td>0</td>\n",
       "    </tr>\n",
       "    <tr>\n",
       "      <th>4</th>\n",
       "      <td>4</td>\n",
       "      <td>16680</td>\n",
       "      <td>42519267</td>\n",
       "      <td>Caucasian</td>\n",
       "      <td>Male</td>\n",
       "      <td>[40-50)</td>\n",
       "      <td>1</td>\n",
       "      <td>1</td>\n",
       "      <td>7</td>\n",
       "      <td>1</td>\n",
       "      <td>...</td>\n",
       "      <td>No</td>\n",
       "      <td>No</td>\n",
       "      <td>No</td>\n",
       "      <td>No</td>\n",
       "      <td>Ch</td>\n",
       "      <td>Yes</td>\n",
       "      <td>not_readmitted</td>\n",
       "      <td>neoplasm</td>\n",
       "      <td>1</td>\n",
       "      <td>0</td>\n",
       "    </tr>\n",
       "  </tbody>\n",
       "</table>\n",
       "<p>5 rows × 52 columns</p>\n",
       "</div>"
      ],
      "text/plain": [
       "   Unnamed: 0  encounter_id  patient_nbr             race  gender      age  \\\n",
       "0           0       2278392      8222157        Caucasian  Female   [0-10)   \n",
       "1           1        149190     55629189        Caucasian  Female  [10-20)   \n",
       "2           2         64410     86047875  AfricanAmerican  Female  [20-30)   \n",
       "3           3        500364     82442376        Caucasian    Male  [30-40)   \n",
       "4           4         16680     42519267        Caucasian    Male  [40-50)   \n",
       "\n",
       "   admission_type_id  discharge_disposition_id  admission_source_id  \\\n",
       "0                  6                        25                    1   \n",
       "1                  1                         1                    7   \n",
       "2                  1                         1                    7   \n",
       "3                  1                         1                    7   \n",
       "4                  1                         1                    7   \n",
       "\n",
       "   time_in_hospital   ...   glipizide-metformin  glimepiride-pioglitazone  \\\n",
       "0                 1   ...                    No                        No   \n",
       "1                 3   ...                    No                        No   \n",
       "2                 2   ...                    No                        No   \n",
       "3                 2   ...                    No                        No   \n",
       "4                 1   ...                    No                        No   \n",
       "\n",
       "   metformin-rosiglitazone  metformin-pioglitazone  change  diabetesMed  \\\n",
       "0                       No                      No      No           No   \n",
       "1                       No                      No      Ch          Yes   \n",
       "2                       No                      No      No          Yes   \n",
       "3                       No                      No      Ch          Yes   \n",
       "4                       No                      No      Ch          Yes   \n",
       "\n",
       "       readmitted       code not_readmit readmit  \n",
       "0  not_readmitted   diabetes           1       0  \n",
       "1  not_readmitted   neoplasm           1       0  \n",
       "2  not_readmitted      other           1       0  \n",
       "3  not_readmitted  Undefined           1       0  \n",
       "4  not_readmitted   neoplasm           1       0  \n",
       "\n",
       "[5 rows x 52 columns]"
      ]
     },
     "execution_count": 44,
     "metadata": {},
     "output_type": "execute_result"
    }
   ],
   "source": [
    "df2.head()"
   ]
  },
  {
   "cell_type": "code",
   "execution_count": 109,
   "metadata": {
    "collapsed": false,
    "scrolled": true
   },
   "outputs": [
    {
     "data": {
      "text/plain": [
       "0    0.886123\n",
       "1    0.113877\n",
       "Name: readmit, dtype: float64"
      ]
     },
     "execution_count": 109,
     "metadata": {},
     "output_type": "execute_result"
    }
   ],
   "source": [
    "(df2.readmit.value_counts())/len(df2)"
   ]
  },
  {
   "cell_type": "code",
   "execution_count": null,
   "metadata": {
    "collapsed": true
   },
   "outputs": [],
   "source": [
    "#missing values were imputed\n",
    "# df2.race = df1['race'].replace('?','missing')\n",
    "# df2.gender = df1['gender'].replace('Unknown/Invalid','Male')"
   ]
  },
  {
   "cell_type": "code",
   "execution_count": null,
   "metadata": {
    "collapsed": true
   },
   "outputs": [],
   "source": [
    "# X=dmatrix('~ C(gender)+C(age)+ C(race)+(time_in_hospital)+C(A1Cresult)',df1, return_type='dataframe')\n",
    "# y=df1['readmit'].astype(int)"
   ]
  },
  {
   "cell_type": "code",
   "execution_count": 66,
   "metadata": {
    "collapsed": true
   },
   "outputs": [],
   "source": [
    "le = preprocessing.LabelEncoder()\n",
    "df2['age'] = le.fit_transform(df2.age)\n",
    "df2['race'] = le.fit_transform(df2.race)\n",
    "df2['gender'] = le.fit_transform(df2.gender)\n",
    "df2['A1Cresult'] = le.fit_transform(df2.A1Cresult)\n",
    "df2['medical_specialty'] = le.fit_transform(df2.medical_specialty)\n",
    "df2['code'] = le.fit_transform(df2.code)\n",
    "df2['admission_source_id'] = le.fit_transform(df2.admission_source_id)\n"
   ]
  },
  {
   "cell_type": "code",
   "execution_count": 115,
   "metadata": {
    "collapsed": false
   },
   "outputs": [],
   "source": [
    "#label encoder\n",
    "le = preprocessing.LabelEncoder()\n",
    "features = ['age','race','gender','A1Cresult','medical_specialty','code','admission_source_id']\n",
    "for c in features:\n",
    "    df2[c] = le.fit_transform(df2[c])"
   ]
  },
  {
   "cell_type": "code",
   "execution_count": 116,
   "metadata": {
    "collapsed": false
   },
   "outputs": [
    {
     "data": {
      "text/html": [
       "<div>\n",
       "<table border=\"1\" class=\"dataframe\">\n",
       "  <thead>\n",
       "    <tr style=\"text-align: right;\">\n",
       "      <th></th>\n",
       "      <th>Unnamed: 0</th>\n",
       "      <th>encounter_id</th>\n",
       "      <th>patient_nbr</th>\n",
       "      <th>race</th>\n",
       "      <th>gender</th>\n",
       "      <th>age</th>\n",
       "      <th>admission_type_id</th>\n",
       "      <th>discharge_disposition_id</th>\n",
       "      <th>admission_source_id</th>\n",
       "      <th>time_in_hospital</th>\n",
       "      <th>...</th>\n",
       "      <th>glipizide-metformin</th>\n",
       "      <th>glimepiride-pioglitazone</th>\n",
       "      <th>metformin-rosiglitazone</th>\n",
       "      <th>metformin-pioglitazone</th>\n",
       "      <th>change</th>\n",
       "      <th>diabetesMed</th>\n",
       "      <th>readmitted</th>\n",
       "      <th>code</th>\n",
       "      <th>not_readmit</th>\n",
       "      <th>readmit</th>\n",
       "    </tr>\n",
       "  </thead>\n",
       "  <tbody>\n",
       "    <tr>\n",
       "      <th>0</th>\n",
       "      <td>0</td>\n",
       "      <td>2278392</td>\n",
       "      <td>8222157</td>\n",
       "      <td>2</td>\n",
       "      <td>0</td>\n",
       "      <td>0</td>\n",
       "      <td>6</td>\n",
       "      <td>25</td>\n",
       "      <td>0</td>\n",
       "      <td>1</td>\n",
       "      <td>...</td>\n",
       "      <td>No</td>\n",
       "      <td>No</td>\n",
       "      <td>No</td>\n",
       "      <td>No</td>\n",
       "      <td>No</td>\n",
       "      <td>No</td>\n",
       "      <td>not_readmitted</td>\n",
       "      <td>2</td>\n",
       "      <td>1</td>\n",
       "      <td>0</td>\n",
       "    </tr>\n",
       "    <tr>\n",
       "      <th>1</th>\n",
       "      <td>1</td>\n",
       "      <td>149190</td>\n",
       "      <td>55629189</td>\n",
       "      <td>2</td>\n",
       "      <td>0</td>\n",
       "      <td>1</td>\n",
       "      <td>1</td>\n",
       "      <td>1</td>\n",
       "      <td>6</td>\n",
       "      <td>3</td>\n",
       "      <td>...</td>\n",
       "      <td>No</td>\n",
       "      <td>No</td>\n",
       "      <td>No</td>\n",
       "      <td>No</td>\n",
       "      <td>Ch</td>\n",
       "      <td>Yes</td>\n",
       "      <td>not_readmitted</td>\n",
       "      <td>7</td>\n",
       "      <td>1</td>\n",
       "      <td>0</td>\n",
       "    </tr>\n",
       "    <tr>\n",
       "      <th>2</th>\n",
       "      <td>2</td>\n",
       "      <td>64410</td>\n",
       "      <td>86047875</td>\n",
       "      <td>0</td>\n",
       "      <td>0</td>\n",
       "      <td>2</td>\n",
       "      <td>1</td>\n",
       "      <td>1</td>\n",
       "      <td>6</td>\n",
       "      <td>2</td>\n",
       "      <td>...</td>\n",
       "      <td>No</td>\n",
       "      <td>No</td>\n",
       "      <td>No</td>\n",
       "      <td>No</td>\n",
       "      <td>No</td>\n",
       "      <td>Yes</td>\n",
       "      <td>not_readmitted</td>\n",
       "      <td>8</td>\n",
       "      <td>1</td>\n",
       "      <td>0</td>\n",
       "    </tr>\n",
       "    <tr>\n",
       "      <th>3</th>\n",
       "      <td>3</td>\n",
       "      <td>500364</td>\n",
       "      <td>82442376</td>\n",
       "      <td>2</td>\n",
       "      <td>1</td>\n",
       "      <td>3</td>\n",
       "      <td>1</td>\n",
       "      <td>1</td>\n",
       "      <td>6</td>\n",
       "      <td>2</td>\n",
       "      <td>...</td>\n",
       "      <td>No</td>\n",
       "      <td>No</td>\n",
       "      <td>No</td>\n",
       "      <td>No</td>\n",
       "      <td>Ch</td>\n",
       "      <td>Yes</td>\n",
       "      <td>not_readmitted</td>\n",
       "      <td>0</td>\n",
       "      <td>1</td>\n",
       "      <td>0</td>\n",
       "    </tr>\n",
       "    <tr>\n",
       "      <th>4</th>\n",
       "      <td>4</td>\n",
       "      <td>16680</td>\n",
       "      <td>42519267</td>\n",
       "      <td>2</td>\n",
       "      <td>1</td>\n",
       "      <td>4</td>\n",
       "      <td>1</td>\n",
       "      <td>1</td>\n",
       "      <td>6</td>\n",
       "      <td>1</td>\n",
       "      <td>...</td>\n",
       "      <td>No</td>\n",
       "      <td>No</td>\n",
       "      <td>No</td>\n",
       "      <td>No</td>\n",
       "      <td>Ch</td>\n",
       "      <td>Yes</td>\n",
       "      <td>not_readmitted</td>\n",
       "      <td>7</td>\n",
       "      <td>1</td>\n",
       "      <td>0</td>\n",
       "    </tr>\n",
       "  </tbody>\n",
       "</table>\n",
       "<p>5 rows × 52 columns</p>\n",
       "</div>"
      ],
      "text/plain": [
       "   Unnamed: 0  encounter_id  patient_nbr  race  gender  age  \\\n",
       "0           0       2278392      8222157     2       0    0   \n",
       "1           1        149190     55629189     2       0    1   \n",
       "2           2         64410     86047875     0       0    2   \n",
       "3           3        500364     82442376     2       1    3   \n",
       "4           4         16680     42519267     2       1    4   \n",
       "\n",
       "   admission_type_id  discharge_disposition_id  admission_source_id  \\\n",
       "0                  6                        25                    0   \n",
       "1                  1                         1                    6   \n",
       "2                  1                         1                    6   \n",
       "3                  1                         1                    6   \n",
       "4                  1                         1                    6   \n",
       "\n",
       "   time_in_hospital   ...    glipizide-metformin  glimepiride-pioglitazone  \\\n",
       "0                 1   ...                     No                        No   \n",
       "1                 3   ...                     No                        No   \n",
       "2                 2   ...                     No                        No   \n",
       "3                 2   ...                     No                        No   \n",
       "4                 1   ...                     No                        No   \n",
       "\n",
       "   metformin-rosiglitazone  metformin-pioglitazone  change  diabetesMed  \\\n",
       "0                       No                      No      No           No   \n",
       "1                       No                      No      Ch          Yes   \n",
       "2                       No                      No      No          Yes   \n",
       "3                       No                      No      Ch          Yes   \n",
       "4                       No                      No      Ch          Yes   \n",
       "\n",
       "       readmitted code not_readmit readmit  \n",
       "0  not_readmitted    2           1       0  \n",
       "1  not_readmitted    7           1       0  \n",
       "2  not_readmitted    8           1       0  \n",
       "3  not_readmitted    0           1       0  \n",
       "4  not_readmitted    7           1       0  \n",
       "\n",
       "[5 rows x 52 columns]"
      ]
     },
     "execution_count": 116,
     "metadata": {},
     "output_type": "execute_result"
    }
   ],
   "source": [
    "df2.head()"
   ]
  },
  {
   "cell_type": "code",
   "execution_count": 69,
   "metadata": {
    "collapsed": false
   },
   "outputs": [],
   "source": [
    "# df2.admission_source_id.value_counts()"
   ]
  },
  {
   "cell_type": "code",
   "execution_count": 67,
   "metadata": {
    "collapsed": false
   },
   "outputs": [
    {
     "data": {
      "text/html": [
       "<div>\n",
       "<table border=\"1\" class=\"dataframe\">\n",
       "  <thead>\n",
       "    <tr style=\"text-align: right;\">\n",
       "      <th></th>\n",
       "      <th>Unnamed: 0</th>\n",
       "      <th>encounter_id</th>\n",
       "      <th>patient_nbr</th>\n",
       "      <th>race</th>\n",
       "      <th>gender</th>\n",
       "      <th>age</th>\n",
       "      <th>admission_type_id</th>\n",
       "      <th>discharge_disposition_id</th>\n",
       "      <th>admission_source_id</th>\n",
       "      <th>time_in_hospital</th>\n",
       "      <th>...</th>\n",
       "      <th>glipizide-metformin</th>\n",
       "      <th>glimepiride-pioglitazone</th>\n",
       "      <th>metformin-rosiglitazone</th>\n",
       "      <th>metformin-pioglitazone</th>\n",
       "      <th>change</th>\n",
       "      <th>diabetesMed</th>\n",
       "      <th>readmitted</th>\n",
       "      <th>code</th>\n",
       "      <th>not_readmit</th>\n",
       "      <th>readmit</th>\n",
       "    </tr>\n",
       "  </thead>\n",
       "  <tbody>\n",
       "    <tr>\n",
       "      <th>0</th>\n",
       "      <td>0</td>\n",
       "      <td>2278392</td>\n",
       "      <td>8222157</td>\n",
       "      <td>2</td>\n",
       "      <td>0</td>\n",
       "      <td>0</td>\n",
       "      <td>6</td>\n",
       "      <td>25</td>\n",
       "      <td>0</td>\n",
       "      <td>1</td>\n",
       "      <td>...</td>\n",
       "      <td>No</td>\n",
       "      <td>No</td>\n",
       "      <td>No</td>\n",
       "      <td>No</td>\n",
       "      <td>No</td>\n",
       "      <td>No</td>\n",
       "      <td>not_readmitted</td>\n",
       "      <td>2</td>\n",
       "      <td>1</td>\n",
       "      <td>0</td>\n",
       "    </tr>\n",
       "    <tr>\n",
       "      <th>1</th>\n",
       "      <td>1</td>\n",
       "      <td>149190</td>\n",
       "      <td>55629189</td>\n",
       "      <td>2</td>\n",
       "      <td>0</td>\n",
       "      <td>1</td>\n",
       "      <td>1</td>\n",
       "      <td>1</td>\n",
       "      <td>6</td>\n",
       "      <td>3</td>\n",
       "      <td>...</td>\n",
       "      <td>No</td>\n",
       "      <td>No</td>\n",
       "      <td>No</td>\n",
       "      <td>No</td>\n",
       "      <td>Ch</td>\n",
       "      <td>Yes</td>\n",
       "      <td>not_readmitted</td>\n",
       "      <td>7</td>\n",
       "      <td>1</td>\n",
       "      <td>0</td>\n",
       "    </tr>\n",
       "    <tr>\n",
       "      <th>2</th>\n",
       "      <td>2</td>\n",
       "      <td>64410</td>\n",
       "      <td>86047875</td>\n",
       "      <td>0</td>\n",
       "      <td>0</td>\n",
       "      <td>2</td>\n",
       "      <td>1</td>\n",
       "      <td>1</td>\n",
       "      <td>6</td>\n",
       "      <td>2</td>\n",
       "      <td>...</td>\n",
       "      <td>No</td>\n",
       "      <td>No</td>\n",
       "      <td>No</td>\n",
       "      <td>No</td>\n",
       "      <td>No</td>\n",
       "      <td>Yes</td>\n",
       "      <td>not_readmitted</td>\n",
       "      <td>8</td>\n",
       "      <td>1</td>\n",
       "      <td>0</td>\n",
       "    </tr>\n",
       "    <tr>\n",
       "      <th>3</th>\n",
       "      <td>3</td>\n",
       "      <td>500364</td>\n",
       "      <td>82442376</td>\n",
       "      <td>2</td>\n",
       "      <td>1</td>\n",
       "      <td>3</td>\n",
       "      <td>1</td>\n",
       "      <td>1</td>\n",
       "      <td>6</td>\n",
       "      <td>2</td>\n",
       "      <td>...</td>\n",
       "      <td>No</td>\n",
       "      <td>No</td>\n",
       "      <td>No</td>\n",
       "      <td>No</td>\n",
       "      <td>Ch</td>\n",
       "      <td>Yes</td>\n",
       "      <td>not_readmitted</td>\n",
       "      <td>0</td>\n",
       "      <td>1</td>\n",
       "      <td>0</td>\n",
       "    </tr>\n",
       "    <tr>\n",
       "      <th>4</th>\n",
       "      <td>4</td>\n",
       "      <td>16680</td>\n",
       "      <td>42519267</td>\n",
       "      <td>2</td>\n",
       "      <td>1</td>\n",
       "      <td>4</td>\n",
       "      <td>1</td>\n",
       "      <td>1</td>\n",
       "      <td>6</td>\n",
       "      <td>1</td>\n",
       "      <td>...</td>\n",
       "      <td>No</td>\n",
       "      <td>No</td>\n",
       "      <td>No</td>\n",
       "      <td>No</td>\n",
       "      <td>Ch</td>\n",
       "      <td>Yes</td>\n",
       "      <td>not_readmitted</td>\n",
       "      <td>7</td>\n",
       "      <td>1</td>\n",
       "      <td>0</td>\n",
       "    </tr>\n",
       "  </tbody>\n",
       "</table>\n",
       "<p>5 rows × 52 columns</p>\n",
       "</div>"
      ],
      "text/plain": [
       "   Unnamed: 0  encounter_id  patient_nbr  race  gender  age  \\\n",
       "0           0       2278392      8222157     2       0    0   \n",
       "1           1        149190     55629189     2       0    1   \n",
       "2           2         64410     86047875     0       0    2   \n",
       "3           3        500364     82442376     2       1    3   \n",
       "4           4         16680     42519267     2       1    4   \n",
       "\n",
       "   admission_type_id  discharge_disposition_id  admission_source_id  \\\n",
       "0                  6                        25                    0   \n",
       "1                  1                         1                    6   \n",
       "2                  1                         1                    6   \n",
       "3                  1                         1                    6   \n",
       "4                  1                         1                    6   \n",
       "\n",
       "   time_in_hospital   ...    glipizide-metformin  glimepiride-pioglitazone  \\\n",
       "0                 1   ...                     No                        No   \n",
       "1                 3   ...                     No                        No   \n",
       "2                 2   ...                     No                        No   \n",
       "3                 2   ...                     No                        No   \n",
       "4                 1   ...                     No                        No   \n",
       "\n",
       "   metformin-rosiglitazone  metformin-pioglitazone  change  diabetesMed  \\\n",
       "0                       No                      No      No           No   \n",
       "1                       No                      No      Ch          Yes   \n",
       "2                       No                      No      No          Yes   \n",
       "3                       No                      No      Ch          Yes   \n",
       "4                       No                      No      Ch          Yes   \n",
       "\n",
       "       readmitted code not_readmit readmit  \n",
       "0  not_readmitted    2           1       0  \n",
       "1  not_readmitted    7           1       0  \n",
       "2  not_readmitted    8           1       0  \n",
       "3  not_readmitted    0           1       0  \n",
       "4  not_readmitted    7           1       0  \n",
       "\n",
       "[5 rows x 52 columns]"
      ]
     },
     "execution_count": 67,
     "metadata": {},
     "output_type": "execute_result"
    }
   ],
   "source": [
    "df2.head()"
   ]
  },
  {
   "cell_type": "code",
   "execution_count": 112,
   "metadata": {
    "collapsed": true
   },
   "outputs": [],
   "source": [
    "# df2.to_csv('diab_models_le.csv')"
   ]
  },
  {
   "cell_type": "code",
   "execution_count": null,
   "metadata": {
    "collapsed": true
   },
   "outputs": [],
   "source": [
    "X=df2[['gender','age','race','A1Cresult','medical_specialty','code','admission_source_id']]\n",
    "y=df2['readmit']"
   ]
  },
  {
   "cell_type": "code",
   "execution_count": 92,
   "metadata": {
    "collapsed": true
   },
   "outputs": [],
   "source": [
    "X=df2[['gender','age','race','A1Cresult','medical_specialty','code','admission_source_id']]\n",
    "y=df2['readmit']"
   ]
  },
  {
   "cell_type": "code",
   "execution_count": 93,
   "metadata": {
    "collapsed": true
   },
   "outputs": [],
   "source": [
    "Xtrain,Xtest,ytrain,ytest = train_test_split(X,y,test_size=0.3, random_state=42)"
   ]
  },
  {
   "cell_type": "code",
   "execution_count": 94,
   "metadata": {
    "collapsed": true
   },
   "outputs": [],
   "source": [
    "# to run multiple models\n",
    "def model_summary(model, X, y):\n",
    "    cv = model_selection.StratifiedKFold(shuffle=True, n_splits=5)\n",
    "    scores = model_selection.cross_val_score(model, X, y, cv=cv)\n",
    "    print 'mean cross-val accuracy score: ', scores.mean(), \"+/-\", scores.std()\n",
    "    \n",
    "    y_pred = model_selection.cross_val_predict(model, X, y, cv=cv)\n",
    "   \n",
    "    print metrics.classification_report(y, y_pred)\n",
    "    \n",
    "    y_score = model_selection.cross_val_predict(model, X, y, method='predict_proba')[:,1]\n",
    "    fpr, tpr, thresholds = metrics.roc_curve(y, y_score)\n",
    "    print 'AUC:', metrics.auc(fpr, tpr)"
   ]
  },
  {
   "cell_type": "code",
   "execution_count": 182,
   "metadata": {
    "collapsed": true
   },
   "outputs": [],
   "source": [
    "models=[dtree,clf,ada,et,gb,nn,logreg]"
   ]
  },
  {
   "cell_type": "code",
   "execution_count": 183,
   "metadata": {
    "collapsed": false
   },
   "outputs": [
    {
     "ename": "NameError",
     "evalue": "name 'model_summary' is not defined",
     "output_type": "error",
     "traceback": [
      "\u001b[0;31m---------------------------------------------------------------------------\u001b[0m",
      "\u001b[0;31mNameError\u001b[0m                                 Traceback (most recent call last)",
      "\u001b[0;32m<ipython-input-183-3241e619d9af>\u001b[0m in \u001b[0;36m<module>\u001b[0;34m()\u001b[0m\n\u001b[1;32m      1\u001b[0m \u001b[0;32mfor\u001b[0m \u001b[0mmodel\u001b[0m \u001b[0;32min\u001b[0m \u001b[0mmodels\u001b[0m\u001b[0;34m:\u001b[0m\u001b[0;34m\u001b[0m\u001b[0m\n\u001b[0;32m----> 2\u001b[0;31m     \u001b[0mmodel_summary\u001b[0m\u001b[0;34m(\u001b[0m\u001b[0mmodel\u001b[0m\u001b[0;34m,\u001b[0m \u001b[0mX\u001b[0m\u001b[0;34m,\u001b[0m \u001b[0my\u001b[0m\u001b[0;34m)\u001b[0m\u001b[0;34m\u001b[0m\u001b[0m\n\u001b[0m",
      "\u001b[0;31mNameError\u001b[0m: name 'model_summary' is not defined"
     ]
    }
   ],
   "source": [
    "for model in models:\n",
    "    model_summary(model, X, y)    "
   ]
  },
  {
   "cell_type": "code",
   "execution_count": 67,
   "metadata": {
    "collapsed": false
   },
   "outputs": [
    {
     "name": "stdout",
     "output_type": "stream",
     "text": [
      "dtree 0.525046173121 +/- 0.00598887090212\n",
      "clf 0.553039416817 +/- 0.0020934399428\n",
      "ada 0.603807944416 +/- 0.00718103181598\n",
      "et 0.608966906296 +/- 0.00338628706097\n",
      "gb 0.595018454465 +/- 0.00416069153895\n"
     ]
    }
   ],
   "source": [
    "#Cross-validated scores\n",
    "cv = model_selection.StratifiedKFold(shuffle=True, n_splits=5)\n",
    "for model, name in zip([dtree,clf, ada,gb,nn], ['dtree','clf', 'ada', 'et','gb','nn']):\n",
    "    score = model_selection.cross_val_score(model, X1, y1, cv=cv, scoring='roc_auc')\n",
    "    print name, score.mean(), '+/-', score.std()"
   ]
  },
  {
   "cell_type": "code",
   "execution_count": 86,
   "metadata": {
    "collapsed": false
   },
   "outputs": [
    {
     "name": "stdout",
     "output_type": "stream",
     "text": [
      "AUC: 0.533392578441\n"
     ]
    },
    {
     "data": {
      "image/png": "[encoded data removed]",
      "text/plain": [
       "<matplotlib.figure.Figure at 0x11711e350>"
      ]
     },
     "metadata": {},
     "output_type": "display_data"
    }
   ],
   "source": [
    "predict = model_selection.cross_val_predict(clf, X, y, cv=cv, method='predict_proba')\n",
    "y_score = predict[:,1]\n",
    "fpr, tpr, thresholds = metrics.roc_curve(y, y_score)\n",
    "print 'AUC:', metrics.auc(fpr, tpr)\n",
    "\n",
    "plt.plot(fpr, tpr, label='AUC: {:.2}'.format(metrics.auc(fpr, tpr)))\n",
    "plt.xlabel('FPR')\n",
    "plt.ylabel('TPR')\n",
    "plt.title('ROC Curve for Cross-Validated Model')\n",
    "plt.plot([0, 1], [0, 1], 'k--')\n",
    "plt.legend(loc='lower right')\n",
    "plt.show()"
   ]
  },
  {
   "cell_type": "code",
   "execution_count": 129,
   "metadata": {
    "collapsed": false
   },
   "outputs": [
    {
     "ename": "IndexError",
     "evalue": "list index out of range",
     "output_type": "error",
     "traceback": [
      "\u001b[0;31m---------------------------------------------------------------------------\u001b[0m",
      "\u001b[0;31mIndexError\u001b[0m                                Traceback (most recent call last)",
      "\u001b[0;32m<ipython-input-129-49d68df6598e>\u001b[0m in \u001b[0;36m<module>\u001b[0;34m()\u001b[0m\n\u001b[1;32m      1\u001b[0m \u001b[0;31m# thresholds for TPR of 80%, 85%, 90%, 95%, and 100%\u001b[0m\u001b[0;34m\u001b[0m\u001b[0;34m\u001b[0m\u001b[0m\n\u001b[0;32m----> 2\u001b[0;31m \u001b[0mthresh\u001b[0m \u001b[0;34m=\u001b[0m \u001b[0;34m[\u001b[0m\u001b[0;34m[\u001b[0m\u001b[0mth\u001b[0m \u001b[0;32mfor\u001b[0m \u001b[0mt\u001b[0m\u001b[0;34m,\u001b[0m \u001b[0mf\u001b[0m\u001b[0;34m,\u001b[0m \u001b[0mth\u001b[0m \u001b[0;32min\u001b[0m \u001b[0mzip\u001b[0m\u001b[0;34m(\u001b[0m\u001b[0mfpr\u001b[0m\u001b[0;34m,\u001b[0m \u001b[0mtpr\u001b[0m\u001b[0;34m,\u001b[0m \u001b[0mthresholds\u001b[0m\u001b[0;34m)\u001b[0m \u001b[0;32mif\u001b[0m \u001b[0mt\u001b[0m \u001b[0;34m>=\u001b[0m \u001b[0mi\u001b[0m\u001b[0;34m]\u001b[0m\u001b[0;34m[\u001b[0m\u001b[0;36m0\u001b[0m\u001b[0;34m]\u001b[0m \u001b[0;32mfor\u001b[0m \u001b[0mi\u001b[0m \u001b[0;32min\u001b[0m \u001b[0;34m[\u001b[0m\u001b[0;36m0.35\u001b[0m\u001b[0;34m,\u001b[0m \u001b[0;36m0.49\u001b[0m\u001b[0;34m]\u001b[0m\u001b[0;34m]\u001b[0m\u001b[0;34m\u001b[0m\u001b[0m\n\u001b[0m",
      "\u001b[0;31mIndexError\u001b[0m: list index out of range"
     ]
    }
   ],
   "source": [
    "# thresholds for TPR of 80%, 85%, 90%, 95%, and 100%\n",
    "thresh = [[th for t, f, th in zip(fpr, tpr, thresholds) if t >= i][0] for i in [0.35, 0.49]]"
   ]
  },
  {
   "cell_type": "code",
   "execution_count": 181,
   "metadata": {
    "collapsed": false
   },
   "outputs": [
    {
     "name": "stdout",
     "output_type": "stream",
     "text": [
      "threshold: 0.1005\n"
     ]
    },
    {
     "ename": "ValueError",
     "evalue": "Found input variables with inconsistent numbers of samples: [99353, 29806]",
     "output_type": "error",
     "traceback": [
      "\u001b[0;31m---------------------------------------------------------------------------\u001b[0m",
      "\u001b[0;31mValueError\u001b[0m                                Traceback (most recent call last)",
      "\u001b[0;32m<ipython-input-181-e44c8b02a84d>\u001b[0m in \u001b[0;36m<module>\u001b[0;34m()\u001b[0m\n\u001b[1;32m      4\u001b[0m     \u001b[0mpredictions\u001b[0m \u001b[0;34m=\u001b[0m \u001b[0;34m[\u001b[0m\u001b[0;36m1\u001b[0m \u001b[0;32mif\u001b[0m \u001b[0mp\u001b[0m \u001b[0;34m>=\u001b[0m \u001b[0mi\u001b[0m \u001b[0;32melse\u001b[0m \u001b[0;36m0\u001b[0m \u001b[0;32mfor\u001b[0m \u001b[0mp\u001b[0m \u001b[0;32min\u001b[0m \u001b[0myscore\u001b[0m\u001b[0;34m]\u001b[0m\u001b[0;34m\u001b[0m\u001b[0m\n\u001b[1;32m      5\u001b[0m     \u001b[0;32mprint\u001b[0m \u001b[0;34m'threshold:'\u001b[0m\u001b[0;34m,\u001b[0m \u001b[0mi\u001b[0m\u001b[0;34m\u001b[0m\u001b[0m\n\u001b[0;32m----> 6\u001b[0;31m     \u001b[0;32mprint\u001b[0m \u001b[0mmetrics\u001b[0m\u001b[0;34m.\u001b[0m\u001b[0mclassification_report\u001b[0m\u001b[0;34m(\u001b[0m\u001b[0my\u001b[0m\u001b[0;34m,\u001b[0m \u001b[0mpredictions\u001b[0m\u001b[0;34m)\u001b[0m\u001b[0;34m\u001b[0m\u001b[0m\n\u001b[0m\u001b[1;32m      7\u001b[0m     \u001b[0;32mprint\u001b[0m \u001b[0;34m''\u001b[0m\u001b[0;34m\u001b[0m\u001b[0m\n",
      "\u001b[0;32m/Users/user/anaconda/lib/python2.7/site-packages/sklearn/metrics/classification.pyc\u001b[0m in \u001b[0;36mclassification_report\u001b[0;34m(y_true, y_pred, labels, target_names, sample_weight, digits)\u001b[0m\n\u001b[1;32m   1413\u001b[0m                                                   \u001b[0mlabels\u001b[0m\u001b[0;34m=\u001b[0m\u001b[0mlabels\u001b[0m\u001b[0;34m,\u001b[0m\u001b[0;34m\u001b[0m\u001b[0m\n\u001b[1;32m   1414\u001b[0m                                                   \u001b[0maverage\u001b[0m\u001b[0;34m=\u001b[0m\u001b[0mNone\u001b[0m\u001b[0;34m,\u001b[0m\u001b[0;34m\u001b[0m\u001b[0m\n\u001b[0;32m-> 1415\u001b[0;31m                                                   sample_weight=sample_weight)\n\u001b[0m\u001b[1;32m   1416\u001b[0m \u001b[0;34m\u001b[0m\u001b[0m\n\u001b[1;32m   1417\u001b[0m     \u001b[0;32mfor\u001b[0m \u001b[0mi\u001b[0m\u001b[0;34m,\u001b[0m \u001b[0mlabel\u001b[0m \u001b[0;32min\u001b[0m \u001b[0menumerate\u001b[0m\u001b[0;34m(\u001b[0m\u001b[0mlabels\u001b[0m\u001b[0;34m)\u001b[0m\u001b[0;34m:\u001b[0m\u001b[0;34m\u001b[0m\u001b[0m\n",
      "\u001b[0;32m/Users/user/anaconda/lib/python2.7/site-packages/sklearn/metrics/classification.pyc\u001b[0m in \u001b[0;36mprecision_recall_fscore_support\u001b[0;34m(y_true, y_pred, beta, labels, pos_label, average, warn_for, sample_weight)\u001b[0m\n\u001b[1;32m   1001\u001b[0m         \u001b[0;32mraise\u001b[0m \u001b[0mValueError\u001b[0m\u001b[0;34m(\u001b[0m\u001b[0;34m\"beta should be >0 in the F-beta score\"\u001b[0m\u001b[0;34m)\u001b[0m\u001b[0;34m\u001b[0m\u001b[0m\n\u001b[1;32m   1002\u001b[0m \u001b[0;34m\u001b[0m\u001b[0m\n\u001b[0;32m-> 1003\u001b[0;31m     \u001b[0my_type\u001b[0m\u001b[0;34m,\u001b[0m \u001b[0my_true\u001b[0m\u001b[0;34m,\u001b[0m \u001b[0my_pred\u001b[0m \u001b[0;34m=\u001b[0m \u001b[0m_check_targets\u001b[0m\u001b[0;34m(\u001b[0m\u001b[0my_true\u001b[0m\u001b[0;34m,\u001b[0m \u001b[0my_pred\u001b[0m\u001b[0;34m)\u001b[0m\u001b[0;34m\u001b[0m\u001b[0m\n\u001b[0m\u001b[1;32m   1004\u001b[0m     \u001b[0mpresent_labels\u001b[0m \u001b[0;34m=\u001b[0m \u001b[0munique_labels\u001b[0m\u001b[0;34m(\u001b[0m\u001b[0my_true\u001b[0m\u001b[0;34m,\u001b[0m \u001b[0my_pred\u001b[0m\u001b[0;34m)\u001b[0m\u001b[0;34m\u001b[0m\u001b[0m\n\u001b[1;32m   1005\u001b[0m \u001b[0;34m\u001b[0m\u001b[0m\n",
      "\u001b[0;32m/Users/user/anaconda/lib/python2.7/site-packages/sklearn/metrics/classification.pyc\u001b[0m in \u001b[0;36m_check_targets\u001b[0;34m(y_true, y_pred)\u001b[0m\n\u001b[1;32m     70\u001b[0m     \u001b[0my_pred\u001b[0m \u001b[0;34m:\u001b[0m \u001b[0marray\u001b[0m \u001b[0;32mor\u001b[0m \u001b[0mindicator\u001b[0m \u001b[0mmatrix\u001b[0m\u001b[0;34m\u001b[0m\u001b[0m\n\u001b[1;32m     71\u001b[0m     \"\"\"\n\u001b[0;32m---> 72\u001b[0;31m     \u001b[0mcheck_consistent_length\u001b[0m\u001b[0;34m(\u001b[0m\u001b[0my_true\u001b[0m\u001b[0;34m,\u001b[0m \u001b[0my_pred\u001b[0m\u001b[0;34m)\u001b[0m\u001b[0;34m\u001b[0m\u001b[0m\n\u001b[0m\u001b[1;32m     73\u001b[0m     \u001b[0mtype_true\u001b[0m \u001b[0;34m=\u001b[0m \u001b[0mtype_of_target\u001b[0m\u001b[0;34m(\u001b[0m\u001b[0my_true\u001b[0m\u001b[0;34m)\u001b[0m\u001b[0;34m\u001b[0m\u001b[0m\n\u001b[1;32m     74\u001b[0m     \u001b[0mtype_pred\u001b[0m \u001b[0;34m=\u001b[0m \u001b[0mtype_of_target\u001b[0m\u001b[0;34m(\u001b[0m\u001b[0my_pred\u001b[0m\u001b[0;34m)\u001b[0m\u001b[0;34m\u001b[0m\u001b[0m\n",
      "\u001b[0;32m/Users/user/anaconda/lib/python2.7/site-packages/sklearn/utils/validation.pyc\u001b[0m in \u001b[0;36mcheck_consistent_length\u001b[0;34m(*arrays)\u001b[0m\n\u001b[1;32m    179\u001b[0m     \u001b[0;32mif\u001b[0m \u001b[0mlen\u001b[0m\u001b[0;34m(\u001b[0m\u001b[0muniques\u001b[0m\u001b[0;34m)\u001b[0m \u001b[0;34m>\u001b[0m \u001b[0;36m1\u001b[0m\u001b[0;34m:\u001b[0m\u001b[0;34m\u001b[0m\u001b[0m\n\u001b[1;32m    180\u001b[0m         raise ValueError(\"Found input variables with inconsistent numbers of\"\n\u001b[0;32m--> 181\u001b[0;31m                          \" samples: %r\" % [int(l) for l in lengths])\n\u001b[0m\u001b[1;32m    182\u001b[0m \u001b[0;34m\u001b[0m\u001b[0m\n\u001b[1;32m    183\u001b[0m \u001b[0;34m\u001b[0m\u001b[0m\n",
      "\u001b[0;31mValueError\u001b[0m: Found input variables with inconsistent numbers of samples: [99353, 29806]"
     ]
    }
   ],
   "source": [
    "# Print classification reports for each threshold corresponding to the TPRs above.\n",
    "thresh = [0.1005,0.09,0.08,0.07,0.03]\n",
    "for i in thresh:\n",
    "    predictions = [1 if p >= i else 0 for p in yscore]\n",
    "    print 'threshold:', i\n",
    "    print metrics.classification_report(y, predictions)\n",
    "    print ''"
   ]
  },
  {
   "cell_type": "code",
   "execution_count": 147,
   "metadata": {
    "collapsed": false
   },
   "outputs": [
    {
     "name": "stdout",
     "output_type": "stream",
     "text": [
      "threshold: 0.105\n",
      "[[36096 51943]\n",
      " [ 3296  8018]]\n",
      "\n",
      "threshold: 0.09\n",
      "[[16220 71819]\n",
      " [ 1173 10141]]\n",
      "\n",
      "threshold: 0.08\n",
      "[[ 9021 79018]\n",
      " [  584 10730]]\n",
      "\n",
      "threshold: 0.07\n",
      "[[ 4383 83656]\n",
      " [  222 11092]]\n",
      "\n",
      "threshold: 0.03\n",
      "[[  306 87733]\n",
      " [    3 11311]]\n",
      "\n"
     ]
    }
   ],
   "source": [
    "# Print confusion matrix for each threshold corresponding to the TPRs above.\n",
    "for i in thresh:\n",
    "    predictions = [1 if p >= i else 0 for p in yscore]\n",
    "    print 'threshold:', i\n",
    "    print metrics.confusion_matrix(y, predictions)\n",
    "    print ''"
   ]
  },
  {
   "cell_type": "code",
   "execution_count": 111,
   "metadata": {
    "collapsed": false
   },
   "outputs": [],
   "source": [
    "# # confusion matrix\n",
    "# actual_vs_cross_val_pred = pd.DataFrame([ypred, y]).transpose()\n",
    "# actual_vs_cross_val_pred.columns = ['cross_val_pred', 'actual']\n",
    "# pd.crosstab(actual_vs_cross_val_pred.cross_val_pred, actual_vs_cross_val_pred.actual)"
   ]
  },
  {
   "cell_type": "code",
   "execution_count": null,
   "metadata": {
    "collapsed": true
   },
   "outputs": [],
   "source": []
  }
 ],
 "metadata": {
  "anaconda-cloud": {},
  "kernelspec": {
   "display_name": "Python [default]",
   "language": "python",
   "name": "python2"
  },
  "language_info": {
   "codemirror_mode": {
    "name": "ipython",
    "version": 2
   },
   "file_extension": ".py",
   "mimetype": "text/x-python",
   "name": "python",
   "nbconvert_exporter": "python",
   "pygments_lexer": "ipython2",
   "version": "2.7.12"
  }
 },
 "nbformat": 4,
 "nbformat_minor": 1
}
