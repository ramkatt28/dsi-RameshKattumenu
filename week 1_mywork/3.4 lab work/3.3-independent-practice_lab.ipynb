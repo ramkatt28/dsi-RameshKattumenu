{
 "cells": [
  {
   "cell_type": "markdown",
   "metadata": {},
   "source": [
    "### Independent practice\n",
    "\n",
    "Complete the questions using the distribution defined with the **dist** variable in the next cell."
   ]
  },
  {
   "cell_type": "code",
   "execution_count": 1,
   "metadata": {
    "collapsed": true
   },
   "outputs": [],
   "source": [
    "import numpy as np\n",
    "from scipy.stats import mode\n",
    "\n",
    "dist = [33.3, 8.0, 2.7, 7.0, 11.3, 10.2, 38.4, 14.7, 46.9, 6.6, 38.6, 41.1, 20.4, 19.5,\n",
    "        102.6, 111.5, 21.8, 27.0, 30.3, 9.3, 19.6, 31.1, 48.8, 8.9, 11.4, 0.6, 23.5,\n",
    "        8.0, 27.5, 69.7, 11.5, 15.5, 1.4, 7.0, 4.6, 6.0, 16.0, 17.2, 6.3, 26.2, 23.9,\n",
    "        45.9, 55.4, 100.8, 22.9, 75.5, 115.5, 58.9, 10.5, 92.6, 12.4, 102.7, 10.2, 167.6,\n",
    "        143.6, 132.3, 134.2, 39.4, 49.7, 12.0, 27.0, 1.3, 4.7, 5.0, 24.1, 21.5, 33.1,\n",
    "        45.6, 46.3, 15.8, 30.7, 15.7, 6.8, 64.6, 39.1, 2.9, 8.0, 5.4, 33.4, 40.0, 22.7,\n",
    "        24.2, 25.7, 85.0, 26.2, 3.3, 20.7, 117.4, 66.8, 44.3, 37.9, 71.8, 161.4, 45.9,\n",
    "        4.6, 6.6, 12.6, 24.4, 21.4, 33.6, 33.7, 18.8, 7.6, 36.3, 1.8, 83.2, 75.1, 71.3,\n",
    "        32.9, 30.6, 16.0, 6.9, 11.0, 9.4, 11.7, 13.8, 39.4, 4.3, 38.1, 60.1, 78.2, 49.6,\n",
    "        14.3, 8.0, 19.3, 30.8, 32.5, 29.6, 28.3, 32.4, 35.7, 36.7, 10.0, 8.5, 12.2, 22.6,\n",
    "        32.1, 25.7, 14.1, 20.9, 23.8, 29.5, 2.9, 42.3, 19.9, 47.5, 15.9, 6.0, 19.3, 38.2,\n",
    "        23.5, 2.7, 27.0, 49.9, 43.5, 31.7, 39.1, 15.1, 18.0, 33.8, 32.1, 50.7, 28.8, 11.6,\n",
    "        74.8, 16.2, 8.3, 36.3, 44.0, 15.6, 48.9, 7.3, 8.2, 29.8, 38.7, 3.9, 7.2, 5.1, 23.7,\n",
    "        48.4, 92.0, 64.3, 97.4, 99.1, 18.0, 7.1, 14.7, 47.1, 41.3, 44.2, 6.5, 44.4, 9.7,\n",
    "        15.5, 23.7, 34.5, 19.9, 58.6, 35.0, 66.1, 74.5, 45.2]"
   ]
  },
  {
   "cell_type": "markdown",
   "metadata": {},
   "source": [
    "##### Q1: Calculate the mean of dist"
   ]
  },
  {
   "cell_type": "code",
   "execution_count": 12,
   "metadata": {
    "collapsed": false
   },
   "outputs": [
    {
     "name": "stdout",
     "output_type": "stream",
     "text": [
      "33.995049505\n"
     ]
    }
   ],
   "source": [
    "mean_dist = np.mean(dist)\n",
    "print mean_dist\n"
   ]
  },
  {
   "cell_type": "markdown",
   "metadata": {},
   "source": [
    "##### Q2: Calculate the median of dist"
   ]
  },
  {
   "cell_type": "code",
   "execution_count": 15,
   "metadata": {
    "collapsed": false
   },
   "outputs": [
    {
     "name": "stdout",
     "output_type": "stream",
     "text": [
      "(25.949999999999999, 33.995049504950494)\n"
     ]
    }
   ],
   "source": [
    "median_dist = np.median(dist)\n",
    "print(median_dist, mean_dist)\n"
   ]
  },
  {
   "cell_type": "markdown",
   "metadata": {},
   "source": [
    "##### Q3: Round the numbers of dist, then calculate the mode"
   ]
  },
  {
   "cell_type": "code",
   "execution_count": 6,
   "metadata": {
    "collapsed": true
   },
   "outputs": [],
   "source": [
    "dist_rounded = [int(round(n)) for n in dist]"
   ]
  },
  {
   "cell_type": "code",
   "execution_count": 8,
   "metadata": {
    "collapsed": false,
    "scrolled": true
   },
   "outputs": [
    {
     "name": "stdout",
     "output_type": "stream",
     "text": [
      "[33, 8, 3, 7, 11, 10, 38, 15, 47, 7, 39, 41, 20, 20, 103, 112, 22, 27, 30, 9, 20, 31, 49, 9, 11, 1, 24, 8, 28, 70, 12, 16, 1, 7, 5, 6, 16, 17, 6, 26, 24, 46, 55, 101, 23, 76, 116, 59, 11, 93, 12, 103, 10, 168, 144, 132, 134, 39, 50, 12, 27, 1, 5, 5, 24, 22, 33, 46, 46, 16, 31, 16, 7, 65, 39, 3, 8, 5, 33, 40, 23, 24, 26, 85, 26, 3, 21, 117, 67, 44, 38, 72, 161, 46, 5, 7, 13, 24, 21, 34, 34, 19, 8, 36, 2, 83, 75, 71, 33, 31, 16, 7, 11, 9, 12, 14, 39, 4, 38, 60, 78, 50, 14, 8, 19, 31, 33, 30, 28, 32, 36, 37, 10, 9, 12, 23, 32, 26, 14, 21, 24, 30, 3, 42, 20, 48, 16, 6, 19, 38, 24, 3, 27, 50, 44, 32, 39, 15, 18, 34, 32, 51, 29, 12, 75, 16, 8, 36, 44, 16, 49, 7, 8, 30, 39, 4, 7, 5, 24, 48, 92, 64, 97, 99, 18, 7, 15, 47, 41, 44, 7, 44, 10, 16, 24, 35, 20, 59, 35, 66, 75, 45]\n"
     ]
    }
   ],
   "source": [
    "print(dist_rounded)\n",
    "\n"
   ]
  },
  {
   "cell_type": "code",
   "execution_count": 9,
   "metadata": {
    "collapsed": false
   },
   "outputs": [
    {
     "data": {
      "text/plain": [
       "ModeResult(mode=array([7]), count=array([10]))"
      ]
     },
     "execution_count": 9,
     "metadata": {},
     "output_type": "execute_result"
    }
   ],
   "source": [
    "from scipy.stats import mode\n",
    "mode(dist_rounded)\n"
   ]
  },
  {
   "cell_type": "markdown",
   "metadata": {},
   "source": [
    "##### Q4: Determine if dist is skewed. If so, which way? How can you tell?"
   ]
  },
  {
   "cell_type": "code",
   "execution_count": 17,
   "metadata": {
    "collapsed": false
   },
   "outputs": [
    {
     "data": {
      "text/plain": [
       "ModeResult(mode=array([ 8.]), count=array([4]))"
      ]
     },
     "execution_count": 17,
     "metadata": {},
     "output_type": "execute_result"
    }
   ],
   "source": [
    "from scipy.stats import mode\n",
    "mode_dist = mode(dist)\n",
    "mode_dist\n",
    "\n"
   ]
  },
  {
   "cell_type": "code",
   "execution_count": 44,
   "metadata": {
    "collapsed": false
   },
   "outputs": [
    {
     "name": "stdout",
     "output_type": "stream",
     "text": [
      "dist is positively skewed\n"
     ]
    }
   ],
   "source": [
    "if mean_dist > median_dist:\n",
    "    print('dist is positively skewed')\n",
    "elif mean_dist==median_dist:\n",
    "    print('normally dist')\n",
    "else:\n",
    "    print('dist is negatively skewed')\n",
    "    \n",
    "    \n",
    "    "
   ]
  },
  {
   "cell_type": "markdown",
   "metadata": {},
   "source": [
    "##### Q5: Calculate the range of dist"
   ]
  },
  {
   "cell_type": "code",
   "execution_count": 18,
   "metadata": {
    "collapsed": false
   },
   "outputs": [
    {
     "data": {
      "text/plain": [
       "167.0"
      ]
     },
     "execution_count": 18,
     "metadata": {},
     "output_type": "execute_result"
    }
   ],
   "source": [
    "import numpy\n",
    "np.ptp(dist)\n"
   ]
  },
  {
   "cell_type": "code",
   "execution_count": 25,
   "metadata": {
    "collapsed": false
   },
   "outputs": [
    {
     "name": "stdout",
     "output_type": "stream",
     "text": [
      "167.0\n"
     ]
    }
   ],
   "source": [
    "n = sorted(dist)\n",
    "range_dist = n[-1] - n[0]\n",
    "print(range_dist)\n"
   ]
  },
  {
   "cell_type": "markdown",
   "metadata": {},
   "source": [
    "##### Q6: Calculate the variance of dist"
   ]
  },
  {
   "cell_type": "code",
   "execution_count": 28,
   "metadata": {
    "collapsed": false
   },
   "outputs": [
    {
     "name": "stdout",
     "output_type": "stream",
     "text": [
      "[33.3, 8.0, 2.7, 7.0, 11.3, 10.2, 38.4, 14.7, 46.9, 6.6, 38.6, 41.1, 20.4, 19.5, 102.6, 111.5, 21.8, 27.0, 30.3, 9.3, 19.6, 31.1, 48.8, 8.9, 11.4, 0.6, 23.5, 8.0, 27.5, 69.7, 11.5, 15.5, 1.4, 7.0, 4.6, 6.0, 16.0, 17.2, 6.3, 26.2, 23.9, 45.9, 55.4, 100.8, 22.9, 75.5, 115.5, 58.9, 10.5, 92.6, 12.4, 102.7, 10.2, 167.6, 143.6, 132.3, 134.2, 39.4, 49.7, 12.0, 27.0, 1.3, 4.7, 5.0, 24.1, 21.5, 33.1, 45.6, 46.3, 15.8, 30.7, 15.7, 6.8, 64.6, 39.1, 2.9, 8.0, 5.4, 33.4, 40.0, 22.7, 24.2, 25.7, 85.0, 26.2, 3.3, 20.7, 117.4, 66.8, 44.3, 37.9, 71.8, 161.4, 45.9, 4.6, 6.6, 12.6, 24.4, 21.4, 33.6, 33.7, 18.8, 7.6, 36.3, 1.8, 83.2, 75.1, 71.3, 32.9, 30.6, 16.0, 6.9, 11.0, 9.4, 11.7, 13.8, 39.4, 4.3, 38.1, 60.1, 78.2, 49.6, 14.3, 8.0, 19.3, 30.8, 32.5, 29.6, 28.3, 32.4, 35.7, 36.7, 10.0, 8.5, 12.2, 22.6, 32.1, 25.7, 14.1, 20.9, 23.8, 29.5, 2.9, 42.3, 19.9, 47.5, 15.9, 6.0, 19.3, 38.2, 23.5, 2.7, 27.0, 49.9, 43.5, 31.7, 39.1, 15.1, 18.0, 33.8, 32.1, 50.7, 28.8, 11.6, 74.8, 16.2, 8.3, 36.3, 44.0, 15.6, 48.9, 7.3, 8.2, 29.8, 38.7, 3.9, 7.2, 5.1, 23.7, 48.4, 92.0, 64.3, 97.4, 99.1, 18.0, 7.1, 14.7, 47.1, 41.3, 44.2, 6.5, 44.4, 9.7, 15.5, 23.7, 34.5, 19.9, 58.6, 35.0, 66.1, 74.5, 45.2]\n"
     ]
    }
   ],
   "source": [
    "print(dist)\n"
   ]
  },
  {
   "cell_type": "code",
   "execution_count": 29,
   "metadata": {
    "collapsed": false
   },
   "outputs": [
    {
     "data": {
      "text/plain": [
       "957.82769826487618"
      ]
     },
     "execution_count": 29,
     "metadata": {},
     "output_type": "execute_result"
    }
   ],
   "source": [
    "np.var(dist)\n"
   ]
  },
  {
   "cell_type": "markdown",
   "metadata": {},
   "source": [
    "##### Q7: Calculate the standard deviation of dist. What does this tell you about the distribution of numbers?"
   ]
  },
  {
   "cell_type": "code",
   "execution_count": 30,
   "metadata": {
    "collapsed": false
   },
   "outputs": [
    {
     "data": {
      "text/plain": [
       "30.948791547730522"
      ]
     },
     "execution_count": 30,
     "metadata": {},
     "output_type": "execute_result"
    }
   ],
   "source": [
    "np.std(dist)"
   ]
  },
  {
   "cell_type": "markdown",
   "metadata": {},
   "source": [
    "##### Challenge: Round the numbers of dist, and then calculate the mode of dist without using scipy!"
   ]
  },
  {
   "cell_type": "code",
   "execution_count": 34,
   "metadata": {
    "collapsed": false
   },
   "outputs": [
    {
     "data": {
      "text/plain": [
       "[33,\n",
       " 8,\n",
       " 3,\n",
       " 7,\n",
       " 11,\n",
       " 10,\n",
       " 38,\n",
       " 15,\n",
       " 47,\n",
       " 7,\n",
       " 39,\n",
       " 41,\n",
       " 20,\n",
       " 20,\n",
       " 103,\n",
       " 112,\n",
       " 22,\n",
       " 27,\n",
       " 30,\n",
       " 9,\n",
       " 20,\n",
       " 31,\n",
       " 49,\n",
       " 9,\n",
       " 11,\n",
       " 1,\n",
       " 24,\n",
       " 8,\n",
       " 28,\n",
       " 70,\n",
       " 12,\n",
       " 16,\n",
       " 1,\n",
       " 7,\n",
       " 5,\n",
       " 6,\n",
       " 16,\n",
       " 17,\n",
       " 6,\n",
       " 26,\n",
       " 24,\n",
       " 46,\n",
       " 55,\n",
       " 101,\n",
       " 23,\n",
       " 76,\n",
       " 116,\n",
       " 59,\n",
       " 11,\n",
       " 93,\n",
       " 12,\n",
       " 103,\n",
       " 10,\n",
       " 168,\n",
       " 144,\n",
       " 132,\n",
       " 134,\n",
       " 39,\n",
       " 50,\n",
       " 12,\n",
       " 27,\n",
       " 1,\n",
       " 5,\n",
       " 5,\n",
       " 24,\n",
       " 22,\n",
       " 33,\n",
       " 46,\n",
       " 46,\n",
       " 16,\n",
       " 31,\n",
       " 16,\n",
       " 7,\n",
       " 65,\n",
       " 39,\n",
       " 3,\n",
       " 8,\n",
       " 5,\n",
       " 33,\n",
       " 40,\n",
       " 23,\n",
       " 24,\n",
       " 26,\n",
       " 85,\n",
       " 26,\n",
       " 3,\n",
       " 21,\n",
       " 117,\n",
       " 67,\n",
       " 44,\n",
       " 38,\n",
       " 72,\n",
       " 161,\n",
       " 46,\n",
       " 5,\n",
       " 7,\n",
       " 13,\n",
       " 24,\n",
       " 21,\n",
       " 34,\n",
       " 34,\n",
       " 19,\n",
       " 8,\n",
       " 36,\n",
       " 2,\n",
       " 83,\n",
       " 75,\n",
       " 71,\n",
       " 33,\n",
       " 31,\n",
       " 16,\n",
       " 7,\n",
       " 11,\n",
       " 9,\n",
       " 12,\n",
       " 14,\n",
       " 39,\n",
       " 4,\n",
       " 38,\n",
       " 60,\n",
       " 78,\n",
       " 50,\n",
       " 14,\n",
       " 8,\n",
       " 19,\n",
       " 31,\n",
       " 33,\n",
       " 30,\n",
       " 28,\n",
       " 32,\n",
       " 36,\n",
       " 37,\n",
       " 10,\n",
       " 9,\n",
       " 12,\n",
       " 23,\n",
       " 32,\n",
       " 26,\n",
       " 14,\n",
       " 21,\n",
       " 24,\n",
       " 30,\n",
       " 3,\n",
       " 42,\n",
       " 20,\n",
       " 48,\n",
       " 16,\n",
       " 6,\n",
       " 19,\n",
       " 38,\n",
       " 24,\n",
       " 3,\n",
       " 27,\n",
       " 50,\n",
       " 44,\n",
       " 32,\n",
       " 39,\n",
       " 15,\n",
       " 18,\n",
       " 34,\n",
       " 32,\n",
       " 51,\n",
       " 29,\n",
       " 12,\n",
       " 75,\n",
       " 16,\n",
       " 8,\n",
       " 36,\n",
       " 44,\n",
       " 16,\n",
       " 49,\n",
       " 7,\n",
       " 8,\n",
       " 30,\n",
       " 39,\n",
       " 4,\n",
       " 7,\n",
       " 5,\n",
       " 24,\n",
       " 48,\n",
       " 92,\n",
       " 64,\n",
       " 97,\n",
       " 99,\n",
       " 18,\n",
       " 7,\n",
       " 15,\n",
       " 47,\n",
       " 41,\n",
       " 44,\n",
       " 7,\n",
       " 44,\n",
       " 10,\n",
       " 16,\n",
       " 24,\n",
       " 35,\n",
       " 20,\n",
       " 59,\n",
       " 35,\n",
       " 66,\n",
       " 75,\n",
       " 45]"
      ]
     },
     "execution_count": 34,
     "metadata": {},
     "output_type": "execute_result"
    }
   ],
   "source": [
    "dist_rounded\n"
   ]
  },
  {
   "cell_type": "code",
   "execution_count": 35,
   "metadata": {
    "collapsed": false
   },
   "outputs": [
    {
     "data": {
      "text/plain": [
       "[33.3,\n",
       " 8.0,\n",
       " 2.7,\n",
       " 7.0,\n",
       " 11.3,\n",
       " 10.2,\n",
       " 38.4,\n",
       " 14.7,\n",
       " 46.9,\n",
       " 6.6,\n",
       " 38.6,\n",
       " 41.1,\n",
       " 20.4,\n",
       " 19.5,\n",
       " 102.6,\n",
       " 111.5,\n",
       " 21.8,\n",
       " 27.0,\n",
       " 30.3,\n",
       " 9.3,\n",
       " 19.6,\n",
       " 31.1,\n",
       " 48.8,\n",
       " 8.9,\n",
       " 11.4,\n",
       " 0.6,\n",
       " 23.5,\n",
       " 8.0,\n",
       " 27.5,\n",
       " 69.7,\n",
       " 11.5,\n",
       " 15.5,\n",
       " 1.4,\n",
       " 7.0,\n",
       " 4.6,\n",
       " 6.0,\n",
       " 16.0,\n",
       " 17.2,\n",
       " 6.3,\n",
       " 26.2,\n",
       " 23.9,\n",
       " 45.9,\n",
       " 55.4,\n",
       " 100.8,\n",
       " 22.9,\n",
       " 75.5,\n",
       " 115.5,\n",
       " 58.9,\n",
       " 10.5,\n",
       " 92.6,\n",
       " 12.4,\n",
       " 102.7,\n",
       " 10.2,\n",
       " 167.6,\n",
       " 143.6,\n",
       " 132.3,\n",
       " 134.2,\n",
       " 39.4,\n",
       " 49.7,\n",
       " 12.0,\n",
       " 27.0,\n",
       " 1.3,\n",
       " 4.7,\n",
       " 5.0,\n",
       " 24.1,\n",
       " 21.5,\n",
       " 33.1,\n",
       " 45.6,\n",
       " 46.3,\n",
       " 15.8,\n",
       " 30.7,\n",
       " 15.7,\n",
       " 6.8,\n",
       " 64.6,\n",
       " 39.1,\n",
       " 2.9,\n",
       " 8.0,\n",
       " 5.4,\n",
       " 33.4,\n",
       " 40.0,\n",
       " 22.7,\n",
       " 24.2,\n",
       " 25.7,\n",
       " 85.0,\n",
       " 26.2,\n",
       " 3.3,\n",
       " 20.7,\n",
       " 117.4,\n",
       " 66.8,\n",
       " 44.3,\n",
       " 37.9,\n",
       " 71.8,\n",
       " 161.4,\n",
       " 45.9,\n",
       " 4.6,\n",
       " 6.6,\n",
       " 12.6,\n",
       " 24.4,\n",
       " 21.4,\n",
       " 33.6,\n",
       " 33.7,\n",
       " 18.8,\n",
       " 7.6,\n",
       " 36.3,\n",
       " 1.8,\n",
       " 83.2,\n",
       " 75.1,\n",
       " 71.3,\n",
       " 32.9,\n",
       " 30.6,\n",
       " 16.0,\n",
       " 6.9,\n",
       " 11.0,\n",
       " 9.4,\n",
       " 11.7,\n",
       " 13.8,\n",
       " 39.4,\n",
       " 4.3,\n",
       " 38.1,\n",
       " 60.1,\n",
       " 78.2,\n",
       " 49.6,\n",
       " 14.3,\n",
       " 8.0,\n",
       " 19.3,\n",
       " 30.8,\n",
       " 32.5,\n",
       " 29.6,\n",
       " 28.3,\n",
       " 32.4,\n",
       " 35.7,\n",
       " 36.7,\n",
       " 10.0,\n",
       " 8.5,\n",
       " 12.2,\n",
       " 22.6,\n",
       " 32.1,\n",
       " 25.7,\n",
       " 14.1,\n",
       " 20.9,\n",
       " 23.8,\n",
       " 29.5,\n",
       " 2.9,\n",
       " 42.3,\n",
       " 19.9,\n",
       " 47.5,\n",
       " 15.9,\n",
       " 6.0,\n",
       " 19.3,\n",
       " 38.2,\n",
       " 23.5,\n",
       " 2.7,\n",
       " 27.0,\n",
       " 49.9,\n",
       " 43.5,\n",
       " 31.7,\n",
       " 39.1,\n",
       " 15.1,\n",
       " 18.0,\n",
       " 33.8,\n",
       " 32.1,\n",
       " 50.7,\n",
       " 28.8,\n",
       " 11.6,\n",
       " 74.8,\n",
       " 16.2,\n",
       " 8.3,\n",
       " 36.3,\n",
       " 44.0,\n",
       " 15.6,\n",
       " 48.9,\n",
       " 7.3,\n",
       " 8.2,\n",
       " 29.8,\n",
       " 38.7,\n",
       " 3.9,\n",
       " 7.2,\n",
       " 5.1,\n",
       " 23.7,\n",
       " 48.4,\n",
       " 92.0,\n",
       " 64.3,\n",
       " 97.4,\n",
       " 99.1,\n",
       " 18.0,\n",
       " 7.1,\n",
       " 14.7,\n",
       " 47.1,\n",
       " 41.3,\n",
       " 44.2,\n",
       " 6.5,\n",
       " 44.4,\n",
       " 9.7,\n",
       " 15.5,\n",
       " 23.7,\n",
       " 34.5,\n",
       " 19.9,\n",
       " 58.6,\n",
       " 35.0,\n",
       " 66.1,\n",
       " 74.5,\n",
       " 45.2]"
      ]
     },
     "execution_count": 35,
     "metadata": {},
     "output_type": "execute_result"
    }
   ],
   "source": [
    "dist\n",
    "        "
   ]
  },
  {
   "cell_type": "code",
   "execution_count": 36,
   "metadata": {
    "collapsed": true
   },
   "outputs": [],
   "source": [
    "dist_rounded = [int(round(i)) for i in dist]\n"
   ]
  },
  {
   "cell_type": "code",
   "execution_count": 37,
   "metadata": {
    "collapsed": false
   },
   "outputs": [
    {
     "name": "stdout",
     "output_type": "stream",
     "text": [
      "[33, 8, 3, 7, 11, 10, 38, 15, 47, 7, 39, 41, 20, 20, 103, 112, 22, 27, 30, 9, 20, 31, 49, 9, 11, 1, 24, 8, 28, 70, 12, 16, 1, 7, 5, 6, 16, 17, 6, 26, 24, 46, 55, 101, 23, 76, 116, 59, 11, 93, 12, 103, 10, 168, 144, 132, 134, 39, 50, 12, 27, 1, 5, 5, 24, 22, 33, 46, 46, 16, 31, 16, 7, 65, 39, 3, 8, 5, 33, 40, 23, 24, 26, 85, 26, 3, 21, 117, 67, 44, 38, 72, 161, 46, 5, 7, 13, 24, 21, 34, 34, 19, 8, 36, 2, 83, 75, 71, 33, 31, 16, 7, 11, 9, 12, 14, 39, 4, 38, 60, 78, 50, 14, 8, 19, 31, 33, 30, 28, 32, 36, 37, 10, 9, 12, 23, 32, 26, 14, 21, 24, 30, 3, 42, 20, 48, 16, 6, 19, 38, 24, 3, 27, 50, 44, 32, 39, 15, 18, 34, 32, 51, 29, 12, 75, 16, 8, 36, 44, 16, 49, 7, 8, 30, 39, 4, 7, 5, 24, 48, 92, 64, 97, 99, 18, 7, 15, 47, 41, 44, 7, 44, 10, 16, 24, 35, 20, 59, 35, 66, 75, 45]\n"
     ]
    }
   ],
   "source": [
    "print dist_rounded"
   ]
  },
  {
   "cell_type": "code",
   "execution_count": 41,
   "metadata": {
    "collapsed": false
   },
   "outputs": [
    {
     "name": "stdout",
     "output_type": "stream",
     "text": [
      "202\n"
     ]
    }
   ],
   "source": [
    "count=0\n",
    "for num in dist_rounded:\n",
    "    count=count+1\n",
    "print count\n",
    "    \n",
    "        "
   ]
  },
  {
   "cell_type": "code",
   "execution_count": 42,
   "metadata": {
    "collapsed": false
   },
   "outputs": [
    {
     "data": {
      "text/plain": [
       "202"
      ]
     },
     "execution_count": 42,
     "metadata": {},
     "output_type": "execute_result"
    }
   ],
   "source": [
    "len(dist_rounded)"
   ]
  },
  {
   "cell_type": "code",
   "execution_count": null,
   "metadata": {
    "collapsed": true
   },
   "outputs": [],
   "source": [
    "for "
   ]
  }
 ],
 "metadata": {
  "anaconda-cloud": {},
  "kernelspec": {
   "display_name": "Python [default]",
   "language": "python",
   "name": "python2"
  },
  "language_info": {
   "codemirror_mode": {
    "name": "ipython",
    "version": 2
   },
   "file_extension": ".py",
   "mimetype": "text/x-python",
   "name": "python",
   "nbconvert_exporter": "python",
   "pygments_lexer": "ipython2",
   "version": "2.7.12"
  }
 },
 "nbformat": 4,
 "nbformat_minor": 0
}
